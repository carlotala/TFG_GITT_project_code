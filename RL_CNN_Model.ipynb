{
 "cells": [
  {
   "cell_type": "code",
   "execution_count": 1,
   "metadata": {},
   "outputs": [],
   "source": [
    "# libraries\n",
    "import numpy as np\n",
    "\n",
    "from keras.models import Sequential\n",
    "from keras.layers import Dense\n",
    "from keras.layers import Flatten, Dropout\n",
    "from keras.layers.convolutional import Conv1D\n",
    "from keras.layers.convolutional import MaxPooling1D\n",
    "from keras.optimizers import Adam\n",
    "from keras.utils import to_categorical\n",
    "\n",
    "from sklearn.metrics import (confusion_matrix, accuracy_score, classification_report,ConfusionMatrixDisplay)\n",
    "from sklearn.preprocessing import MinMaxScaler\n",
    "\n",
    "import collections\n",
    "\n",
    "import gym\n",
    "import random\n",
    "\n",
    "import matplotlib.pyplot as plt\n",
    "import plotly.figure_factory as ff\n",
    "\n",
    "import os\n",
    "import scipy.io as sio\n",
    "from scipy.fft import fft\n"
   ]
  },
  {
   "attachments": {},
   "cell_type": "markdown",
   "metadata": {},
   "source": [
    "### DDQN model with CNN:"
   ]
  },
  {
   "cell_type": "code",
   "execution_count": 2,
   "metadata": {},
   "outputs": [],
   "source": [
    "# load the dataset, returns train and test X and y elements\n",
    "def load_dataset():\n",
    "\n",
    "\t# load all data\n",
    "\twith open('data/processed/trainX.npy', 'rb') as f:\n",
    "\t\ttrainX = np.load(f)\n",
    "\twith open('data/processed/trainy.npy', 'rb') as f:\n",
    "\t\ttrainy = np.load(f)\n",
    "\twith open('data/processed/testX.npy', 'rb') as f:\n",
    "\t\ttestX = np.load(f)\n",
    "\twith open('data/processed/testy.npy', 'rb') as f:\n",
    "\t\ttesty = np.load(f)\n",
    "\t\n",
    "\tprint(trainX.shape, trainy.shape, testX.shape, testy.shape)\n",
    "\t\n",
    "\treturn trainX, trainy, testX, testy"
   ]
  },
  {
   "cell_type": "code",
   "execution_count": 3,
   "metadata": {},
   "outputs": [],
   "source": [
    "# define model\n",
    "def get_model(trainX, trainy, learning_rate):\n",
    "    n_timesteps, n_features, n_outputs = trainX.shape[1], trainX.shape[2], trainy.shape[1]\n",
    "    \n",
    "    model = Sequential()\n",
    "    model.add(Conv1D(filters=3, kernel_size=5, activation='relu',input_shape=(n_timesteps,n_features)))\n",
    "    model.add(MaxPooling1D(pool_size=2))\n",
    "    model.add(Conv1D(filters=12, kernel_size=2, activation='relu'))\n",
    "    model.add(MaxPooling1D(pool_size=2))\n",
    "    model.add(Flatten())\n",
    "    model.add(Dense(128, activation='relu'))\n",
    "    model.add(Dense(n_outputs, activation='softmax'))\n",
    "\n",
    "    model.compile(optimizer=Adam(learning_rate=learning_rate), loss='mse', metrics=['accuracy'])\n",
    "    \n",
    "    return model"
   ]
  },
  {
   "cell_type": "code",
   "execution_count": 4,
   "metadata": {},
   "outputs": [],
   "source": [
    "Experience = collections.namedtuple('Experience', \n",
    "           field_names=['state', 'action', 'reward', \n",
    "           'new_state', 'done'])\n",
    "           \n",
    "class ExperiencePool:\n",
    "    def __init__(self, capacity):\n",
    "        self.buffer = collections.deque(maxlen=capacity)\n",
    "        self.pool_counter= 0\n",
    "\n",
    "    def __len__(self):\n",
    "        return len(self.buffer)\n",
    "\n",
    "    def append(self, experience):\n",
    "        self.buffer.append(experience)\n",
    "        self.pool_counter += 1\n",
    "    \n",
    "    def sample(self, batch_size):\n",
    "        indices = np.random.choice(len(self.buffer), batch_size, replace=False)\n",
    "        states, actions, rewards, next_states, dones = zip(*[self.buffer[idx] for idx in indices])\n",
    "        return np.array(states), np.array(actions), \\\n",
    "                np.array(rewards,dtype=np.float32), \\\n",
    "                np.array(next_states), \\\n",
    "                np.array(dones, dtype=np.uint8)"
   ]
  },
  {
   "cell_type": "code",
   "execution_count": 5,
   "metadata": {},
   "outputs": [],
   "source": [
    "class DDQNAgent(object):\n",
    "    def __init__(self, learning_rate, discount_factor, action_space,\n",
    "                 trainX, trainy, batch_size,\n",
    "                 epsilon_decay, epsilon_min, epsilon_0,\n",
    "                 mem_size, replace_target):\n",
    "        \n",
    "        self.action_space = action_space\n",
    "        self.n_actions = 3\n",
    "        self.gamma = discount_factor\n",
    "\n",
    "        self.epsilon_min = epsilon_min\n",
    "        self.epsilon_0 = epsilon_0\n",
    "        self.epsilon_decay = epsilon_decay\n",
    "        self.epsilon = self.epsilon_min + (self.epsilon_0-self.epsilon_min)*np.exp(-self.epsilon_decay)\n",
    "        self.reward_count = 0\n",
    "\n",
    "        self.batch_size = batch_size\n",
    "        self.replace_target = replace_target\n",
    "        self.pool = ExperiencePool(mem_size)\n",
    "        \n",
    "        self.q_policy = get_model(trainX, trainy, learning_rate)\n",
    "        self.q_target = get_model(trainX, trainy, learning_rate)\n",
    "        self.update_network_parameters()\n",
    "\n",
    "    def update_epsilon(self):\n",
    "        self.epsilon = self.epsilon_min + (self.epsilon_0-self.epsilon_min)*np.exp(-self.epsilon_decay*self.episode_count)\n",
    "\n",
    "    def reset_pool(self, mem_size):\n",
    "        self.pool = ExperiencePool(mem_size)\n",
    "\n",
    "    def set_episode_count(self, episode_count):\n",
    "        self.episode_count = episode_count\n",
    "\n",
    "    def add_experience(self, experience): #state, action, reward, new_state, done\n",
    "        self.pool.append(experience) #state, action, reward, new_state, done\n",
    "\n",
    "    def choose_action(self, state):\n",
    "        state = state[np.newaxis, :]\n",
    "        rand = np.random.random()\n",
    "        if rand < self.epsilon:\n",
    "            action = np.random.choice(self.action_space)\n",
    "        else:\n",
    "            actions = self.q_policy.predict(state,verbose=0)\n",
    "            action = np.argmax(actions)\n",
    "\n",
    "        return action\n",
    "\n",
    "    def learn(self):\n",
    "        if self.pool.pool_counter >= self.batch_size:\n",
    "            states, actions, rewards, new_states, dones = self.pool.sample(self.batch_size)\n",
    "\n",
    "            q_next_target = self.q_target.predict(new_states, verbose=0)\n",
    "            q_policy_next = self.q_policy.predict(new_states, verbose=0)\n",
    "            q_policy_pred = self.q_policy.predict(states, verbose=0)\n",
    "\n",
    "            max_actions = np.argmax(q_policy_next, axis=1)\n",
    "\n",
    "            y_j = q_policy_pred\n",
    "\n",
    "            batch_index = np.arange(self.batch_size, dtype=np.int32)\n",
    "            \n",
    "            y_j[batch_index, actions] = rewards + \\\n",
    "                    self.gamma*q_next_target[batch_index, max_actions.astype(int)]*dones\n",
    "\n",
    "            history = self.q_policy.fit(states, y_j, verbose=2)\n",
    "            \n",
    "            if self.episode_count % self.replace_target == 0:\n",
    "                self.update_network_parameters()\n",
    "\n",
    "            return history.history['accuracy'], history.history['loss']\n",
    "        return 0,0\n",
    "\n",
    "    def update_network_parameters(self):\n",
    "        self.q_target.set_weights(self.q_policy.get_weights())"
   ]
  },
  {
   "cell_type": "code",
   "execution_count": 6,
   "metadata": {},
   "outputs": [],
   "source": [
    "class PowerPlantEnv(gym.Env):\n",
    "    def __init__(self, dataset):\n",
    "        super().__init__()\n",
    "        self.action_space = gym.spaces.Discrete(3) # 3 classes\n",
    "        self.x, self.y = dataset\n",
    "\n",
    "    def step(self, action):\n",
    "        if action == self.expected_action:\n",
    "            reward = 1\n",
    "        else:\n",
    "            reward = -1\n",
    "            \n",
    "        obs = self._next_obs()\n",
    "\n",
    "        return obs, reward, False, {}\n",
    "\n",
    "    def _next_obs(self):\n",
    "        next_obs_idx = random.randint(0, len(self.x) - 1)\n",
    "        self.expected_action = np.argmax(self.y[next_obs_idx])\n",
    "        obs = self.x[next_obs_idx]\n",
    "\n",
    "        return obs\n"
   ]
  },
  {
   "attachments": {},
   "cell_type": "markdown",
   "metadata": {},
   "source": [
    "Training:"
   ]
  },
  {
   "cell_type": "code",
   "execution_count": 14,
   "metadata": {},
   "outputs": [
    {
     "name": "stdout",
     "output_type": "stream",
     "text": [
      "(49209, 512, 2) (49209, 3) (10545, 512, 2) (10545, 3)\n",
      "\n",
      ">> Episode:  1 / 900\n",
      "2/2 - 1s - loss: 0.4406 - accuracy: 0.3750 - 517ms/epoch - 258ms/step\n",
      "Cummulative reward:  -20\n",
      "\n",
      ">> Episode:  2 / 900\n",
      "2/2 - 0s - loss: 0.4696 - accuracy: 0.3750 - 69ms/epoch - 34ms/step\n",
      "Cummulative reward:  -26\n",
      "\n",
      ">> Episode:  3 / 900\n",
      "2/2 - 0s - loss: 0.4715 - accuracy: 0.3125 - 71ms/epoch - 35ms/step\n",
      "Cummulative reward:  -26\n",
      "\n",
      ">> Episode:  4 / 900\n",
      "2/2 - 0s - loss: 0.4497 - accuracy: 0.3906 - 71ms/epoch - 35ms/step\n",
      "Cummulative reward:  -22\n",
      "\n",
      ">> Episode:  5 / 900\n",
      "2/2 - 0s - loss: 0.4687 - accuracy: 0.4062 - 68ms/epoch - 34ms/step\n",
      "Cummulative reward:  -28\n",
      "\n",
      ">> Episode:  6 / 900\n",
      "2/2 - 0s - loss: 0.4350 - accuracy: 0.3438 - 67ms/epoch - 33ms/step\n",
      "Cummulative reward:  -18\n",
      "\n",
      ">> Episode:  7 / 900\n",
      "2/2 - 0s - loss: 0.3772 - accuracy: 0.4531 - 70ms/epoch - 35ms/step\n",
      "Cummulative reward:  -2\n",
      "\n",
      ">> Episode:  8 / 900\n",
      "2/2 - 0s - loss: 0.4269 - accuracy: 0.4062 - 73ms/epoch - 36ms/step\n",
      "Cummulative reward:  -16\n",
      "\n",
      ">> Episode:  9 / 900\n",
      "2/2 - 0s - loss: 0.4115 - accuracy: 0.4062 - 69ms/epoch - 34ms/step\n",
      "Cummulative reward:  -12\n",
      "\n",
      ">> Episode:  10 / 900\n",
      "2/2 - 0s - loss: 0.4117 - accuracy: 0.3906 - 71ms/epoch - 35ms/step\n",
      "Cummulative reward:  -12\n",
      "\n",
      ">> Episode:  11 / 900\n",
      "2/2 - 0s - loss: 0.4060 - accuracy: 0.4219 - 70ms/epoch - 35ms/step\n",
      "Cummulative reward:  -10\n",
      "\n",
      ">> Episode:  12 / 900\n",
      "2/2 - 0s - loss: 0.3848 - accuracy: 0.5156 - 71ms/epoch - 35ms/step\n",
      "Cummulative reward:  -4\n",
      "\n",
      ">> Episode:  13 / 900\n",
      "2/2 - 0s - loss: 0.3494 - accuracy: 0.6250 - 72ms/epoch - 36ms/step\n",
      "Cummulative reward:  6\n",
      "\n",
      ">> Episode:  14 / 900\n",
      "2/2 - 0s - loss: 0.3635 - accuracy: 0.5156 - 69ms/epoch - 34ms/step\n",
      "Cummulative reward:  2\n",
      "\n",
      ">> Episode:  15 / 900\n",
      "2/2 - 0s - loss: 0.4054 - accuracy: 0.4219 - 69ms/epoch - 34ms/step\n",
      "Cummulative reward:  -10\n",
      "\n",
      ">> Episode:  16 / 900\n",
      "2/2 - 0s - loss: 0.3772 - accuracy: 0.5781 - 67ms/epoch - 33ms/step\n",
      "Cummulative reward:  -2\n",
      "\n",
      ">> Episode:  17 / 900\n",
      "2/2 - 0s - loss: 0.3425 - accuracy: 0.5781 - 68ms/epoch - 34ms/step\n",
      "Cummulative reward:  8\n",
      "\n",
      ">> Episode:  18 / 900\n",
      "2/2 - 0s - loss: 0.4188 - accuracy: 0.3906 - 69ms/epoch - 34ms/step\n",
      "Cummulative reward:  -14\n",
      "\n",
      ">> Episode:  19 / 900\n",
      "2/2 - 0s - loss: 0.3570 - accuracy: 0.5000 - 67ms/epoch - 33ms/step\n",
      "Cummulative reward:  4\n",
      "\n",
      ">> Episode:  20 / 900\n",
      "2/2 - 0s - loss: 0.3280 - accuracy: 0.6094 - 71ms/epoch - 35ms/step\n",
      "Cummulative reward:  12\n",
      "\n",
      ">> Episode:  21 / 900\n",
      "2/2 - 0s - loss: 0.4255 - accuracy: 0.3750 - 68ms/epoch - 34ms/step\n",
      "Cummulative reward:  -16\n",
      "\n",
      ">> Episode:  22 / 900\n",
      "2/2 - 0s - loss: 0.4192 - accuracy: 0.3750 - 69ms/epoch - 34ms/step\n",
      "Cummulative reward:  -14\n",
      "\n",
      ">> Episode:  23 / 900\n",
      "2/2 - 0s - loss: 0.3627 - accuracy: 0.5469 - 70ms/epoch - 35ms/step\n",
      "Cummulative reward:  2\n",
      "\n",
      ">> Episode:  24 / 900\n",
      "2/2 - 0s - loss: 0.3141 - accuracy: 0.5938 - 67ms/epoch - 33ms/step\n",
      "Cummulative reward:  16\n",
      "\n",
      ">> Episode:  25 / 900\n",
      "2/2 - 0s - loss: 0.3353 - accuracy: 0.5625 - 68ms/epoch - 34ms/step\n",
      "Cummulative reward:  10\n",
      "\n",
      ">> Episode:  26 / 900\n",
      "2/2 - 0s - loss: 0.3628 - accuracy: 0.6250 - 68ms/epoch - 34ms/step\n",
      "Cummulative reward:  2\n",
      "\n",
      ">> Episode:  27 / 900\n",
      "2/2 - 0s - loss: 0.3418 - accuracy: 0.5156 - 74ms/epoch - 37ms/step\n",
      "Cummulative reward:  8\n",
      "\n",
      ">> Episode:  28 / 900\n",
      "2/2 - 0s - loss: 0.3416 - accuracy: 0.5625 - 70ms/epoch - 35ms/step\n",
      "Cummulative reward:  8\n",
      "\n",
      ">> Episode:  29 / 900\n",
      "2/2 - 0s - loss: 0.3758 - accuracy: 0.5156 - 70ms/epoch - 35ms/step\n",
      "Cummulative reward:  -2\n",
      "\n",
      ">> Episode:  30 / 900\n",
      "2/2 - 0s - loss: 0.3768 - accuracy: 0.5312 - 71ms/epoch - 35ms/step\n",
      "Cummulative reward:  -2\n",
      "\n",
      ">> Episode:  31 / 900\n",
      "2/2 - 0s - loss: 0.3562 - accuracy: 0.5469 - 67ms/epoch - 33ms/step\n",
      "Cummulative reward:  4\n",
      "\n",
      ">> Episode:  32 / 900\n",
      "2/2 - 0s - loss: 0.3465 - accuracy: 0.5469 - 68ms/epoch - 34ms/step\n",
      "Cummulative reward:  6\n",
      "\n",
      ">> Episode:  33 / 900\n",
      "2/2 - 0s - loss: 0.3757 - accuracy: 0.5781 - 70ms/epoch - 35ms/step\n",
      "Cummulative reward:  -2\n",
      "\n",
      ">> Episode:  34 / 900\n",
      "2/2 - 0s - loss: 0.3605 - accuracy: 0.5312 - 69ms/epoch - 34ms/step\n",
      "Cummulative reward:  2\n",
      "\n",
      ">> Episode:  35 / 900\n",
      "2/2 - 0s - loss: 0.3832 - accuracy: 0.5312 - 73ms/epoch - 36ms/step\n",
      "Cummulative reward:  -4\n",
      "\n",
      ">> Episode:  36 / 900\n",
      "2/2 - 0s - loss: 0.3543 - accuracy: 0.5312 - 70ms/epoch - 35ms/step\n",
      "Cummulative reward:  4\n",
      "\n",
      ">> Episode:  37 / 900\n",
      "2/2 - 0s - loss: 0.3375 - accuracy: 0.5781 - 68ms/epoch - 34ms/step\n",
      "Cummulative reward:  8\n",
      "\n",
      ">> Episode:  38 / 900\n",
      "2/2 - 0s - loss: 0.3897 - accuracy: 0.4688 - 72ms/epoch - 36ms/step\n",
      "Cummulative reward:  -6\n",
      "\n",
      ">> Episode:  39 / 900\n",
      "2/2 - 0s - loss: 0.3511 - accuracy: 0.5156 - 68ms/epoch - 34ms/step\n",
      "Cummulative reward:  4\n",
      "\n",
      ">> Episode:  40 / 900\n",
      "2/2 - 0s - loss: 0.3728 - accuracy: 0.5156 - 71ms/epoch - 35ms/step\n",
      "Cummulative reward:  -2\n",
      "\n",
      ">> Episode:  41 / 900\n",
      "2/2 - 0s - loss: 0.3640 - accuracy: 0.5000 - 71ms/epoch - 35ms/step\n",
      "Cummulative reward:  0\n",
      "\n",
      ">> Episode:  42 / 900\n",
      "2/2 - 0s - loss: 0.3684 - accuracy: 0.5000 - 72ms/epoch - 36ms/step\n",
      "Cummulative reward:  0\n",
      "\n",
      ">> Episode:  43 / 900\n",
      "2/2 - 0s - loss: 0.3899 - accuracy: 0.4844 - 72ms/epoch - 36ms/step\n",
      "Cummulative reward:  -6\n",
      "\n",
      ">> Episode:  44 / 900\n",
      "2/2 - 0s - loss: 0.3350 - accuracy: 0.5938 - 70ms/epoch - 35ms/step\n",
      "Cummulative reward:  10\n",
      "\n",
      ">> Episode:  45 / 900\n",
      "2/2 - 0s - loss: 0.3276 - accuracy: 0.5781 - 71ms/epoch - 35ms/step\n",
      "Cummulative reward:  10\n",
      "\n",
      ">> Episode:  46 / 900\n",
      "2/2 - 0s - loss: 0.3430 - accuracy: 0.5312 - 68ms/epoch - 34ms/step\n",
      "Cummulative reward:  6\n",
      "\n",
      ">> Episode:  47 / 900\n",
      "2/2 - 0s - loss: 0.3638 - accuracy: 0.5000 - 72ms/epoch - 36ms/step\n",
      "Cummulative reward:  0\n",
      "\n",
      ">> Episode:  48 / 900\n",
      "2/2 - 0s - loss: 0.3635 - accuracy: 0.5000 - 74ms/epoch - 37ms/step\n",
      "Cummulative reward:  0\n",
      "\n",
      ">> Episode:  49 / 900\n",
      "2/2 - 0s - loss: 0.3040 - accuracy: 0.6094 - 72ms/epoch - 36ms/step\n",
      "Cummulative reward:  14\n",
      "\n",
      ">> Episode:  50 / 900\n",
      "2/2 - 0s - loss: 0.3478 - accuracy: 0.5469 - 71ms/epoch - 35ms/step\n",
      "Cummulative reward:  4\n",
      "\n",
      ">> Episode:  51 / 900\n",
      "2/2 - 0s - loss: 0.3950 - accuracy: 0.4688 - 71ms/epoch - 35ms/step\n",
      "Cummulative reward:  -8\n",
      "\n",
      ">> Episode:  52 / 900\n",
      "2/2 - 0s - loss: 0.4131 - accuracy: 0.4375 - 70ms/epoch - 35ms/step\n",
      "Cummulative reward:  -12\n",
      "\n",
      ">> Episode:  53 / 900\n",
      "2/2 - 0s - loss: 0.3365 - accuracy: 0.6250 - 71ms/epoch - 35ms/step\n",
      "Cummulative reward:  6\n",
      "\n",
      ">> Episode:  54 / 900\n",
      "2/2 - 0s - loss: 0.2938 - accuracy: 0.6562 - 74ms/epoch - 37ms/step\n",
      "Cummulative reward:  18\n",
      "\n",
      ">> Episode:  55 / 900\n",
      "2/2 - 0s - loss: 0.3343 - accuracy: 0.5625 - 72ms/epoch - 36ms/step\n",
      "Cummulative reward:  8\n",
      "\n",
      ">> Episode:  56 / 900\n",
      "2/2 - 0s - loss: 0.3764 - accuracy: 0.4688 - 73ms/epoch - 36ms/step\n",
      "Cummulative reward:  -4\n",
      "\n",
      ">> Episode:  57 / 900\n",
      "2/2 - 0s - loss: 0.3473 - accuracy: 0.5938 - 72ms/epoch - 36ms/step\n",
      "Cummulative reward:  6\n",
      "\n",
      ">> Episode:  58 / 900\n",
      "2/2 - 0s - loss: 0.3206 - accuracy: 0.6094 - 74ms/epoch - 37ms/step\n",
      "Cummulative reward:  12\n",
      "\n",
      ">> Episode:  59 / 900\n",
      "2/2 - 0s - loss: 0.3581 - accuracy: 0.5625 - 74ms/epoch - 37ms/step\n",
      "Cummulative reward:  2\n",
      "\n",
      ">> Episode:  60 / 900\n",
      "2/2 - 0s - loss: 0.3655 - accuracy: 0.4844 - 71ms/epoch - 35ms/step\n",
      "Cummulative reward:  -2\n",
      "\n",
      ">> Episode:  61 / 900\n",
      "2/2 - 0s - loss: 0.2927 - accuracy: 0.6562 - 72ms/epoch - 36ms/step\n",
      "Cummulative reward:  18\n",
      "\n",
      ">> Episode:  62 / 900\n",
      "2/2 - 0s - loss: 0.3266 - accuracy: 0.5625 - 73ms/epoch - 36ms/step\n",
      "Cummulative reward:  10\n",
      "\n",
      ">> Episode:  63 / 900\n",
      "2/2 - 0s - loss: 0.3215 - accuracy: 0.5625 - 72ms/epoch - 36ms/step\n",
      "Cummulative reward:  8\n",
      "\n",
      ">> Episode:  64 / 900\n",
      "2/2 - 0s - loss: 0.4093 - accuracy: 0.4375 - 75ms/epoch - 37ms/step\n",
      "Cummulative reward:  -12\n",
      "\n",
      ">> Episode:  65 / 900\n",
      "2/2 - 0s - loss: 0.3680 - accuracy: 0.5156 - 73ms/epoch - 36ms/step\n",
      "Cummulative reward:  -2\n",
      "\n",
      ">> Episode:  66 / 900\n",
      "2/2 - 0s - loss: 0.3763 - accuracy: 0.4375 - 74ms/epoch - 37ms/step\n",
      "Cummulative reward:  -4\n",
      "\n",
      ">> Episode:  67 / 900\n",
      "2/2 - 0s - loss: 0.3486 - accuracy: 0.5312 - 75ms/epoch - 37ms/step\n",
      "Cummulative reward:  0\n",
      "\n",
      ">> Episode:  68 / 900\n",
      "2/2 - 0s - loss: 0.3452 - accuracy: 0.5625 - 74ms/epoch - 37ms/step\n",
      "Cummulative reward:  4\n",
      "\n",
      ">> Episode:  69 / 900\n",
      "2/2 - 0s - loss: 0.4232 - accuracy: 0.3906 - 72ms/epoch - 36ms/step\n",
      "Cummulative reward:  -18\n",
      "\n",
      ">> Episode:  70 / 900\n",
      "2/2 - 0s - loss: 0.3720 - accuracy: 0.4844 - 72ms/epoch - 36ms/step\n",
      "Cummulative reward:  -4\n",
      "\n",
      ">> Episode:  71 / 900\n",
      "2/2 - 0s - loss: 0.3604 - accuracy: 0.5156 - 74ms/epoch - 37ms/step\n",
      "Cummulative reward:  0\n",
      "\n",
      ">> Episode:  72 / 900\n",
      "2/2 - 0s - loss: 0.3461 - accuracy: 0.5469 - 76ms/epoch - 38ms/step\n",
      "Cummulative reward:  4\n",
      "\n",
      ">> Episode:  73 / 900\n",
      "2/2 - 0s - loss: 0.3033 - accuracy: 0.6250 - 75ms/epoch - 37ms/step\n",
      "Cummulative reward:  14\n",
      "\n",
      ">> Episode:  74 / 900\n",
      "2/2 - 0s - loss: 0.3403 - accuracy: 0.5625 - 76ms/epoch - 38ms/step\n",
      "Cummulative reward:  8\n",
      "\n",
      ">> Episode:  75 / 900\n",
      "2/2 - 0s - loss: 0.3840 - accuracy: 0.4688 - 75ms/epoch - 37ms/step\n",
      "Cummulative reward:  -6\n",
      "\n",
      ">> Episode:  76 / 900\n",
      "2/2 - 0s - loss: 0.3020 - accuracy: 0.6562 - 73ms/epoch - 36ms/step\n",
      "Cummulative reward:  18\n",
      "\n",
      ">> Episode:  77 / 900\n",
      "2/2 - 0s - loss: 0.3386 - accuracy: 0.5938 - 73ms/epoch - 36ms/step\n",
      "Cummulative reward:  6\n",
      "\n",
      ">> Episode:  78 / 900\n",
      "2/2 - 0s - loss: 0.3664 - accuracy: 0.4844 - 76ms/epoch - 38ms/step\n",
      "Cummulative reward:  -2\n",
      "\n",
      ">> Episode:  79 / 900\n",
      "2/2 - 0s - loss: 0.3072 - accuracy: 0.5938 - 73ms/epoch - 36ms/step\n",
      "Cummulative reward:  14\n",
      "\n",
      ">> Episode:  80 / 900\n",
      "2/2 - 0s - loss: 0.3317 - accuracy: 0.5938 - 73ms/epoch - 36ms/step\n",
      "Cummulative reward:  6\n",
      "\n",
      ">> Episode:  81 / 900\n",
      "2/2 - 0s - loss: 0.2995 - accuracy: 0.6406 - 75ms/epoch - 37ms/step\n",
      "Cummulative reward:  14\n",
      "\n",
      ">> Episode:  82 / 900\n",
      "2/2 - 0s - loss: 0.3366 - accuracy: 0.5469 - 73ms/epoch - 36ms/step\n",
      "Cummulative reward:  6\n",
      "\n",
      ">> Episode:  83 / 900\n",
      "2/2 - 0s - loss: 0.3018 - accuracy: 0.6406 - 74ms/epoch - 37ms/step\n",
      "Cummulative reward:  16\n",
      "\n",
      ">> Episode:  84 / 900\n",
      "2/2 - 0s - loss: 0.3753 - accuracy: 0.4844 - 76ms/epoch - 38ms/step\n",
      "Cummulative reward:  -2\n",
      "\n",
      ">> Episode:  85 / 900\n",
      "2/2 - 0s - loss: 0.3490 - accuracy: 0.5312 - 73ms/epoch - 36ms/step\n",
      "Cummulative reward:  4\n",
      "\n",
      ">> Episode:  86 / 900\n",
      "2/2 - 0s - loss: 0.2964 - accuracy: 0.6094 - 75ms/epoch - 37ms/step\n",
      "Cummulative reward:  14\n",
      "\n",
      ">> Episode:  87 / 900\n",
      "2/2 - 0s - loss: 0.3618 - accuracy: 0.5000 - 77ms/epoch - 38ms/step\n",
      "Cummulative reward:  0\n",
      "\n",
      ">> Episode:  88 / 900\n",
      "2/2 - 0s - loss: 0.3064 - accuracy: 0.5938 - 74ms/epoch - 37ms/step\n",
      "Cummulative reward:  12\n",
      "\n",
      ">> Episode:  89 / 900\n",
      "2/2 - 0s - loss: 0.3195 - accuracy: 0.6094 - 75ms/epoch - 37ms/step\n",
      "Cummulative reward:  12\n",
      "\n",
      ">> Episode:  90 / 900\n",
      "2/2 - 0s - loss: 0.3294 - accuracy: 0.5625 - 74ms/epoch - 37ms/step\n",
      "Cummulative reward:  8\n",
      "\n",
      ">> Episode:  91 / 900\n",
      "2/2 - 0s - loss: 0.2686 - accuracy: 0.6875 - 77ms/epoch - 38ms/step\n",
      "Cummulative reward:  24\n",
      "\n",
      ">> Episode:  92 / 900\n",
      "2/2 - 0s - loss: 0.3088 - accuracy: 0.5938 - 77ms/epoch - 38ms/step\n",
      "Cummulative reward:  14\n",
      "\n",
      ">> Episode:  93 / 900\n",
      "2/2 - 0s - loss: 0.2648 - accuracy: 0.6875 - 74ms/epoch - 37ms/step\n",
      "Cummulative reward:  22\n",
      "\n",
      ">> Episode:  94 / 900\n",
      "2/2 - 0s - loss: 0.3279 - accuracy: 0.5938 - 74ms/epoch - 37ms/step\n",
      "Cummulative reward:  10\n",
      "\n",
      ">> Episode:  95 / 900\n",
      "2/2 - 0s - loss: 0.3201 - accuracy: 0.5781 - 77ms/epoch - 38ms/step\n",
      "Cummulative reward:  10\n",
      "\n",
      ">> Episode:  96 / 900\n",
      "2/2 - 0s - loss: 0.3567 - accuracy: 0.5156 - 78ms/epoch - 39ms/step\n",
      "Cummulative reward:  0\n",
      "\n",
      ">> Episode:  97 / 900\n",
      "2/2 - 0s - loss: 0.3490 - accuracy: 0.5469 - 76ms/epoch - 38ms/step\n",
      "Cummulative reward:  6\n",
      "\n",
      ">> Episode:  98 / 900\n",
      "2/2 - 0s - loss: 0.2564 - accuracy: 0.6875 - 77ms/epoch - 38ms/step\n",
      "Cummulative reward:  26\n",
      "\n",
      ">> Episode:  99 / 900\n",
      "2/2 - 0s - loss: 0.2784 - accuracy: 0.7188 - 78ms/epoch - 39ms/step\n",
      "Cummulative reward:  22\n",
      "\n",
      ">> Episode:  100 / 900\n",
      "2/2 - 0s - loss: 0.3409 - accuracy: 0.5469 - 75ms/epoch - 37ms/step\n",
      "Cummulative reward:  6\n",
      "\n",
      ">> Episode:  101 / 900\n",
      "2/2 - 0s - loss: 0.3463 - accuracy: 0.5156 - 79ms/epoch - 39ms/step\n",
      "Cummulative reward:  2\n",
      "\n",
      ">> Episode:  102 / 900\n",
      "2/2 - 0s - loss: 0.2928 - accuracy: 0.6250 - 77ms/epoch - 38ms/step\n",
      "Cummulative reward:  16\n",
      "\n",
      ">> Episode:  103 / 900\n",
      "2/2 - 0s - loss: 0.3612 - accuracy: 0.5312 - 77ms/epoch - 38ms/step\n",
      "Cummulative reward:  2\n",
      "\n",
      ">> Episode:  104 / 900\n",
      "2/2 - 0s - loss: 0.3626 - accuracy: 0.5156 - 78ms/epoch - 39ms/step\n",
      "Cummulative reward:  0\n",
      "\n",
      ">> Episode:  105 / 900\n",
      "2/2 - 0s - loss: 0.3397 - accuracy: 0.5781 - 78ms/epoch - 39ms/step\n",
      "Cummulative reward:  8\n",
      "\n",
      ">> Episode:  106 / 900\n",
      "2/2 - 0s - loss: 0.3220 - accuracy: 0.6094 - 79ms/epoch - 39ms/step\n",
      "Cummulative reward:  10\n",
      "\n",
      ">> Episode:  107 / 900\n",
      "2/2 - 0s - loss: 0.3117 - accuracy: 0.5938 - 119ms/epoch - 59ms/step\n",
      "Cummulative reward:  10\n",
      "\n",
      ">> Episode:  108 / 900\n",
      "2/2 - 0s - loss: 0.2904 - accuracy: 0.6719 - 74ms/epoch - 37ms/step\n",
      "Cummulative reward:  18\n",
      "\n",
      ">> Episode:  109 / 900\n",
      "2/2 - 0s - loss: 0.3095 - accuracy: 0.6250 - 77ms/epoch - 38ms/step\n",
      "Cummulative reward:  16\n",
      "\n",
      ">> Episode:  110 / 900\n",
      "2/2 - 0s - loss: 0.2886 - accuracy: 0.6406 - 76ms/epoch - 38ms/step\n",
      "Cummulative reward:  20\n",
      "\n",
      ">> Episode:  111 / 900\n",
      "2/2 - 0s - loss: 0.3169 - accuracy: 0.6094 - 78ms/epoch - 39ms/step\n",
      "Cummulative reward:  12\n",
      "\n",
      ">> Episode:  112 / 900\n",
      "2/2 - 0s - loss: 0.2913 - accuracy: 0.6094 - 76ms/epoch - 38ms/step\n",
      "Cummulative reward:  14\n",
      "\n",
      ">> Episode:  113 / 900\n",
      "2/2 - 0s - loss: 0.2864 - accuracy: 0.6094 - 78ms/epoch - 39ms/step\n",
      "Cummulative reward:  16\n",
      "\n",
      ">> Episode:  114 / 900\n",
      "2/2 - 0s - loss: 0.3866 - accuracy: 0.4844 - 76ms/epoch - 38ms/step\n",
      "Cummulative reward:  -4\n",
      "\n",
      ">> Episode:  115 / 900\n",
      "2/2 - 0s - loss: 0.3475 - accuracy: 0.5312 - 85ms/epoch - 42ms/step\n",
      "Cummulative reward:  2\n",
      "\n",
      ">> Episode:  116 / 900\n",
      "2/2 - 0s - loss: 0.3099 - accuracy: 0.6562 - 79ms/epoch - 39ms/step\n",
      "Cummulative reward:  14\n",
      "\n",
      ">> Episode:  117 / 900\n",
      "2/2 - 0s - loss: 0.3467 - accuracy: 0.5469 - 81ms/epoch - 40ms/step\n",
      "Cummulative reward:  6\n",
      "\n",
      ">> Episode:  118 / 900\n",
      "2/2 - 0s - loss: 0.2664 - accuracy: 0.7344 - 77ms/epoch - 38ms/step\n",
      "Cummulative reward:  26\n",
      "\n",
      ">> Episode:  119 / 900\n",
      "2/2 - 0s - loss: 0.2854 - accuracy: 0.6562 - 82ms/epoch - 41ms/step\n",
      "Cummulative reward:  18\n",
      "\n",
      ">> Episode:  120 / 900\n",
      "2/2 - 0s - loss: 0.2677 - accuracy: 0.6875 - 79ms/epoch - 39ms/step\n",
      "Cummulative reward:  24\n",
      "\n",
      ">> Episode:  121 / 900\n",
      "2/2 - 0s - loss: 0.3322 - accuracy: 0.5625 - 81ms/epoch - 40ms/step\n",
      "Cummulative reward:  8\n",
      "\n",
      ">> Episode:  122 / 900\n",
      "2/2 - 0s - loss: 0.2962 - accuracy: 0.6719 - 77ms/epoch - 38ms/step\n",
      "Cummulative reward:  16\n",
      "\n",
      ">> Episode:  123 / 900\n",
      "2/2 - 0s - loss: 0.2669 - accuracy: 0.7188 - 77ms/epoch - 38ms/step\n",
      "Cummulative reward:  22\n",
      "\n",
      ">> Episode:  124 / 900\n",
      "2/2 - 0s - loss: 0.2463 - accuracy: 0.7188 - 80ms/epoch - 40ms/step\n",
      "Cummulative reward:  28\n",
      "\n",
      ">> Episode:  125 / 900\n",
      "2/2 - 0s - loss: 0.2969 - accuracy: 0.6562 - 79ms/epoch - 39ms/step\n",
      "Cummulative reward:  18\n",
      "\n",
      ">> Episode:  126 / 900\n",
      "2/2 - 0s - loss: 0.3098 - accuracy: 0.5625 - 80ms/epoch - 40ms/step\n",
      "Cummulative reward:  12\n",
      "\n",
      ">> Episode:  127 / 900\n",
      "2/2 - 0s - loss: 0.2317 - accuracy: 0.6875 - 80ms/epoch - 40ms/step\n",
      "Cummulative reward:  28\n",
      "\n",
      ">> Episode:  128 / 900\n",
      "2/2 - 0s - loss: 0.2924 - accuracy: 0.6562 - 78ms/epoch - 39ms/step\n",
      "Cummulative reward:  20\n",
      "\n",
      ">> Episode:  129 / 900\n",
      "2/2 - 0s - loss: 0.3270 - accuracy: 0.5625 - 80ms/epoch - 40ms/step\n",
      "Cummulative reward:  8\n",
      "\n",
      ">> Episode:  130 / 900\n",
      "2/2 - 0s - loss: 0.3297 - accuracy: 0.5625 - 80ms/epoch - 40ms/step\n",
      "Cummulative reward:  8\n",
      "\n",
      ">> Episode:  131 / 900\n",
      "2/2 - 0s - loss: 0.2914 - accuracy: 0.6250 - 81ms/epoch - 40ms/step\n",
      "Cummulative reward:  16\n",
      "\n",
      ">> Episode:  132 / 900\n",
      "2/2 - 0s - loss: 0.3478 - accuracy: 0.5781 - 81ms/epoch - 40ms/step\n",
      "Cummulative reward:  6\n",
      "\n",
      ">> Episode:  133 / 900\n",
      "2/2 - 0s - loss: 0.3113 - accuracy: 0.6406 - 80ms/epoch - 40ms/step\n",
      "Cummulative reward:  14\n",
      "\n",
      ">> Episode:  134 / 900\n",
      "2/2 - 0s - loss: 0.2491 - accuracy: 0.7188 - 81ms/epoch - 40ms/step\n",
      "Cummulative reward:  28\n",
      "\n",
      ">> Episode:  135 / 900\n",
      "2/2 - 0s - loss: 0.2591 - accuracy: 0.7031 - 81ms/epoch - 40ms/step\n",
      "Cummulative reward:  24\n",
      "\n",
      ">> Episode:  136 / 900\n",
      "2/2 - 0s - loss: 0.2527 - accuracy: 0.7031 - 78ms/epoch - 39ms/step\n",
      "Cummulative reward:  26\n",
      "\n",
      ">> Episode:  137 / 900\n",
      "2/2 - 0s - loss: 0.2544 - accuracy: 0.7031 - 80ms/epoch - 40ms/step\n",
      "Cummulative reward:  26\n",
      "\n",
      ">> Episode:  138 / 900\n",
      "2/2 - 0s - loss: 0.2813 - accuracy: 0.6562 - 81ms/epoch - 40ms/step\n",
      "Cummulative reward:  18\n",
      "\n",
      ">> Episode:  139 / 900\n",
      "2/2 - 0s - loss: 0.2519 - accuracy: 0.7031 - 84ms/epoch - 42ms/step\n",
      "Cummulative reward:  26\n",
      "\n",
      ">> Episode:  140 / 900\n",
      "2/2 - 0s - loss: 0.3533 - accuracy: 0.5469 - 77ms/epoch - 38ms/step\n",
      "Cummulative reward:  6\n",
      "\n",
      ">> Episode:  141 / 900\n",
      "2/2 - 0s - loss: 0.3406 - accuracy: 0.5625 - 80ms/epoch - 40ms/step\n",
      "Cummulative reward:  4\n",
      "\n",
      ">> Episode:  142 / 900\n",
      "2/2 - 0s - loss: 0.2850 - accuracy: 0.6406 - 82ms/epoch - 41ms/step\n",
      "Cummulative reward:  20\n",
      "\n",
      ">> Episode:  143 / 900\n",
      "2/2 - 0s - loss: 0.2322 - accuracy: 0.7344 - 83ms/epoch - 41ms/step\n",
      "Cummulative reward:  28\n",
      "\n",
      ">> Episode:  144 / 900\n",
      "2/2 - 0s - loss: 0.3249 - accuracy: 0.5938 - 84ms/epoch - 42ms/step\n",
      "Cummulative reward:  10\n",
      "\n",
      ">> Episode:  145 / 900\n",
      "2/2 - 0s - loss: 0.3223 - accuracy: 0.6094 - 79ms/epoch - 39ms/step\n",
      "Cummulative reward:  12\n",
      "\n",
      ">> Episode:  146 / 900\n",
      "2/2 - 0s - loss: 0.3146 - accuracy: 0.5938 - 83ms/epoch - 41ms/step\n",
      "Cummulative reward:  12\n",
      "\n",
      ">> Episode:  147 / 900\n",
      "2/2 - 0s - loss: 0.2494 - accuracy: 0.7188 - 84ms/epoch - 42ms/step\n",
      "Cummulative reward:  26\n",
      "\n",
      ">> Episode:  148 / 900\n",
      "2/2 - 0s - loss: 0.3051 - accuracy: 0.6250 - 83ms/epoch - 41ms/step\n",
      "Cummulative reward:  12\n",
      "\n",
      ">> Episode:  149 / 900\n",
      "2/2 - 0s - loss: 0.2651 - accuracy: 0.7031 - 88ms/epoch - 44ms/step\n",
      "Cummulative reward:  26\n",
      "\n",
      ">> Episode:  150 / 900\n",
      "2/2 - 0s - loss: 0.3307 - accuracy: 0.5469 - 101ms/epoch - 50ms/step\n",
      "Cummulative reward:  6\n",
      "\n",
      ">> Episode:  151 / 900\n",
      "2/2 - 0s - loss: 0.3028 - accuracy: 0.6094 - 82ms/epoch - 41ms/step\n",
      "Cummulative reward:  12\n",
      "\n",
      ">> Episode:  152 / 900\n",
      "2/2 - 0s - loss: 0.2597 - accuracy: 0.7031 - 80ms/epoch - 40ms/step\n",
      "Cummulative reward:  24\n",
      "\n",
      ">> Episode:  153 / 900\n",
      "2/2 - 0s - loss: 0.2221 - accuracy: 0.7344 - 82ms/epoch - 41ms/step\n",
      "Cummulative reward:  30\n",
      "\n",
      ">> Episode:  154 / 900\n",
      "2/2 - 0s - loss: 0.3018 - accuracy: 0.5781 - 84ms/epoch - 42ms/step\n",
      "Cummulative reward:  12\n",
      "\n",
      ">> Episode:  155 / 900\n",
      "2/2 - 0s - loss: 0.2651 - accuracy: 0.6875 - 80ms/epoch - 40ms/step\n",
      "Cummulative reward:  24\n",
      "\n",
      ">> Episode:  156 / 900\n",
      "2/2 - 0s - loss: 0.2388 - accuracy: 0.6875 - 82ms/epoch - 41ms/step\n",
      "Cummulative reward:  26\n",
      "\n",
      ">> Episode:  157 / 900\n",
      "2/2 - 0s - loss: 0.2582 - accuracy: 0.6875 - 83ms/epoch - 41ms/step\n",
      "Cummulative reward:  22\n",
      "\n",
      ">> Episode:  158 / 900\n",
      "2/2 - 0s - loss: 0.3017 - accuracy: 0.5625 - 81ms/epoch - 40ms/step\n",
      "Cummulative reward:  14\n",
      "\n",
      ">> Episode:  159 / 900\n",
      "2/2 - 0s - loss: 0.3214 - accuracy: 0.5781 - 82ms/epoch - 41ms/step\n",
      "Cummulative reward:  8\n",
      "\n",
      ">> Episode:  160 / 900\n",
      "2/2 - 0s - loss: 0.2914 - accuracy: 0.6562 - 81ms/epoch - 40ms/step\n",
      "Cummulative reward:  20\n",
      "\n",
      ">> Episode:  161 / 900\n",
      "2/2 - 0s - loss: 0.2428 - accuracy: 0.7188 - 80ms/epoch - 40ms/step\n",
      "Cummulative reward:  26\n",
      "\n",
      ">> Episode:  162 / 900\n",
      "2/2 - 0s - loss: 0.3108 - accuracy: 0.5938 - 81ms/epoch - 40ms/step\n",
      "Cummulative reward:  10\n",
      "\n",
      ">> Episode:  163 / 900\n",
      "2/2 - 0s - loss: 0.2891 - accuracy: 0.6406 - 84ms/epoch - 42ms/step\n",
      "Cummulative reward:  20\n",
      "\n",
      ">> Episode:  164 / 900\n",
      "2/2 - 0s - loss: 0.2548 - accuracy: 0.7188 - 81ms/epoch - 40ms/step\n",
      "Cummulative reward:  26\n",
      "\n",
      ">> Episode:  165 / 900\n",
      "2/2 - 0s - loss: 0.2669 - accuracy: 0.6875 - 83ms/epoch - 41ms/step\n",
      "Cummulative reward:  22\n",
      "\n",
      ">> Episode:  166 / 900\n",
      "2/2 - 0s - loss: 0.2557 - accuracy: 0.7344 - 82ms/epoch - 41ms/step\n",
      "Cummulative reward:  28\n",
      "\n",
      ">> Episode:  167 / 900\n",
      "2/2 - 0s - loss: 0.2986 - accuracy: 0.6719 - 82ms/epoch - 41ms/step\n",
      "Cummulative reward:  18\n",
      "\n",
      ">> Episode:  168 / 900\n",
      "2/2 - 0s - loss: 0.3462 - accuracy: 0.5469 - 80ms/epoch - 40ms/step\n",
      "Cummulative reward:  4\n",
      "\n",
      ">> Episode:  169 / 900\n",
      "2/2 - 0s - loss: 0.1892 - accuracy: 0.7969 - 82ms/epoch - 41ms/step\n",
      "Cummulative reward:  40\n",
      "\n",
      ">> Episode:  170 / 900\n",
      "2/2 - 0s - loss: 0.3185 - accuracy: 0.5938 - 85ms/epoch - 42ms/step\n",
      "Cummulative reward:  12\n",
      "\n",
      ">> Episode:  171 / 900\n",
      "2/2 - 0s - loss: 0.2477 - accuracy: 0.7188 - 80ms/epoch - 40ms/step\n",
      "Cummulative reward:  28\n",
      "\n",
      ">> Episode:  172 / 900\n",
      "2/2 - 0s - loss: 0.2896 - accuracy: 0.6250 - 85ms/epoch - 42ms/step\n",
      "Cummulative reward:  16\n",
      "\n",
      ">> Episode:  173 / 900\n",
      "2/2 - 0s - loss: 0.2822 - accuracy: 0.6406 - 85ms/epoch - 42ms/step\n",
      "Cummulative reward:  16\n",
      "\n",
      ">> Episode:  174 / 900\n",
      "2/2 - 0s - loss: 0.2161 - accuracy: 0.7969 - 83ms/epoch - 41ms/step\n",
      "Cummulative reward:  34\n",
      "\n",
      ">> Episode:  175 / 900\n",
      "2/2 - 0s - loss: 0.2762 - accuracy: 0.6406 - 84ms/epoch - 42ms/step\n",
      "Cummulative reward:  20\n",
      "\n",
      ">> Episode:  176 / 900\n",
      "2/2 - 0s - loss: 0.2264 - accuracy: 0.7656 - 84ms/epoch - 42ms/step\n",
      "Cummulative reward:  34\n",
      "\n",
      ">> Episode:  177 / 900\n",
      "2/2 - 0s - loss: 0.2455 - accuracy: 0.7188 - 86ms/epoch - 43ms/step\n",
      "Cummulative reward:  28\n",
      "\n",
      ">> Episode:  178 / 900\n",
      "2/2 - 0s - loss: 0.2530 - accuracy: 0.7188 - 83ms/epoch - 41ms/step\n",
      "Cummulative reward:  28\n",
      "\n",
      ">> Episode:  179 / 900\n",
      "2/2 - 0s - loss: 0.2204 - accuracy: 0.7500 - 84ms/epoch - 42ms/step\n",
      "Cummulative reward:  32\n",
      "\n",
      ">> Episode:  180 / 900\n",
      "2/2 - 0s - loss: 0.2531 - accuracy: 0.7188 - 84ms/epoch - 42ms/step\n",
      "Cummulative reward:  26\n",
      "\n",
      ">> Episode:  181 / 900\n",
      "2/2 - 0s - loss: 0.2512 - accuracy: 0.7031 - 83ms/epoch - 41ms/step\n",
      "Cummulative reward:  26\n",
      "\n",
      ">> Episode:  182 / 900\n",
      "2/2 - 0s - loss: 0.2121 - accuracy: 0.7812 - 83ms/epoch - 41ms/step\n",
      "Cummulative reward:  34\n",
      "\n",
      ">> Episode:  183 / 900\n",
      "2/2 - 0s - loss: 0.2516 - accuracy: 0.7188 - 85ms/epoch - 42ms/step\n",
      "Cummulative reward:  26\n",
      "\n",
      ">> Episode:  184 / 900\n",
      "2/2 - 0s - loss: 0.2421 - accuracy: 0.7188 - 85ms/epoch - 42ms/step\n",
      "Cummulative reward:  28\n",
      "\n",
      ">> Episode:  185 / 900\n",
      "2/2 - 0s - loss: 0.2598 - accuracy: 0.7031 - 84ms/epoch - 42ms/step\n",
      "Cummulative reward:  26\n",
      "\n",
      ">> Episode:  186 / 900\n",
      "2/2 - 0s - loss: 0.2202 - accuracy: 0.7500 - 88ms/epoch - 44ms/step\n",
      "Cummulative reward:  32\n",
      "\n",
      ">> Episode:  187 / 900\n",
      "2/2 - 0s - loss: 0.2857 - accuracy: 0.6250 - 86ms/epoch - 43ms/step\n",
      "Cummulative reward:  18\n",
      "\n",
      ">> Episode:  188 / 900\n",
      "2/2 - 0s - loss: 0.2045 - accuracy: 0.7656 - 85ms/epoch - 42ms/step\n",
      "Cummulative reward:  34\n",
      "\n",
      ">> Episode:  189 / 900\n",
      "2/2 - 0s - loss: 0.2704 - accuracy: 0.6719 - 88ms/epoch - 44ms/step\n",
      "Cummulative reward:  20\n",
      "\n",
      ">> Episode:  190 / 900\n",
      "2/2 - 0s - loss: 0.2322 - accuracy: 0.7656 - 88ms/epoch - 44ms/step\n",
      "Cummulative reward:  34\n",
      "\n",
      ">> Episode:  191 / 900\n",
      "2/2 - 0s - loss: 0.3108 - accuracy: 0.5938 - 87ms/epoch - 43ms/step\n",
      "Cummulative reward:  12\n",
      "\n",
      ">> Episode:  192 / 900\n",
      "2/2 - 0s - loss: 0.3102 - accuracy: 0.6094 - 84ms/epoch - 42ms/step\n",
      "Cummulative reward:  12\n",
      "\n",
      ">> Episode:  193 / 900\n",
      "2/2 - 0s - loss: 0.2683 - accuracy: 0.7188 - 85ms/epoch - 42ms/step\n",
      "Cummulative reward:  22\n",
      "\n",
      ">> Episode:  194 / 900\n",
      "2/2 - 0s - loss: 0.2414 - accuracy: 0.7031 - 87ms/epoch - 43ms/step\n",
      "Cummulative reward:  26\n",
      "\n",
      ">> Episode:  195 / 900\n",
      "2/2 - 0s - loss: 0.2831 - accuracy: 0.6562 - 84ms/epoch - 42ms/step\n",
      "Cummulative reward:  18\n",
      "\n",
      ">> Episode:  196 / 900\n",
      "2/2 - 0s - loss: 0.2348 - accuracy: 0.7500 - 86ms/epoch - 43ms/step\n",
      "Cummulative reward:  30\n",
      "\n",
      ">> Episode:  197 / 900\n",
      "2/2 - 0s - loss: 0.2812 - accuracy: 0.6406 - 82ms/epoch - 41ms/step\n",
      "Cummulative reward:  18\n",
      "\n",
      ">> Episode:  198 / 900\n",
      "2/2 - 0s - loss: 0.2496 - accuracy: 0.7188 - 89ms/epoch - 44ms/step\n",
      "Cummulative reward:  26\n",
      "\n",
      ">> Episode:  199 / 900\n",
      "2/2 - 0s - loss: 0.2311 - accuracy: 0.6719 - 81ms/epoch - 40ms/step\n",
      "Cummulative reward:  28\n",
      "\n",
      ">> Episode:  200 / 900\n",
      "2/2 - 0s - loss: 0.2926 - accuracy: 0.6094 - 88ms/epoch - 44ms/step\n",
      "Cummulative reward:  16\n",
      "\n",
      ">> Episode:  201 / 900\n",
      "2/2 - 0s - loss: 0.2216 - accuracy: 0.7188 - 90ms/epoch - 45ms/step\n",
      "Cummulative reward:  30\n",
      "\n",
      ">> Episode:  202 / 900\n",
      "2/2 - 0s - loss: 0.3056 - accuracy: 0.6250 - 84ms/epoch - 42ms/step\n",
      "Cummulative reward:  12\n",
      "\n",
      ">> Episode:  203 / 900\n",
      "2/2 - 0s - loss: 0.2411 - accuracy: 0.7188 - 86ms/epoch - 43ms/step\n",
      "Cummulative reward:  28\n",
      "\n",
      ">> Episode:  204 / 900\n",
      "2/2 - 0s - loss: 0.2141 - accuracy: 0.7500 - 87ms/epoch - 43ms/step\n",
      "Cummulative reward:  32\n",
      "\n",
      ">> Episode:  205 / 900\n",
      "2/2 - 0s - loss: 0.2413 - accuracy: 0.7188 - 86ms/epoch - 43ms/step\n",
      "Cummulative reward:  24\n",
      "\n",
      ">> Episode:  206 / 900\n",
      "2/2 - 0s - loss: 0.2351 - accuracy: 0.7500 - 89ms/epoch - 44ms/step\n",
      "Cummulative reward:  30\n",
      "\n",
      ">> Episode:  207 / 900\n",
      "2/2 - 0s - loss: 0.2982 - accuracy: 0.6094 - 86ms/epoch - 43ms/step\n",
      "Cummulative reward:  12\n",
      "\n",
      ">> Episode:  208 / 900\n",
      "2/2 - 0s - loss: 0.2615 - accuracy: 0.6875 - 87ms/epoch - 43ms/step\n",
      "Cummulative reward:  22\n",
      "\n",
      ">> Episode:  209 / 900\n",
      "2/2 - 0s - loss: 0.2963 - accuracy: 0.6406 - 90ms/epoch - 45ms/step\n",
      "Cummulative reward:  20\n",
      "\n",
      ">> Episode:  210 / 900\n",
      "2/2 - 0s - loss: 0.2709 - accuracy: 0.6719 - 85ms/epoch - 42ms/step\n",
      "Cummulative reward:  22\n",
      "\n",
      ">> Episode:  211 / 900\n",
      "2/2 - 0s - loss: 0.2676 - accuracy: 0.6719 - 89ms/epoch - 44ms/step\n",
      "Cummulative reward:  20\n",
      "\n",
      ">> Episode:  212 / 900\n",
      "2/2 - 0s - loss: 0.2296 - accuracy: 0.7188 - 88ms/epoch - 44ms/step\n",
      "Cummulative reward:  28\n",
      "\n",
      ">> Episode:  213 / 900\n",
      "2/2 - 0s - loss: 0.2384 - accuracy: 0.7188 - 90ms/epoch - 45ms/step\n",
      "Cummulative reward:  26\n",
      "\n",
      ">> Episode:  214 / 900\n",
      "2/2 - 0s - loss: 0.2974 - accuracy: 0.6406 - 86ms/epoch - 43ms/step\n",
      "Cummulative reward:  18\n",
      "\n",
      ">> Episode:  215 / 900\n",
      "2/2 - 0s - loss: 0.2246 - accuracy: 0.7344 - 87ms/epoch - 43ms/step\n",
      "Cummulative reward:  28\n",
      "\n",
      ">> Episode:  216 / 900\n",
      "2/2 - 0s - loss: 0.2814 - accuracy: 0.6406 - 88ms/epoch - 44ms/step\n",
      "Cummulative reward:  14\n",
      "\n",
      ">> Episode:  217 / 900\n",
      "2/2 - 0s - loss: 0.2503 - accuracy: 0.7031 - 87ms/epoch - 43ms/step\n",
      "Cummulative reward:  24\n",
      "\n",
      ">> Episode:  218 / 900\n",
      "2/2 - 0s - loss: 0.2780 - accuracy: 0.6719 - 89ms/epoch - 44ms/step\n",
      "Cummulative reward:  20\n",
      "\n",
      ">> Episode:  219 / 900\n",
      "2/2 - 0s - loss: 0.2406 - accuracy: 0.7031 - 100ms/epoch - 50ms/step\n",
      "Cummulative reward:  26\n",
      "\n",
      ">> Episode:  220 / 900\n",
      "2/2 - 0s - loss: 0.2231 - accuracy: 0.7031 - 89ms/epoch - 44ms/step\n",
      "Cummulative reward:  30\n",
      "\n",
      ">> Episode:  221 / 900\n",
      "2/2 - 0s - loss: 0.2413 - accuracy: 0.7188 - 89ms/epoch - 44ms/step\n",
      "Cummulative reward:  28\n",
      "\n",
      ">> Episode:  222 / 900\n",
      "2/2 - 0s - loss: 0.2729 - accuracy: 0.6875 - 89ms/epoch - 44ms/step\n",
      "Cummulative reward:  22\n",
      "\n",
      ">> Episode:  223 / 900\n",
      "2/2 - 0s - loss: 0.2581 - accuracy: 0.7031 - 90ms/epoch - 45ms/step\n",
      "Cummulative reward:  24\n",
      "\n",
      ">> Episode:  224 / 900\n",
      "2/2 - 0s - loss: 0.2500 - accuracy: 0.7031 - 89ms/epoch - 44ms/step\n",
      "Cummulative reward:  24\n",
      "\n",
      ">> Episode:  225 / 900\n",
      "2/2 - 0s - loss: 0.2793 - accuracy: 0.6719 - 96ms/epoch - 48ms/step\n",
      "Cummulative reward:  20\n",
      "\n",
      ">> Episode:  226 / 900\n",
      "2/2 - 0s - loss: 0.2242 - accuracy: 0.7812 - 92ms/epoch - 46ms/step\n",
      "Cummulative reward:  30\n",
      "\n",
      ">> Episode:  227 / 900\n",
      "2/2 - 0s - loss: 0.2231 - accuracy: 0.7500 - 87ms/epoch - 43ms/step\n",
      "Cummulative reward:  30\n",
      "\n",
      ">> Episode:  228 / 900\n",
      "2/2 - 0s - loss: 0.2753 - accuracy: 0.6719 - 90ms/epoch - 45ms/step\n",
      "Cummulative reward:  18\n",
      "\n",
      ">> Episode:  229 / 900\n",
      "2/2 - 0s - loss: 0.2484 - accuracy: 0.6875 - 87ms/epoch - 43ms/step\n",
      "Cummulative reward:  24\n",
      "\n",
      ">> Episode:  230 / 900\n",
      "2/2 - 0s - loss: 0.1869 - accuracy: 0.7969 - 89ms/epoch - 44ms/step\n",
      "Cummulative reward:  40\n",
      "\n",
      ">> Episode:  231 / 900\n",
      "2/2 - 0s - loss: 0.2133 - accuracy: 0.7812 - 90ms/epoch - 45ms/step\n",
      "Cummulative reward:  32\n",
      "\n",
      ">> Episode:  232 / 900\n",
      "2/2 - 0s - loss: 0.3191 - accuracy: 0.5938 - 90ms/epoch - 45ms/step\n",
      "Cummulative reward:  12\n",
      "\n",
      ">> Episode:  233 / 900\n",
      "2/2 - 0s - loss: 0.2501 - accuracy: 0.7344 - 90ms/epoch - 45ms/step\n",
      "Cummulative reward:  28\n",
      "\n",
      ">> Episode:  234 / 900\n",
      "2/2 - 0s - loss: 0.2420 - accuracy: 0.7344 - 90ms/epoch - 45ms/step\n",
      "Cummulative reward:  28\n",
      "\n",
      ">> Episode:  235 / 900\n",
      "2/2 - 0s - loss: 0.2318 - accuracy: 0.7188 - 92ms/epoch - 46ms/step\n",
      "Cummulative reward:  28\n",
      "\n",
      ">> Episode:  236 / 900\n",
      "2/2 - 0s - loss: 0.2060 - accuracy: 0.7812 - 92ms/epoch - 46ms/step\n",
      "Cummulative reward:  34\n",
      "\n",
      ">> Episode:  237 / 900\n",
      "2/2 - 0s - loss: 0.2204 - accuracy: 0.7500 - 93ms/epoch - 46ms/step\n",
      "Cummulative reward:  32\n",
      "\n",
      ">> Episode:  238 / 900\n",
      "2/2 - 0s - loss: 0.2183 - accuracy: 0.7344 - 89ms/epoch - 44ms/step\n",
      "Cummulative reward:  28\n",
      "\n",
      ">> Episode:  239 / 900\n",
      "2/2 - 0s - loss: 0.2501 - accuracy: 0.6875 - 90ms/epoch - 45ms/step\n",
      "Cummulative reward:  26\n",
      "\n",
      ">> Episode:  240 / 900\n",
      "2/2 - 0s - loss: 0.2332 - accuracy: 0.7188 - 89ms/epoch - 44ms/step\n",
      "Cummulative reward:  30\n",
      "\n",
      ">> Episode:  241 / 900\n",
      "2/2 - 0s - loss: 0.2252 - accuracy: 0.7188 - 92ms/epoch - 46ms/step\n",
      "Cummulative reward:  28\n",
      "\n",
      ">> Episode:  242 / 900\n",
      "2/2 - 0s - loss: 0.2251 - accuracy: 0.7188 - 86ms/epoch - 43ms/step\n",
      "Cummulative reward:  28\n",
      "\n",
      ">> Episode:  243 / 900\n",
      "2/2 - 0s - loss: 0.1754 - accuracy: 0.7969 - 93ms/epoch - 46ms/step\n",
      "Cummulative reward:  42\n",
      "\n",
      ">> Episode:  244 / 900\n",
      "2/2 - 0s - loss: 0.1833 - accuracy: 0.7656 - 97ms/epoch - 48ms/step\n",
      "Cummulative reward:  36\n",
      "\n",
      ">> Episode:  245 / 900\n",
      "2/2 - 0s - loss: 0.2307 - accuracy: 0.7188 - 92ms/epoch - 46ms/step\n",
      "Cummulative reward:  26\n",
      "\n",
      ">> Episode:  246 / 900\n",
      "2/2 - 0s - loss: 0.2468 - accuracy: 0.7500 - 90ms/epoch - 45ms/step\n",
      "Cummulative reward:  28\n",
      "\n",
      ">> Episode:  247 / 900\n",
      "2/2 - 0s - loss: 0.1963 - accuracy: 0.7500 - 94ms/epoch - 47ms/step\n",
      "Cummulative reward:  32\n",
      "\n",
      ">> Episode:  248 / 900\n",
      "2/2 - 0s - loss: 0.2530 - accuracy: 0.7188 - 91ms/epoch - 45ms/step\n",
      "Cummulative reward:  24\n",
      "\n",
      ">> Episode:  249 / 900\n",
      "2/2 - 0s - loss: 0.2984 - accuracy: 0.6562 - 100ms/epoch - 50ms/step\n",
      "Cummulative reward:  16\n",
      "\n",
      ">> Episode:  250 / 900\n",
      "2/2 - 0s - loss: 0.2567 - accuracy: 0.7031 - 89ms/epoch - 44ms/step\n",
      "Cummulative reward:  24\n",
      "\n",
      ">> Episode:  251 / 900\n",
      "2/2 - 0s - loss: 0.2161 - accuracy: 0.7656 - 89ms/epoch - 44ms/step\n",
      "Cummulative reward:  34\n",
      "\n",
      ">> Episode:  252 / 900\n",
      "2/2 - 0s - loss: 0.2909 - accuracy: 0.6406 - 92ms/epoch - 46ms/step\n",
      "Cummulative reward:  18\n",
      "\n",
      ">> Episode:  253 / 900\n",
      "2/2 - 0s - loss: 0.2211 - accuracy: 0.7500 - 94ms/epoch - 47ms/step\n",
      "Cummulative reward:  32\n",
      "\n",
      ">> Episode:  254 / 900\n",
      "2/2 - 0s - loss: 0.2593 - accuracy: 0.7031 - 90ms/epoch - 45ms/step\n",
      "Cummulative reward:  24\n",
      "\n",
      ">> Episode:  255 / 900\n",
      "2/2 - 0s - loss: 0.1910 - accuracy: 0.7188 - 94ms/epoch - 47ms/step\n",
      "Cummulative reward:  40\n",
      "\n",
      ">> Episode:  256 / 900\n",
      "2/2 - 0s - loss: 0.2059 - accuracy: 0.7656 - 93ms/epoch - 46ms/step\n",
      "Cummulative reward:  34\n",
      "\n",
      ">> Episode:  257 / 900\n",
      "2/2 - 0s - loss: 0.2629 - accuracy: 0.6562 - 93ms/epoch - 46ms/step\n",
      "Cummulative reward:  20\n",
      "\n",
      ">> Episode:  258 / 900\n",
      "2/2 - 0s - loss: 0.2512 - accuracy: 0.6875 - 90ms/epoch - 45ms/step\n",
      "Cummulative reward:  24\n",
      "\n",
      ">> Episode:  259 / 900\n",
      "2/2 - 0s - loss: 0.2866 - accuracy: 0.6719 - 97ms/epoch - 48ms/step\n",
      "Cummulative reward:  22\n",
      "\n",
      ">> Episode:  260 / 900\n",
      "2/2 - 0s - loss: 0.2660 - accuracy: 0.6719 - 92ms/epoch - 46ms/step\n",
      "Cummulative reward:  22\n",
      "\n",
      ">> Episode:  261 / 900\n",
      "2/2 - 0s - loss: 0.2530 - accuracy: 0.7031 - 99ms/epoch - 49ms/step\n",
      "Cummulative reward:  22\n",
      "\n",
      ">> Episode:  262 / 900\n",
      "2/2 - 0s - loss: 0.2662 - accuracy: 0.6719 - 92ms/epoch - 46ms/step\n",
      "Cummulative reward:  22\n",
      "\n",
      ">> Episode:  263 / 900\n",
      "2/2 - 0s - loss: 0.2543 - accuracy: 0.7031 - 96ms/epoch - 48ms/step\n",
      "Cummulative reward:  26\n",
      "\n",
      ">> Episode:  264 / 900\n",
      "2/2 - 0s - loss: 0.2479 - accuracy: 0.7031 - 95ms/epoch - 47ms/step\n",
      "Cummulative reward:  24\n",
      "\n",
      ">> Episode:  265 / 900\n",
      "2/2 - 0s - loss: 0.3102 - accuracy: 0.5938 - 89ms/epoch - 44ms/step\n",
      "Cummulative reward:  8\n",
      "\n",
      ">> Episode:  266 / 900\n",
      "2/2 - 0s - loss: 0.2082 - accuracy: 0.7812 - 92ms/epoch - 46ms/step\n",
      "Cummulative reward:  36\n",
      "\n",
      ">> Episode:  267 / 900\n",
      "2/2 - 0s - loss: 0.2602 - accuracy: 0.6719 - 98ms/epoch - 49ms/step\n",
      "Cummulative reward:  22\n",
      "\n",
      ">> Episode:  268 / 900\n",
      "2/2 - 0s - loss: 0.2638 - accuracy: 0.6562 - 91ms/epoch - 45ms/step\n",
      "Cummulative reward:  18\n",
      "\n",
      ">> Episode:  269 / 900\n",
      "2/2 - 0s - loss: 0.3023 - accuracy: 0.6094 - 96ms/epoch - 48ms/step\n",
      "Cummulative reward:  12\n",
      "\n",
      ">> Episode:  270 / 900\n",
      "2/2 - 0s - loss: 0.2447 - accuracy: 0.7500 - 94ms/epoch - 47ms/step\n",
      "Cummulative reward:  30\n",
      "\n",
      ">> Episode:  271 / 900\n",
      "2/2 - 0s - loss: 0.1925 - accuracy: 0.8125 - 94ms/epoch - 47ms/step\n",
      "Cummulative reward:  38\n",
      "\n",
      ">> Episode:  272 / 900\n",
      "2/2 - 0s - loss: 0.2138 - accuracy: 0.7500 - 94ms/epoch - 47ms/step\n",
      "Cummulative reward:  36\n",
      "\n",
      ">> Episode:  273 / 900\n",
      "2/2 - 0s - loss: 0.2233 - accuracy: 0.7500 - 95ms/epoch - 47ms/step\n",
      "Cummulative reward:  30\n",
      "\n",
      ">> Episode:  274 / 900\n",
      "2/2 - 0s - loss: 0.1784 - accuracy: 0.8125 - 96ms/epoch - 48ms/step\n",
      "Cummulative reward:  40\n",
      "\n",
      ">> Episode:  275 / 900\n",
      "2/2 - 0s - loss: 0.2479 - accuracy: 0.6875 - 97ms/epoch - 48ms/step\n",
      "Cummulative reward:  24\n",
      "\n",
      ">> Episode:  276 / 900\n"
     ]
    }
   ],
   "source": [
    "# Initialization:\n",
    "\n",
    "# environment\n",
    "trainX, trainy, testX, testy = load_dataset() # load dataset (x = state, y = action)\n",
    "\n",
    "env = PowerPlantEnv(dataset=(trainX, trainy))\n",
    "action_space = [0,1,2] # action space: {0: healthy, 1: OR fault, 2: IR fault}\n",
    "\n",
    "E = 900 # training episode number\n",
    "M = 300 # experience pool capacity\n",
    "R = 64 # replay size\n",
    "T = 64 # game rounds in one episode\n",
    "C = 10 # copy period: training steps to update periodicity of target network\n",
    "\n",
    "discount_factor = 0.05 # gamma\n",
    "learning_rate = 0.001 # alpha\n",
    "\n",
    "# epsilon-greedy:\n",
    "# tradeoff between exploration and exploitation\n",
    "epsilon_0 = 0.4  # exploration probability at start\n",
    "epsilon_min = 0.01  # minimum exploration probability\n",
    "epsilon_decay = 0.3  # exponential decay rate for exploration prob\n",
    "\n",
    "cum_reward_episode = []\n",
    "acc_episode = []\n",
    "loss_episode = []\n",
    "best_acc = []\n",
    "best_weights = []\n",
    "\n",
    "ddqn_agent = DDQNAgent(learning_rate=learning_rate, discount_factor=discount_factor, \\\n",
    "                                action_space=action_space, \\\n",
    "                                trainX=trainX, trainy=trainy, batch_size=R, \\\n",
    "                                epsilon_0=epsilon_0, epsilon_decay=epsilon_decay, \\\n",
    "                                epsilon_min=epsilon_min, mem_size=M, replace_target=C)\n",
    "\n",
    "for e in range(1,E+1): # training episode\n",
    "    env = PowerPlantEnv(dataset=(trainX, trainy)) # reset environment\n",
    "    ddqn_agent.reset_pool(M) # reset experience pool\n",
    "    ddqn_agent.set_episode_count(e) # set the counter with the number of episodes\n",
    "    cum_reward = 0\n",
    "    print(\"\\n>> Episode: \",e,\"/\",E)\n",
    "    observation = env._next_obs()\n",
    "    ddqn_agent.update_epsilon()\n",
    "    for t in range(1,T+1): # game round\n",
    "        action = ddqn_agent.choose_action(observation)\n",
    "        observation_, reward, done, info = env.step(action)\n",
    "        done = (t==T)\n",
    "        cum_reward += reward\n",
    "        exp = Experience(observation, action, reward, observation_, int(done))\n",
    "        ddqn_agent.add_experience(exp)\n",
    "        observation = observation_\n",
    "        acc, loss = ddqn_agent.learn()\n",
    "    if acc > best_acc: # save weights if accuracy improves\n",
    "        best_acc = acc\n",
    "        best_weights = ddqn_agent.q_policy.get_weights()\n",
    "    cum_reward_episode.append(cum_reward)\n",
    "    acc_episode.append(acc)\n",
    "    loss_episode.append(loss)\n",
    "    print(\"Cummulative reward: \",cum_reward)\n",
    "\n",
    "# save best model\n",
    "ddqn_model = ddqn_agent.q_policy\n",
    "ddqn_model.set_weights(best_weights)\n",
    "models_dir = 'models/'\n",
    "existing_models = [filename for filename in os.listdir(models_dir) if filename.startswith('ddqn_model')]\n",
    "num_model = len(existing_models)+1\n",
    "filename = f'models/ddqn_model_{num_model}.h5'\n",
    "ddqn_model.save(filename)"
   ]
  },
  {
   "cell_type": "code",
   "execution_count": 12,
   "metadata": {},
   "outputs": [
    {
     "data": {
      "image/png": "[encoded data removed]",
      "text/plain": [
       "<Figure size 1500x400 with 3 Axes>"
      ]
     },
     "metadata": {},
     "output_type": "display_data"
    }
   ],
   "source": [
    "# E = 900 # training episode number ==> aumentar epochs\n",
    "# M = 300 # experience pool capacity\n",
    "# R = 64 # replay size\n",
    "# T = 64 # game rounds in one episode\n",
    "# C = 10 # copy period: training steps to update periodicity of target network\n",
    "# discount_factor = 0.001 # gamma\n",
    "# learning_rate = 0.001 # alpha\n",
    "# # epsilon-greedy:\n",
    "# # tradeoff between exploration and exploitation\n",
    "# epsilon_0 = 0.4  # exploration probability at start\n",
    "# epsilon_min = 0.01  # minimum exploration probability\n",
    "# epsilon_decay = 0.3  # exponential decay rate for exploration prob\n",
    "# Modelo con 2 capas de Conv1D\n",
    "# con datos normalizados!\n",
    "# guardando el mejor modelo, no el último\n",
    "\n",
    "fig, axs = plt.subplots(1, 3, figsize=(15, 4))\n",
    "\n",
    "axs[0].plot(acc_episode)\n",
    "axs[0].set(xlabel='Accuracy')\n",
    "\n",
    "axs[1].plot(loss_episode)\n",
    "axs[1].set(xlabel='Loss')\n",
    "\n",
    "axs[2].plot(cum_reward_episode)\n",
    "axs[2].set(xlabel='Reward')\n",
    "\n",
    "plt.show()"
   ]
  },
  {
   "cell_type": "code",
   "execution_count": 13,
   "metadata": {},
   "outputs": [
    {
     "name": "stdout",
     "output_type": "stream",
     "text": [
      "330/330 [==============================] - 5s 16ms/step\n",
      "Test accuracy:  0.7735419630156473\n"
     ]
    }
   ],
   "source": [
    "pred_test = ddqn_model.predict(testX)\n",
    "\n",
    "test_acc = accuracy_score(np.argmax(testy,axis=1), np.argmax(pred_test,axis=1))\n",
    "print('Test accuracy: ',test_acc)"
   ]
  },
  {
   "cell_type": "code",
   "execution_count": 15,
   "metadata": {},
   "outputs": [
    {
     "data": {
      "image/png": "[encoded data removed]",
      "text/plain": [
       "<Figure size 1500x400 with 3 Axes>"
      ]
     },
     "metadata": {},
     "output_type": "display_data"
    }
   ],
   "source": [
    "# E = 1000 # training episode number ==> aumentar epochs\n",
    "# M = 300 # experience pool capacity\n",
    "# R = 64 # replay size\n",
    "# T = 64 # game rounds in one episode\n",
    "# C = 10 # copy period: training steps to update periodicity of target network\n",
    "# discount_factor = 0.01 # gamma\n",
    "# learning_rate = 0.001 # alpha\n",
    "# # epsilon-greedy:\n",
    "# # tradeoff between exploration and exploitation\n",
    "# epsilon_0 = 0.4  # exploration probability at start\n",
    "# epsilon_min = 0.01  # minimum exploration probability\n",
    "# epsilon_decay = 0.3  # exponential decay rate for exploration prob\n",
    "# Modelo con 2 capas de Conv1D\n",
    "# con datos normalizados!\n",
    "# guardando el mejor modelo, no el último\n",
    "\n",
    "fig, axs = plt.subplots(1, 3, figsize=(15, 4))\n",
    "\n",
    "axs[0].plot(acc_episode)\n",
    "axs[0].set(xlabel='Accuracy')\n",
    "\n",
    "axs[1].plot(loss_episode)\n",
    "axs[1].set(xlabel='Loss')\n",
    "\n",
    "axs[2].plot(cum_reward_episode)\n",
    "axs[2].set(xlabel='Reward')\n",
    "\n",
    "plt.show()"
   ]
  },
  {
   "cell_type": "code",
   "execution_count": 16,
   "metadata": {},
   "outputs": [
    {
     "name": "stdout",
     "output_type": "stream",
     "text": [
      "330/330 [==============================] - 8s 24ms/step\n",
      "Test accuracy:  0.8221906116642959\n"
     ]
    }
   ],
   "source": [
    "pred_test = ddqn_model.predict(testX)\n",
    "\n",
    "test_acc = accuracy_score(np.argmax(testy,axis=1), np.argmax(pred_test,axis=1))\n",
    "print('Test accuracy: ',test_acc)"
   ]
  },
  {
   "cell_type": "code",
   "execution_count": 11,
   "metadata": {},
   "outputs": [
    {
     "data": {
      "image/png": "[encoded data removed]",
      "text/plain": [
       "<Figure size 1500x400 with 3 Axes>"
      ]
     },
     "metadata": {},
     "output_type": "display_data"
    }
   ],
   "source": [
    "# E = 800 # training episode number ==> aumentar epochs\n",
    "# M = 300 # experience pool capacity\n",
    "# R = 64 # replay size\n",
    "# T = 64 # game rounds in one episode\n",
    "# C = 10 # copy period: training steps to update periodicity of target network\n",
    "# discount_factor = 0.01 # gamma\n",
    "# learning_rate = 0.001 # alpha\n",
    "# # epsilon-greedy:\n",
    "# # tradeoff between exploration and exploitation\n",
    "# epsilon_0 = 0.4  # exploration probability at start\n",
    "# epsilon_min = 0.01  # minimum exploration probability\n",
    "# epsilon_decay = 0.3  # exponential decay rate for exploration prob\n",
    "# Modelo con 2 capas de Conv1D\n",
    "# con datos normalizados!\n",
    "\n",
    "fig, axs = plt.subplots(1, 3, figsize=(15, 4))\n",
    "\n",
    "axs[0].plot(acc_episode)\n",
    "axs[0].set(xlabel='Accuracy')\n",
    "\n",
    "axs[1].plot(loss_episode)\n",
    "axs[1].set(xlabel='Loss')\n",
    "\n",
    "axs[2].plot(cum_reward_episode)\n",
    "axs[2].set(xlabel='Reward')\n",
    "\n",
    "plt.show()"
   ]
  },
  {
   "cell_type": "code",
   "execution_count": 13,
   "metadata": {},
   "outputs": [
    {
     "name": "stdout",
     "output_type": "stream",
     "text": [
      "330/330 [==============================] - 5s 15ms/step\n",
      "Test accuracy:  0.8537695590327169\n"
     ]
    }
   ],
   "source": [
    "pred_test = ddqn_model.predict(testX)\n",
    "\n",
    "test_acc = accuracy_score(np.argmax(testy,axis=1), np.argmax(pred_test,axis=1))\n",
    "print('Test accuracy: ',test_acc)"
   ]
  },
  {
   "cell_type": "code",
   "execution_count": 14,
   "metadata": {},
   "outputs": [
    {
     "name": "stdout",
     "output_type": "stream",
     "text": [
      "              precision    recall  f1-score   support\n",
      "\n",
      "     Healthy     0.9129    0.8440    0.8771      3552\n",
      "    OR fault     0.9260    0.8061    0.8619      3600\n",
      "    IR fault     0.7519    0.9145    0.8253      3393\n",
      "\n",
      "    accuracy                         0.8538     10545\n",
      "   macro avg     0.8636    0.8549    0.8548     10545\n",
      "weighted avg     0.8656    0.8538    0.8552     10545\n",
      "\n"
     ]
    }
   ],
   "source": [
    "print(classification_report(np.argmax(testy,axis=1), np.argmax(pred_test,axis=1), target_names=['Healthy', 'OR fault', 'IR fault'],digits=4))"
   ]
  },
  {
   "cell_type": "code",
   "execution_count": 15,
   "metadata": {},
   "outputs": [
    {
     "data": {
      "application/vnd.plotly.v1+json": {
       "config": {
        "plotlyServerURL": "https://plot.ly"
       },
       "data": [
        {
         "colorscale": [
          [
           0,
           "rgb(0, 147, 146)"
          ],
          [
           0.16666666666666666,
           "rgb(114, 170, 161)"
          ],
          [
           0.3333333333333333,
           "rgb(177, 199, 179)"
          ],
          [
           0.5,
           "rgb(241, 234, 200)"
          ],
          [
           0.6666666666666666,
           "rgb(229, 185, 173)"
          ],
          [
           0.8333333333333334,
           "rgb(217, 137, 148)"
          ],
          [
           1,
           "rgb(208, 88, 126)"
          ]
         ],
         "reversescale": false,
         "showscale": false,
         "type": "heatmap",
         "x": [
          "Healthy",
          "OR fault",
          "IR fault"
         ],
         "y": [
          "IR fault",
          "OR fault",
          "Healthy"
         ],
         "z": [
          [
           156,
           134,
           3103
          ],
          [
           130,
           2902,
           568
          ],
          [
           2998,
           98,
           456
          ]
         ]
        }
       ],
       "layout": {
        "annotations": [
         {
          "font": {
           "color": "#FFFFFF"
          },
          "showarrow": false,
          "text": "156",
          "x": "Healthy",
          "xref": "x",
          "y": "IR fault",
          "yref": "y"
         },
         {
          "font": {
           "color": "#FFFFFF"
          },
          "showarrow": false,
          "text": "134",
          "x": "OR fault",
          "xref": "x",
          "y": "IR fault",
          "yref": "y"
         },
         {
          "font": {
           "color": "#FFFFFF"
          },
          "showarrow": false,
          "text": "3103",
          "x": "IR fault",
          "xref": "x",
          "y": "IR fault",
          "yref": "y"
         },
         {
          "font": {
           "color": "#FFFFFF"
          },
          "showarrow": false,
          "text": "130",
          "x": "Healthy",
          "xref": "x",
          "y": "OR fault",
          "yref": "y"
         },
         {
          "font": {
           "color": "#FFFFFF"
          },
          "showarrow": false,
          "text": "2902",
          "x": "OR fault",
          "xref": "x",
          "y": "OR fault",
          "yref": "y"
         },
         {
          "font": {
           "color": "#FFFFFF"
          },
          "showarrow": false,
          "text": "568",
          "x": "IR fault",
          "xref": "x",
          "y": "OR fault",
          "yref": "y"
         },
         {
          "font": {
           "color": "#FFFFFF"
          },
          "showarrow": false,
          "text": "2998",
          "x": "Healthy",
          "xref": "x",
          "y": "Healthy",
          "yref": "y"
         },
         {
          "font": {
           "color": "#FFFFFF"
          },
          "showarrow": false,
          "text": "98",
          "x": "OR fault",
          "xref": "x",
          "y": "Healthy",
          "yref": "y"
         },
         {
          "font": {
           "color": "#FFFFFF"
          },
          "showarrow": false,
          "text": "456",
          "x": "IR fault",
          "xref": "x",
          "y": "Healthy",
          "yref": "y"
         }
        ],
        "height": 300,
        "template": {
         "data": {
          "bar": [
           {
            "error_x": {
             "color": "#2a3f5f"
            },
            "error_y": {
             "color": "#2a3f5f"
            },
            "marker": {
             "line": {
              "color": "#E5ECF6",
              "width": 0.5
             },
             "pattern": {
              "fillmode": "overlay",
              "size": 10,
              "solidity": 0.2
             }
            },
            "type": "bar"
           }
          ],
          "barpolar": [
           {
            "marker": {
             "line": {
              "color": "#E5ECF6",
              "width": 0.5
             },
             "pattern": {
              "fillmode": "overlay",
              "size": 10,
              "solidity": 0.2
             }
            },
            "type": "barpolar"
           }
          ],
          "carpet": [
           {
            "aaxis": {
             "endlinecolor": "#2a3f5f",
             "gridcolor": "white",
             "linecolor": "white",
             "minorgridcolor": "white",
             "startlinecolor": "#2a3f5f"
            },
            "baxis": {
             "endlinecolor": "#2a3f5f",
             "gridcolor": "white",
             "linecolor": "white",
             "minorgridcolor": "white",
             "startlinecolor": "#2a3f5f"
            },
            "type": "carpet"
           }
          ],
          "choropleth": [
           {
            "colorbar": {
             "outlinewidth": 0,
             "ticks": ""
            },
            "type": "choropleth"
           }
          ],
          "contour": [
           {
            "colorbar": {
             "outlinewidth": 0,
             "ticks": ""
            },
            "colorscale": [
             [
              0,
              "#0d0887"
             ],
             [
              0.1111111111111111,
              "#46039f"
             ],
             [
              0.2222222222222222,
              "#7201a8"
             ],
             [
              0.3333333333333333,
              "#9c179e"
             ],
             [
              0.4444444444444444,
              "#bd3786"
             ],
             [
              0.5555555555555556,
              "#d8576b"
             ],
             [
              0.6666666666666666,
              "#ed7953"
             ],
             [
              0.7777777777777778,
              "#fb9f3a"
             ],
             [
              0.8888888888888888,
              "#fdca26"
             ],
             [
              1,
              "#f0f921"
             ]
            ],
            "type": "contour"
           }
          ],
          "contourcarpet": [
           {
            "colorbar": {
             "outlinewidth": 0,
             "ticks": ""
            },
            "type": "contourcarpet"
           }
          ],
          "heatmap": [
           {
            "colorbar": {
             "outlinewidth": 0,
             "ticks": ""
            },
            "colorscale": [
             [
              0,
              "#0d0887"
             ],
             [
              0.1111111111111111,
              "#46039f"
             ],
             [
              0.2222222222222222,
              "#7201a8"
             ],
             [
              0.3333333333333333,
              "#9c179e"
             ],
             [
              0.4444444444444444,
              "#bd3786"
             ],
             [
              0.5555555555555556,
              "#d8576b"
             ],
             [
              0.6666666666666666,
              "#ed7953"
             ],
             [
              0.7777777777777778,
              "#fb9f3a"
             ],
             [
              0.8888888888888888,
              "#fdca26"
             ],
             [
              1,
              "#f0f921"
             ]
            ],
            "type": "heatmap"
           }
          ],
          "heatmapgl": [
           {
            "colorbar": {
             "outlinewidth": 0,
             "ticks": ""
            },
            "colorscale": [
             [
              0,
              "#0d0887"
             ],
             [
              0.1111111111111111,
              "#46039f"
             ],
             [
              0.2222222222222222,
              "#7201a8"
             ],
             [
              0.3333333333333333,
              "#9c179e"
             ],
             [
              0.4444444444444444,
              "#bd3786"
             ],
             [
              0.5555555555555556,
              "#d8576b"
             ],
             [
              0.6666666666666666,
              "#ed7953"
             ],
             [
              0.7777777777777778,
              "#fb9f3a"
             ],
             [
              0.8888888888888888,
              "#fdca26"
             ],
             [
              1,
              "#f0f921"
             ]
            ],
            "type": "heatmapgl"
           }
          ],
          "histogram": [
           {
            "marker": {
             "pattern": {
              "fillmode": "overlay",
              "size": 10,
              "solidity": 0.2
             }
            },
            "type": "histogram"
           }
          ],
          "histogram2d": [
           {
            "colorbar": {
             "outlinewidth": 0,
             "ticks": ""
            },
            "colorscale": [
             [
              0,
              "#0d0887"
             ],
             [
              0.1111111111111111,
              "#46039f"
             ],
             [
              0.2222222222222222,
              "#7201a8"
             ],
             [
              0.3333333333333333,
              "#9c179e"
             ],
             [
              0.4444444444444444,
              "#bd3786"
             ],
             [
              0.5555555555555556,
              "#d8576b"
             ],
             [
              0.6666666666666666,
              "#ed7953"
             ],
             [
              0.7777777777777778,
              "#fb9f3a"
             ],
             [
              0.8888888888888888,
              "#fdca26"
             ],
             [
              1,
              "#f0f921"
             ]
            ],
            "type": "histogram2d"
           }
          ],
          "histogram2dcontour": [
           {
            "colorbar": {
             "outlinewidth": 0,
             "ticks": ""
            },
            "colorscale": [
             [
              0,
              "#0d0887"
             ],
             [
              0.1111111111111111,
              "#46039f"
             ],
             [
              0.2222222222222222,
              "#7201a8"
             ],
             [
              0.3333333333333333,
              "#9c179e"
             ],
             [
              0.4444444444444444,
              "#bd3786"
             ],
             [
              0.5555555555555556,
              "#d8576b"
             ],
             [
              0.6666666666666666,
              "#ed7953"
             ],
             [
              0.7777777777777778,
              "#fb9f3a"
             ],
             [
              0.8888888888888888,
              "#fdca26"
             ],
             [
              1,
              "#f0f921"
             ]
            ],
            "type": "histogram2dcontour"
           }
          ],
          "mesh3d": [
           {
            "colorbar": {
             "outlinewidth": 0,
             "ticks": ""
            },
            "type": "mesh3d"
           }
          ],
          "parcoords": [
           {
            "line": {
             "colorbar": {
              "outlinewidth": 0,
              "ticks": ""
             }
            },
            "type": "parcoords"
           }
          ],
          "pie": [
           {
            "automargin": true,
            "type": "pie"
           }
          ],
          "scatter": [
           {
            "fillpattern": {
             "fillmode": "overlay",
             "size": 10,
             "solidity": 0.2
            },
            "type": "scatter"
           }
          ],
          "scatter3d": [
           {
            "line": {
             "colorbar": {
              "outlinewidth": 0,
              "ticks": ""
             }
            },
            "marker": {
             "colorbar": {
              "outlinewidth": 0,
              "ticks": ""
             }
            },
            "type": "scatter3d"
           }
          ],
          "scattercarpet": [
           {
            "marker": {
             "colorbar": {
              "outlinewidth": 0,
              "ticks": ""
             }
            },
            "type": "scattercarpet"
           }
          ],
          "scattergeo": [
           {
            "marker": {
             "colorbar": {
              "outlinewidth": 0,
              "ticks": ""
             }
            },
            "type": "scattergeo"
           }
          ],
          "scattergl": [
           {
            "marker": {
             "colorbar": {
              "outlinewidth": 0,
              "ticks": ""
             }
            },
            "type": "scattergl"
           }
          ],
          "scattermapbox": [
           {
            "marker": {
             "colorbar": {
              "outlinewidth": 0,
              "ticks": ""
             }
            },
            "type": "scattermapbox"
           }
          ],
          "scatterpolar": [
           {
            "marker": {
             "colorbar": {
              "outlinewidth": 0,
              "ticks": ""
             }
            },
            "type": "scatterpolar"
           }
          ],
          "scatterpolargl": [
           {
            "marker": {
             "colorbar": {
              "outlinewidth": 0,
              "ticks": ""
             }
            },
            "type": "scatterpolargl"
           }
          ],
          "scatterternary": [
           {
            "marker": {
             "colorbar": {
              "outlinewidth": 0,
              "ticks": ""
             }
            },
            "type": "scatterternary"
           }
          ],
          "surface": [
           {
            "colorbar": {
             "outlinewidth": 0,
             "ticks": ""
            },
            "colorscale": [
             [
              0,
              "#0d0887"
             ],
             [
              0.1111111111111111,
              "#46039f"
             ],
             [
              0.2222222222222222,
              "#7201a8"
             ],
             [
              0.3333333333333333,
              "#9c179e"
             ],
             [
              0.4444444444444444,
              "#bd3786"
             ],
             [
              0.5555555555555556,
              "#d8576b"
             ],
             [
              0.6666666666666666,
              "#ed7953"
             ],
             [
              0.7777777777777778,
              "#fb9f3a"
             ],
             [
              0.8888888888888888,
              "#fdca26"
             ],
             [
              1,
              "#f0f921"
             ]
            ],
            "type": "surface"
           }
          ],
          "table": [
           {
            "cells": {
             "fill": {
              "color": "#EBF0F8"
             },
             "line": {
              "color": "white"
             }
            },
            "header": {
             "fill": {
              "color": "#C8D4E3"
             },
             "line": {
              "color": "white"
             }
            },
            "type": "table"
           }
          ]
         },
         "layout": {
          "annotationdefaults": {
           "arrowcolor": "#2a3f5f",
           "arrowhead": 0,
           "arrowwidth": 1
          },
          "autotypenumbers": "strict",
          "coloraxis": {
           "colorbar": {
            "outlinewidth": 0,
            "ticks": ""
           }
          },
          "colorscale": {
           "diverging": [
            [
             0,
             "#8e0152"
            ],
            [
             0.1,
             "#c51b7d"
            ],
            [
             0.2,
             "#de77ae"
            ],
            [
             0.3,
             "#f1b6da"
            ],
            [
             0.4,
             "#fde0ef"
            ],
            [
             0.5,
             "#f7f7f7"
            ],
            [
             0.6,
             "#e6f5d0"
            ],
            [
             0.7,
             "#b8e186"
            ],
            [
             0.8,
             "#7fbc41"
            ],
            [
             0.9,
             "#4d9221"
            ],
            [
             1,
             "#276419"
            ]
           ],
           "sequential": [
            [
             0,
             "#0d0887"
            ],
            [
             0.1111111111111111,
             "#46039f"
            ],
            [
             0.2222222222222222,
             "#7201a8"
            ],
            [
             0.3333333333333333,
             "#9c179e"
            ],
            [
             0.4444444444444444,
             "#bd3786"
            ],
            [
             0.5555555555555556,
             "#d8576b"
            ],
            [
             0.6666666666666666,
             "#ed7953"
            ],
            [
             0.7777777777777778,
             "#fb9f3a"
            ],
            [
             0.8888888888888888,
             "#fdca26"
            ],
            [
             1,
             "#f0f921"
            ]
           ],
           "sequentialminus": [
            [
             0,
             "#0d0887"
            ],
            [
             0.1111111111111111,
             "#46039f"
            ],
            [
             0.2222222222222222,
             "#7201a8"
            ],
            [
             0.3333333333333333,
             "#9c179e"
            ],
            [
             0.4444444444444444,
             "#bd3786"
            ],
            [
             0.5555555555555556,
             "#d8576b"
            ],
            [
             0.6666666666666666,
             "#ed7953"
            ],
            [
             0.7777777777777778,
             "#fb9f3a"
            ],
            [
             0.8888888888888888,
             "#fdca26"
            ],
            [
             1,
             "#f0f921"
            ]
           ]
          },
          "colorway": [
           "#636efa",
           "#EF553B",
           "#00cc96",
           "#ab63fa",
           "#FFA15A",
           "#19d3f3",
           "#FF6692",
           "#B6E880",
           "#FF97FF",
           "#FECB52"
          ],
          "font": {
           "color": "#2a3f5f"
          },
          "geo": {
           "bgcolor": "white",
           "lakecolor": "white",
           "landcolor": "#E5ECF6",
           "showlakes": true,
           "showland": true,
           "subunitcolor": "white"
          },
          "hoverlabel": {
           "align": "left"
          },
          "hovermode": "closest",
          "mapbox": {
           "style": "light"
          },
          "paper_bgcolor": "white",
          "plot_bgcolor": "#E5ECF6",
          "polar": {
           "angularaxis": {
            "gridcolor": "white",
            "linecolor": "white",
            "ticks": ""
           },
           "bgcolor": "#E5ECF6",
           "radialaxis": {
            "gridcolor": "white",
            "linecolor": "white",
            "ticks": ""
           }
          },
          "scene": {
           "xaxis": {
            "backgroundcolor": "#E5ECF6",
            "gridcolor": "white",
            "gridwidth": 2,
            "linecolor": "white",
            "showbackground": true,
            "ticks": "",
            "zerolinecolor": "white"
           },
           "yaxis": {
            "backgroundcolor": "#E5ECF6",
            "gridcolor": "white",
            "gridwidth": 2,
            "linecolor": "white",
            "showbackground": true,
            "ticks": "",
            "zerolinecolor": "white"
           },
           "zaxis": {
            "backgroundcolor": "#E5ECF6",
            "gridcolor": "white",
            "gridwidth": 2,
            "linecolor": "white",
            "showbackground": true,
            "ticks": "",
            "zerolinecolor": "white"
           }
          },
          "shapedefaults": {
           "line": {
            "color": "#2a3f5f"
           }
          },
          "ternary": {
           "aaxis": {
            "gridcolor": "white",
            "linecolor": "white",
            "ticks": ""
           },
           "baxis": {
            "gridcolor": "white",
            "linecolor": "white",
            "ticks": ""
           },
           "bgcolor": "#E5ECF6",
           "caxis": {
            "gridcolor": "white",
            "linecolor": "white",
            "ticks": ""
           }
          },
          "title": {
           "x": 0.05
          },
          "xaxis": {
           "automargin": true,
           "gridcolor": "white",
           "linecolor": "white",
           "ticks": "",
           "title": {
            "standoff": 15
           },
           "zerolinecolor": "white",
           "zerolinewidth": 2
          },
          "yaxis": {
           "automargin": true,
           "gridcolor": "white",
           "linecolor": "white",
           "ticks": "",
           "title": {
            "standoff": 15
           },
           "zerolinecolor": "white",
           "zerolinewidth": 2
          }
         }
        },
        "title": {
         "text": "Testing"
        },
        "width": 600,
        "xaxis": {
         "dtick": 1,
         "gridcolor": "rgb(0, 0, 0)",
         "side": "top",
         "ticks": "",
         "title": {
          "text": "Predicted Label"
         }
        },
        "yaxis": {
         "dtick": 1,
         "ticks": "",
         "ticksuffix": "  ",
         "title": {
          "text": "True Label"
         }
        }
       }
      }
     },
     "metadata": {},
     "output_type": "display_data"
    }
   ],
   "source": [
    "# testing\n",
    "# Construimos una visualización para la matriz de confusión\n",
    "z_test = confusion_matrix(np.argmax(testy,axis=1), np.argmax(pred_test,axis=1))\n",
    "# Reformateo la matriz para que me quede mejor el gráfico\n",
    "z_test[[0,2],:] = z_test[[2,0],:]\n",
    "x = ['Healthy', 'OR fault', 'IR fault']\n",
    "y = ['IR fault', 'OR fault', 'Healthy']\n",
    "z_text = [[str(y) for y in x] for x in z_test]\n",
    "heatmap = ff.create_annotated_heatmap(z_test, x=x, y=y, annotation_text=z_text, colorscale='tealrose')\n",
    "heatmap.update_layout(title_text='Testing',height=300,width=600,\n",
    "                      xaxis_title=\"Predicted Label\",yaxis_title=\"True Label\")\n",
    "heatmap.show()"
   ]
  }
 ],
 "metadata": {
  "kernelspec": {
   "display_name": "Python 3",
   "language": "python",
   "name": "python3"
  },
  "language_info": {
   "codemirror_mode": {
    "name": "ipython",
    "version": 3
   },
   "file_extension": ".py",
   "mimetype": "text/x-python",
   "name": "python",
   "nbconvert_exporter": "python",
   "pygments_lexer": "ipython3",
   "version": "3.9.5"
  },
  "orig_nbformat": 4,
  "vscode": {
   "interpreter": {
    "hash": "55923a6ed19f62c923f4f9446379b87364bb44c28ea18797870eef05a25fc661"
   }
  }
 },
 "nbformat": 4,
 "nbformat_minor": 2
}
