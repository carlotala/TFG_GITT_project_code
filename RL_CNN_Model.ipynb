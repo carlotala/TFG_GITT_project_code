{
 "cells": [
  {
   "cell_type": "code",
   "execution_count": 42,
   "metadata": {},
   "outputs": [],
   "source": [
    "# libraries\n",
    "import numpy as np\n",
    "\n",
    "from keras.models import Sequential\n",
    "from keras.layers import Dense\n",
    "from keras.layers import Flatten\n",
    "from keras.layers.convolutional import Conv1D\n",
    "from keras.layers.convolutional import MaxPooling1D\n",
    "from keras.optimizers import Adam\n",
    "from keras.utils import to_categorical\n",
    "\n",
    "from sklearn.metrics import (confusion_matrix, accuracy_score, classification_report,ConfusionMatrixDisplay)\n",
    "\n",
    "import collections\n",
    "\n",
    "import gym\n",
    "import random\n",
    "\n",
    "import matplotlib.pyplot as plt\n",
    "import plotly.figure_factory as ff\n",
    "\n",
    "import os\n",
    "import scipy.io as sio\n",
    "from scipy.fft import fft\n"
   ]
  },
  {
   "cell_type": "code",
   "execution_count": null,
   "metadata": {},
   "outputs": [],
   "source": [
    "# Loading functions for all files in a certain configuration\n",
    "# load a single file as a numpy array\n",
    "def load_file(filepath, filename):\n",
    "\tdata = sio.loadmat(filepath)\n",
    "\t\n",
    "\t# vibration data\n",
    "\tvib_data = data[filename]['Y'][0][0][0][6][2].transpose()\n",
    "\tvib_data = vib_data.reshape(vib_data.shape[0],)\n",
    "\n",
    "\t# frequency domain and splitting into samples of size 1024 (512 in freq)\n",
    "\tn_loop = round(vib_data.shape[0]/1024)\n",
    "\tvib_freq = np.zeros([n_loop,512])\n",
    "\tfor i in range(n_loop):\n",
    "\t\tvib_data_1024 = vib_data[1024*i:1024*(1+i)]\n",
    "\t\tvib_freq[i] = np.abs(fft(vib_data_1024))[0:1024//2]\n",
    "\n",
    "\treturn vib_freq\n",
    "\n",
    "# load a dataset group, such as train or test\n",
    "def load_dataset_group(prefix='',group='', setting=''):\n",
    "\tfilepath = prefix + group + '/' + setting\n",
    "\n",
    "\t# load all 20 files as a single array\n",
    "\t# X will have 20*N rows and 512 columns\n",
    "\t# where N is the number of rows of each file when splitting into samples\n",
    "\tX = np.zeros([1,512])\n",
    "\tfor i in range(1,4): # changed 20 to 3 to reduce dataset length\n",
    "\t\tpath = filepath+'_'+group+'_'+str(i)+'.mat'\n",
    "\t\tfilename = setting+'_'+group+'_'+str(i)\n",
    "\t\tif i == 1:\n",
    "\t\t\tX = load_file(path,filename)\n",
    "\t\telse:\n",
    "\t\t\tX = np.concatenate([X,load_file(path,filename)],axis=0)\n",
    "\t\n",
    "\t# load class output\n",
    "\tif group=='K001' or group=='K002' or group=='K003' or group=='K004' or group=='K005' or group=='K006': # healthy\n",
    "\t\ty = np.ones(X.shape[0])\n",
    "\telif group=='KA04' or group=='KA16' or group=='KA22':# real OR damage\n",
    "\t\ty = np.ones(X.shape[0])*2\n",
    "\telif group=='KI04' or group=='KI16' or group=='KI18':# real IR damage\n",
    "\t\ty = np.ones(X.shape[0])*3\n",
    "\telif group=='KA01' or group=='KA03' or group=='KA07':# artificial OR damage\n",
    "\t\ty = np.ones(X.shape[0])*2\n",
    "\telif group=='KI01' or group=='KI03' or group=='KI07':# artificial IR damage\n",
    "\t\ty = np.ones(X.shape[0])*3\n",
    "\telse:\n",
    "\t\ty = np.zeros(X.shape[0])\n",
    "\treturn X, y\n",
    "\n",
    "# load the dataset, returns train and test X and y elements\n",
    "def load_dataset_settings(prefix='',setting='N15_M07_F10'):\n",
    "\n",
    "\t# load all data\n",
    "\tX_k001, y_k001 = load_dataset_group(prefix+'PPDataset/', 'K001', setting) # healthy\n",
    "\tX_k002, y_k002 = load_dataset_group(prefix+'PPDataset/', 'K002', setting) # healthy\n",
    "\n",
    "\tX_ka01, y_ka01 = load_dataset_group(prefix+'PPDataset/', 'KA01', setting) # artificial OR damage\n",
    "\n",
    "\tX_ki01, y_ki01 = load_dataset_group(prefix+'PPDataset/', 'KI01', setting) # artificial IR damage\n",
    "\n",
    "\tX_ka04, y_ka04 = load_dataset_group(prefix+'PPDataset/', 'KA04', setting) # real OR damage\n",
    "\n",
    "\tX_ki04, y_ki04 = load_dataset_group(prefix+'PPDataset/', 'KI04', setting) # real IR damage\n",
    "\n",
    "\tX = np.concatenate([X_k001,X_k002,X_ka01,X_ki01,X_ka04,X_ki04])\n",
    "\ty = np.concatenate([y_k001,y_k002,y_ka01,y_ki01,y_ka04,y_ki04])\n",
    "\n",
    "\t# zero-offset class values\n",
    "\ty = y - 1\n",
    "\t# one hot encode y\n",
    "\ty = to_categorical(y)\n",
    "\n",
    "\tX = X.reshape(X.shape[0],X.shape[1],1)\n",
    "\n",
    "\tprint(X.shape, y.shape)\n",
    "\treturn X, y"
   ]
  },
  {
   "attachments": {},
   "cell_type": "markdown",
   "metadata": {},
   "source": [
    "### DDQN model with CNN:"
   ]
  },
  {
   "cell_type": "code",
   "execution_count": 11,
   "metadata": {},
   "outputs": [],
   "source": [
    "# load the dataset, returns train and test X and y elements\n",
    "def load_dataset():\n",
    "\n",
    "\t# load all data\n",
    "\twith open('PPDataset/train_test_data/trainX.npy', 'rb') as f:\n",
    "\t\ttrainX = np.load(f)\n",
    "\twith open('PPDataset/train_test_data/trainy.npy', 'rb') as f:\n",
    "\t\ttrainy = np.load(f)\n",
    "\twith open('PPDataset/train_test_data/testX.npy', 'rb') as f:\n",
    "\t\ttestX = np.load(f)\n",
    "\twith open('PPDataset/train_test_data/testy.npy', 'rb') as f:\n",
    "\t\ttesty = np.load(f)\n",
    "\t\n",
    "\tprint(trainX.shape, trainy.shape, testX.shape, testy.shape)\n",
    "\t\n",
    "\treturn trainX, trainy, testX, testy"
   ]
  },
  {
   "cell_type": "code",
   "execution_count": 12,
   "metadata": {},
   "outputs": [],
   "source": [
    "# define model\n",
    "def get_model(trainX, trainy, learning_rate):\n",
    "    n_timesteps, n_features, n_outputs = trainX.shape[1], trainX.shape[2], trainy.shape[1]\n",
    "    model = Sequential()\n",
    "    model.add(Conv1D(filters=4, kernel_size=3, activation='relu',input_shape=(n_timesteps,n_features)))\n",
    "    model.add(MaxPooling1D(pool_size=2))\n",
    "    model.add(Conv1D(filters=8, kernel_size=3, activation='relu'))\n",
    "    model.add(MaxPooling1D(pool_size=2))\n",
    "    model.add(Flatten())\n",
    "    model.add(Dense(100, activation='relu'))\n",
    "    model.add(Dense(n_outputs, activation='softmax'))\n",
    "    model.add(Flatten())\n",
    "\n",
    "    model.compile(optimizer=Adam(learning_rate=learning_rate), loss='mse', metrics=['accuracy'])\n",
    "    \n",
    "    return model"
   ]
  },
  {
   "cell_type": "code",
   "execution_count": 13,
   "metadata": {},
   "outputs": [],
   "source": [
    "Experience = collections.namedtuple('Experience', \n",
    "           field_names=['state', 'action', 'reward', \n",
    "           'new_state', 'done'])\n",
    "           \n",
    "class ExperiencePool:\n",
    "    def __init__(self, capacity):\n",
    "        self.buffer = collections.deque(maxlen=capacity)\n",
    "        self.pool_counter= 0\n",
    "\n",
    "    def __len__(self):\n",
    "        return len(self.buffer)\n",
    "\n",
    "    def append(self, experience):\n",
    "        self.buffer.append(experience)\n",
    "        self.pool_counter += 1\n",
    "    \n",
    "    def sample(self, batch_size):\n",
    "        indices = np.random.choice(len(self.buffer), batch_size, replace=False)\n",
    "        states, actions, rewards, next_states, dones = zip(*[self.buffer[idx] for idx in indices])\n",
    "        return np.array(states), np.array(actions), \\\n",
    "                np.array(rewards,dtype=np.float32), \\\n",
    "                np.array(next_states), \\\n",
    "                np.array(dones, dtype=np.uint8)"
   ]
  },
  {
   "cell_type": "code",
   "execution_count": 14,
   "metadata": {},
   "outputs": [],
   "source": [
    "class DDQNAgent(object):\n",
    "    def __init__(self, learning_rate, discount_factor, action_space,\n",
    "                 trainX, trainy, batch_size,\n",
    "                 epsilon_decay, epsilon_min, epsilon_0,\n",
    "                 mem_size, replace_target): # epsilon_0, epsilon_total, epsilon_min,\n",
    "        \n",
    "        self.action_space = action_space\n",
    "        self.n_actions = 3\n",
    "        self.gamma = discount_factor\n",
    "\n",
    "        # self.epsilon_0 = epsilon_0\n",
    "        # self.epsilon_total = epsilon_total\n",
    "        self.epsilon_min = epsilon_min\n",
    "        self.epsilon_0 = epsilon_0\n",
    "        self.epsilon_decay = epsilon_decay\n",
    "        self.epsilon = self.epsilon_min + (self.epsilon_0-self.epsilon_min)*np.exp(-self.epsilon_decay)\n",
    "        # self.epsilon = max(epsilon_min,(epsilon_0-epsilon_min)/epsilon_total)\n",
    "        self.reward_count = 0\n",
    "\n",
    "        self.batch_size = batch_size\n",
    "        self.replace_target = replace_target\n",
    "        self.pool = ExperiencePool(mem_size)\n",
    "        \n",
    "        self.q_policy = get_model(trainX, trainy, learning_rate)\n",
    "        self.q_target = get_model(trainX, trainy, learning_rate)\n",
    "        self.update_network_parameters()\n",
    "\n",
    "    def update_epsilon(self):\n",
    "        self.epsilon = self.epsilon_min + (self.epsilon_0-self.epsilon_min)*np.exp(-self.epsilon_decay*self.episode_count)\n",
    "        # self.epsilon = max(self.epsilon_min,(self.epsilon_0-self.epsilon_min)*t/self.epsilon_total)\n",
    "\n",
    "    def reset_pool(self, mem_size):\n",
    "        self.pool = ExperiencePool(mem_size)\n",
    "\n",
    "    def set_episode_count(self, episode_count):\n",
    "        self.episode_count = episode_count\n",
    "\n",
    "    def add_experience(self, experience): #state, action, reward, new_state, done\n",
    "        self.pool.append(experience) #state, action, reward, new_state, done\n",
    "\n",
    "    def choose_action(self, state):\n",
    "        state = state[np.newaxis, :]\n",
    "        rand = np.random.random()\n",
    "        if rand < self.epsilon:\n",
    "            action = np.random.choice(self.action_space)\n",
    "        else:\n",
    "            actions = self.q_policy.predict(state,verbose=0)\n",
    "            action = np.argmax(actions)\n",
    "\n",
    "        return action\n",
    "\n",
    "    def learn(self):\n",
    "        if self.pool.pool_counter >= self.batch_size:\n",
    "            states, actions, rewards, new_states, dones = self.pool.sample(self.batch_size)\n",
    "\n",
    "            q_next_target = self.q_target.predict(new_states, verbose=0)\n",
    "            q_policy_next = self.q_policy.predict(new_states, verbose=0)\n",
    "            q_policy_pred = self.q_policy.predict(states, verbose=0)\n",
    "\n",
    "            max_actions = np.argmax(q_policy_next, axis=1)\n",
    "\n",
    "            y_j = q_policy_pred\n",
    "\n",
    "            batch_index = np.arange(self.batch_size, dtype=np.int32)\n",
    "            \n",
    "            y_j[batch_index, actions] = rewards + \\\n",
    "                    self.gamma*q_next_target[batch_index, max_actions.astype(int)]*dones\n",
    "\n",
    "            history = self.q_policy.fit(states, y_j, verbose=2)\n",
    "            \n",
    "            if self.episode_count % self.replace_target == 0:\n",
    "                self.update_network_parameters()\n",
    "\n",
    "            return history.history['accuracy'], history.history['loss']\n",
    "        return 0,0\n",
    "\n",
    "    def update_network_parameters(self):\n",
    "        self.q_target.set_weights(self.q_policy.get_weights())"
   ]
  },
  {
   "cell_type": "code",
   "execution_count": 15,
   "metadata": {},
   "outputs": [],
   "source": [
    "class PowerPlantEnv(gym.Env):\n",
    "    def __init__(self, dataset):\n",
    "        super().__init__()\n",
    "\n",
    "        self.action_space = gym.spaces.Discrete(3) # 3 classes\n",
    "\n",
    "        self.x, self.y = dataset\n",
    "        self.dataset_idx = 0\n",
    "\n",
    "    def step(self, action):\n",
    "        if action == self.expected_action:\n",
    "            reward = 1\n",
    "        else:\n",
    "            reward = -1\n",
    "            \n",
    "        obs = self._next_obs()\n",
    "\n",
    "        return obs, reward, False, {}\n",
    "\n",
    "    def _next_obs(self):\n",
    "        next_obs_idx = random.randint(0, len(self.x) - 1)\n",
    "        self.expected_action = np.argmax(self.y[next_obs_idx])\n",
    "        obs = self.x[next_obs_idx]\n",
    "\n",
    "        return obs\n"
   ]
  },
  {
   "attachments": {},
   "cell_type": "markdown",
   "metadata": {},
   "source": [
    "Training:"
   ]
  },
  {
   "cell_type": "code",
   "execution_count": 16,
   "metadata": {},
   "outputs": [
    {
     "name": "stdout",
     "output_type": "stream",
     "text": [
      "(3022, 512, 1) (3022, 3) (1489, 512, 1) (1489, 3)\n",
      "\n",
      ">> Episode:  1 / 450\n",
      "2/2 - 0s - loss: 0.7011 - accuracy: 0.3438 - 495ms/epoch - 248ms/step\n",
      "Cummulative reward:  -32\n",
      "\n",
      ">> Episode:  2 / 450\n",
      "2/2 - 0s - loss: 0.6371 - accuracy: 0.4219 - 12ms/epoch - 6ms/step\n",
      "Cummulative reward:  -24\n",
      "\n",
      ">> Episode:  3 / 450\n",
      "2/2 - 0s - loss: 0.5957 - accuracy: 0.4219 - 12ms/epoch - 6ms/step\n",
      "Cummulative reward:  -22\n",
      "\n",
      ">> Episode:  4 / 450\n",
      "2/2 - 0s - loss: 0.3836 - accuracy: 0.6094 - 11ms/epoch - 6ms/step\n",
      "Cummulative reward:  12\n",
      "\n",
      ">> Episode:  5 / 450\n",
      "2/2 - 0s - loss: 0.4128 - accuracy: 0.5938 - 11ms/epoch - 5ms/step\n",
      "Cummulative reward:  10\n",
      "\n",
      ">> Episode:  6 / 450\n",
      "2/2 - 0s - loss: 0.3823 - accuracy: 0.6406 - 11ms/epoch - 6ms/step\n",
      "Cummulative reward:  6\n",
      "\n",
      ">> Episode:  7 / 450\n",
      "2/2 - 0s - loss: 0.3901 - accuracy: 0.6250 - 15ms/epoch - 7ms/step\n",
      "Cummulative reward:  10\n",
      "\n",
      ">> Episode:  8 / 450\n",
      "2/2 - 0s - loss: 0.2171 - accuracy: 0.7656 - 11ms/epoch - 5ms/step\n",
      "Cummulative reward:  34\n",
      "\n",
      ">> Episode:  9 / 450\n",
      "2/2 - 0s - loss: 0.2341 - accuracy: 0.7656 - 11ms/epoch - 6ms/step\n",
      "Cummulative reward:  32\n",
      "\n",
      ">> Episode:  10 / 450\n",
      "2/2 - 0s - loss: 0.1836 - accuracy: 0.8281 - 13ms/epoch - 6ms/step\n",
      "Cummulative reward:  40\n",
      "\n",
      ">> Episode:  11 / 450\n",
      "2/2 - 0s - loss: 0.1809 - accuracy: 0.8281 - 16ms/epoch - 8ms/step\n",
      "Cummulative reward:  42\n",
      "\n",
      ">> Episode:  12 / 450\n",
      "2/2 - 0s - loss: 0.2500 - accuracy: 0.7812 - 12ms/epoch - 6ms/step\n",
      "Cummulative reward:  32\n",
      "\n",
      ">> Episode:  13 / 450\n",
      "2/2 - 0s - loss: 0.2084 - accuracy: 0.7812 - 12ms/epoch - 6ms/step\n",
      "Cummulative reward:  36\n",
      "\n",
      ">> Episode:  14 / 450\n",
      "2/2 - 0s - loss: 0.1850 - accuracy: 0.8281 - 12ms/epoch - 6ms/step\n",
      "Cummulative reward:  42\n",
      "\n",
      ">> Episode:  15 / 450\n",
      "2/2 - 0s - loss: 0.1665 - accuracy: 0.8438 - 15ms/epoch - 8ms/step\n",
      "Cummulative reward:  44\n",
      "\n",
      ">> Episode:  16 / 450\n",
      "2/2 - 0s - loss: 0.1880 - accuracy: 0.7969 - 12ms/epoch - 6ms/step\n",
      "Cummulative reward:  38\n",
      "\n",
      ">> Episode:  17 / 450\n",
      "2/2 - 0s - loss: 0.1873 - accuracy: 0.8281 - 11ms/epoch - 5ms/step\n",
      "Cummulative reward:  38\n",
      "\n",
      ">> Episode:  18 / 450\n",
      "2/2 - 0s - loss: 0.1451 - accuracy: 0.8594 - 11ms/epoch - 5ms/step\n",
      "Cummulative reward:  46\n",
      "\n",
      ">> Episode:  19 / 450\n",
      "2/2 - 0s - loss: 0.1617 - accuracy: 0.8594 - 11ms/epoch - 6ms/step\n",
      "Cummulative reward:  44\n",
      "\n",
      ">> Episode:  20 / 450\n",
      "2/2 - 0s - loss: 0.1749 - accuracy: 0.8438 - 12ms/epoch - 6ms/step\n",
      "Cummulative reward:  42\n",
      "\n",
      ">> Episode:  21 / 450\n",
      "2/2 - 0s - loss: 0.1670 - accuracy: 0.8438 - 10ms/epoch - 5ms/step\n",
      "Cummulative reward:  44\n",
      "\n",
      ">> Episode:  22 / 450\n",
      "2/2 - 0s - loss: 0.1226 - accuracy: 0.8906 - 14ms/epoch - 7ms/step\n",
      "Cummulative reward:  50\n",
      "\n",
      ">> Episode:  23 / 450\n",
      "2/2 - 0s - loss: 0.1019 - accuracy: 0.9062 - 12ms/epoch - 6ms/step\n",
      "Cummulative reward:  52\n",
      "\n",
      ">> Episode:  24 / 450\n",
      "2/2 - 0s - loss: 0.1257 - accuracy: 0.8750 - 11ms/epoch - 6ms/step\n",
      "Cummulative reward:  48\n",
      "\n",
      ">> Episode:  25 / 450\n",
      "2/2 - 0s - loss: 0.1845 - accuracy: 0.8125 - 10ms/epoch - 5ms/step\n",
      "Cummulative reward:  40\n",
      "\n",
      ">> Episode:  26 / 450\n",
      "2/2 - 0s - loss: 0.1174 - accuracy: 0.8906 - 10ms/epoch - 5ms/step\n",
      "Cummulative reward:  52\n",
      "\n",
      ">> Episode:  27 / 450\n",
      "2/2 - 0s - loss: 0.1185 - accuracy: 0.8750 - 11ms/epoch - 5ms/step\n",
      "Cummulative reward:  50\n",
      "\n",
      ">> Episode:  28 / 450\n",
      "2/2 - 0s - loss: 0.0692 - accuracy: 0.9531 - 11ms/epoch - 5ms/step\n",
      "Cummulative reward:  54\n",
      "\n",
      ">> Episode:  29 / 450\n",
      "2/2 - 0s - loss: 0.0528 - accuracy: 0.9688 - 11ms/epoch - 5ms/step\n",
      "Cummulative reward:  58\n",
      "\n",
      ">> Episode:  30 / 450\n",
      "2/2 - 0s - loss: 0.0880 - accuracy: 0.9219 - 12ms/epoch - 6ms/step\n",
      "Cummulative reward:  54\n",
      "\n",
      ">> Episode:  31 / 450\n",
      "2/2 - 0s - loss: 0.0575 - accuracy: 0.9531 - 12ms/epoch - 6ms/step\n",
      "Cummulative reward:  58\n",
      "\n",
      ">> Episode:  32 / 450\n",
      "2/2 - 0s - loss: 0.0378 - accuracy: 0.9688 - 12ms/epoch - 6ms/step\n",
      "Cummulative reward:  60\n",
      "\n",
      ">> Episode:  33 / 450\n",
      "2/2 - 0s - loss: 0.1414 - accuracy: 0.8750 - 11ms/epoch - 6ms/step\n",
      "Cummulative reward:  44\n",
      "\n",
      ">> Episode:  34 / 450\n",
      "2/2 - 0s - loss: 0.0495 - accuracy: 0.9375 - 12ms/epoch - 6ms/step\n",
      "Cummulative reward:  58\n",
      "\n",
      ">> Episode:  35 / 450\n",
      "2/2 - 0s - loss: 0.0721 - accuracy: 0.9375 - 11ms/epoch - 5ms/step\n",
      "Cummulative reward:  56\n",
      "\n",
      ">> Episode:  36 / 450\n",
      "2/2 - 0s - loss: 0.1662 - accuracy: 0.9062 - 12ms/epoch - 6ms/step\n",
      "Cummulative reward:  40\n",
      "\n",
      ">> Episode:  37 / 450\n",
      "2/2 - 0s - loss: 0.0523 - accuracy: 0.9375 - 22ms/epoch - 11ms/step\n",
      "Cummulative reward:  58\n",
      "\n",
      ">> Episode:  38 / 450\n",
      "2/2 - 0s - loss: 0.2014 - accuracy: 0.8125 - 18ms/epoch - 9ms/step\n",
      "Cummulative reward:  36\n",
      "\n",
      ">> Episode:  39 / 450\n",
      "2/2 - 0s - loss: 0.1151 - accuracy: 0.9219 - 24ms/epoch - 12ms/step\n",
      "Cummulative reward:  46\n",
      "\n",
      ">> Episode:  40 / 450\n",
      "2/2 - 0s - loss: 0.1432 - accuracy: 0.8750 - 13ms/epoch - 7ms/step\n",
      "Cummulative reward:  46\n",
      "\n",
      ">> Episode:  41 / 450\n",
      "2/2 - 0s - loss: 0.0793 - accuracy: 0.9375 - 64ms/epoch - 32ms/step\n",
      "Cummulative reward:  54\n",
      "\n",
      ">> Episode:  42 / 450\n",
      "2/2 - 0s - loss: 0.0692 - accuracy: 0.9375 - 12ms/epoch - 6ms/step\n",
      "Cummulative reward:  56\n",
      "\n",
      ">> Episode:  43 / 450\n",
      "2/2 - 0s - loss: 0.0998 - accuracy: 0.8906 - 12ms/epoch - 6ms/step\n",
      "Cummulative reward:  52\n",
      "\n",
      ">> Episode:  44 / 450\n",
      "2/2 - 0s - loss: 0.0614 - accuracy: 0.9375 - 11ms/epoch - 5ms/step\n",
      "Cummulative reward:  56\n",
      "\n",
      ">> Episode:  45 / 450\n",
      "2/2 - 0s - loss: 0.1395 - accuracy: 0.8438 - 12ms/epoch - 6ms/step\n",
      "Cummulative reward:  44\n",
      "\n",
      ">> Episode:  46 / 450\n",
      "2/2 - 0s - loss: 0.0874 - accuracy: 0.9219 - 12ms/epoch - 6ms/step\n",
      "Cummulative reward:  52\n",
      "\n",
      ">> Episode:  47 / 450\n",
      "2/2 - 0s - loss: 0.0777 - accuracy: 0.9375 - 12ms/epoch - 6ms/step\n",
      "Cummulative reward:  56\n",
      "\n",
      ">> Episode:  48 / 450\n",
      "2/2 - 0s - loss: 0.0866 - accuracy: 0.9219 - 12ms/epoch - 6ms/step\n",
      "Cummulative reward:  54\n",
      "\n",
      ">> Episode:  49 / 450\n",
      "2/2 - 0s - loss: 0.0643 - accuracy: 0.9531 - 13ms/epoch - 6ms/step\n",
      "Cummulative reward:  58\n",
      "\n",
      ">> Episode:  50 / 450\n",
      "2/2 - 0s - loss: 0.0740 - accuracy: 0.9375 - 11ms/epoch - 6ms/step\n",
      "Cummulative reward:  54\n",
      "\n",
      ">> Episode:  51 / 450\n",
      "2/2 - 0s - loss: 0.0870 - accuracy: 0.9062 - 12ms/epoch - 6ms/step\n",
      "Cummulative reward:  52\n",
      "\n",
      ">> Episode:  52 / 450\n",
      "2/2 - 0s - loss: 0.1417 - accuracy: 0.8750 - 12ms/epoch - 6ms/step\n",
      "Cummulative reward:  48\n",
      "\n",
      ">> Episode:  53 / 450\n",
      "2/2 - 0s - loss: 0.0874 - accuracy: 0.9062 - 11ms/epoch - 5ms/step\n",
      "Cummulative reward:  54\n",
      "\n",
      ">> Episode:  54 / 450\n",
      "2/2 - 0s - loss: 0.1196 - accuracy: 0.8906 - 15ms/epoch - 7ms/step\n",
      "Cummulative reward:  48\n",
      "\n",
      ">> Episode:  55 / 450\n",
      "2/2 - 0s - loss: 0.0707 - accuracy: 0.9375 - 14ms/epoch - 7ms/step\n",
      "Cummulative reward:  56\n",
      "\n",
      ">> Episode:  56 / 450\n",
      "2/2 - 0s - loss: 0.1035 - accuracy: 0.9062 - 17ms/epoch - 8ms/step\n",
      "Cummulative reward:  50\n",
      "\n",
      ">> Episode:  57 / 450\n",
      "2/2 - 0s - loss: 0.1403 - accuracy: 0.8750 - 14ms/epoch - 7ms/step\n",
      "Cummulative reward:  48\n",
      "\n",
      ">> Episode:  58 / 450\n",
      "2/2 - 0s - loss: 0.0292 - accuracy: 0.9688 - 12ms/epoch - 6ms/step\n",
      "Cummulative reward:  60\n",
      "\n",
      ">> Episode:  59 / 450\n",
      "2/2 - 0s - loss: 0.1128 - accuracy: 0.8906 - 12ms/epoch - 6ms/step\n",
      "Cummulative reward:  50\n",
      "\n",
      ">> Episode:  60 / 450\n",
      "2/2 - 0s - loss: 0.0917 - accuracy: 0.9375 - 12ms/epoch - 6ms/step\n",
      "Cummulative reward:  50\n",
      "\n",
      ">> Episode:  61 / 450\n",
      "2/2 - 0s - loss: 0.1562 - accuracy: 0.7969 - 11ms/epoch - 6ms/step\n",
      "Cummulative reward:  46\n",
      "\n",
      ">> Episode:  62 / 450\n",
      "2/2 - 0s - loss: 0.0880 - accuracy: 0.9219 - 14ms/epoch - 7ms/step\n",
      "Cummulative reward:  52\n",
      "\n",
      ">> Episode:  63 / 450\n",
      "2/2 - 0s - loss: 0.1484 - accuracy: 0.8594 - 13ms/epoch - 7ms/step\n",
      "Cummulative reward:  40\n",
      "\n",
      ">> Episode:  64 / 450\n",
      "2/2 - 0s - loss: 0.0481 - accuracy: 0.9688 - 15ms/epoch - 7ms/step\n",
      "Cummulative reward:  58\n",
      "\n",
      ">> Episode:  65 / 450\n",
      "2/2 - 0s - loss: 0.1187 - accuracy: 0.8906 - 12ms/epoch - 6ms/step\n",
      "Cummulative reward:  48\n",
      "\n",
      ">> Episode:  66 / 450\n",
      "2/2 - 0s - loss: 0.1011 - accuracy: 0.9062 - 13ms/epoch - 6ms/step\n",
      "Cummulative reward:  50\n",
      "\n",
      ">> Episode:  67 / 450\n",
      "2/2 - 0s - loss: 0.0548 - accuracy: 0.9531 - 12ms/epoch - 6ms/step\n",
      "Cummulative reward:  58\n",
      "\n",
      ">> Episode:  68 / 450\n",
      "2/2 - 0s - loss: 0.0768 - accuracy: 0.9219 - 15ms/epoch - 8ms/step\n",
      "Cummulative reward:  54\n",
      "\n",
      ">> Episode:  69 / 450\n",
      "2/2 - 0s - loss: 0.0823 - accuracy: 0.9375 - 13ms/epoch - 7ms/step\n",
      "Cummulative reward:  56\n",
      "\n",
      ">> Episode:  70 / 450\n",
      "2/2 - 0s - loss: 0.1001 - accuracy: 0.8906 - 13ms/epoch - 6ms/step\n",
      "Cummulative reward:  52\n",
      "\n",
      ">> Episode:  71 / 450\n",
      "2/2 - 0s - loss: 0.0747 - accuracy: 0.9219 - 13ms/epoch - 6ms/step\n",
      "Cummulative reward:  52\n",
      "\n",
      ">> Episode:  72 / 450\n",
      "2/2 - 0s - loss: 0.1337 - accuracy: 0.8750 - 14ms/epoch - 7ms/step\n",
      "Cummulative reward:  48\n",
      "\n",
      ">> Episode:  73 / 450\n",
      "2/2 - 0s - loss: 0.0261 - accuracy: 0.9688 - 12ms/epoch - 6ms/step\n",
      "Cummulative reward:  62\n",
      "\n",
      ">> Episode:  74 / 450\n",
      "2/2 - 0s - loss: 0.0449 - accuracy: 0.9688 - 12ms/epoch - 6ms/step\n",
      "Cummulative reward:  56\n",
      "\n",
      ">> Episode:  75 / 450\n",
      "2/2 - 0s - loss: 0.0866 - accuracy: 0.9375 - 15ms/epoch - 7ms/step\n",
      "Cummulative reward:  54\n",
      "\n",
      ">> Episode:  76 / 450\n",
      "2/2 - 0s - loss: 0.0742 - accuracy: 0.9375 - 13ms/epoch - 6ms/step\n",
      "Cummulative reward:  54\n",
      "\n",
      ">> Episode:  77 / 450\n",
      "2/2 - 0s - loss: 0.0554 - accuracy: 0.9531 - 13ms/epoch - 7ms/step\n",
      "Cummulative reward:  58\n",
      "\n",
      ">> Episode:  78 / 450\n",
      "2/2 - 0s - loss: 0.0643 - accuracy: 0.9531 - 13ms/epoch - 6ms/step\n",
      "Cummulative reward:  56\n",
      "\n",
      ">> Episode:  79 / 450\n",
      "2/2 - 0s - loss: 0.0412 - accuracy: 0.9688 - 15ms/epoch - 7ms/step\n",
      "Cummulative reward:  60\n",
      "\n",
      ">> Episode:  80 / 450\n",
      "2/2 - 0s - loss: 0.0718 - accuracy: 0.9375 - 14ms/epoch - 7ms/step\n",
      "Cummulative reward:  56\n",
      "\n",
      ">> Episode:  81 / 450\n",
      "2/2 - 0s - loss: 0.0733 - accuracy: 0.9375 - 15ms/epoch - 7ms/step\n",
      "Cummulative reward:  56\n",
      "\n",
      ">> Episode:  82 / 450\n",
      "2/2 - 0s - loss: 0.0578 - accuracy: 0.9531 - 30ms/epoch - 15ms/step\n",
      "Cummulative reward:  56\n",
      "\n",
      ">> Episode:  83 / 450\n",
      "2/2 - 0s - loss: 0.0485 - accuracy: 0.9688 - 14ms/epoch - 7ms/step\n",
      "Cummulative reward:  56\n",
      "\n",
      ">> Episode:  84 / 450\n",
      "2/2 - 0s - loss: 0.0544 - accuracy: 0.9375 - 12ms/epoch - 6ms/step\n",
      "Cummulative reward:  56\n",
      "\n",
      ">> Episode:  85 / 450\n",
      "2/2 - 0s - loss: 0.0966 - accuracy: 0.9062 - 12ms/epoch - 6ms/step\n",
      "Cummulative reward:  52\n",
      "\n",
      ">> Episode:  86 / 450\n",
      "2/2 - 0s - loss: 0.1007 - accuracy: 0.9219 - 13ms/epoch - 6ms/step\n",
      "Cummulative reward:  50\n",
      "\n",
      ">> Episode:  87 / 450\n",
      "2/2 - 0s - loss: 0.0460 - accuracy: 0.9688 - 12ms/epoch - 6ms/step\n",
      "Cummulative reward:  58\n",
      "\n",
      ">> Episode:  88 / 450\n",
      "2/2 - 0s - loss: 0.0879 - accuracy: 0.9219 - 15ms/epoch - 7ms/step\n",
      "Cummulative reward:  54\n",
      "\n",
      ">> Episode:  89 / 450\n",
      "2/2 - 0s - loss: 0.0340 - accuracy: 0.9688 - 17ms/epoch - 9ms/step\n",
      "Cummulative reward:  60\n",
      "\n",
      ">> Episode:  90 / 450\n",
      "2/2 - 0s - loss: 0.0412 - accuracy: 0.9844 - 19ms/epoch - 9ms/step\n",
      "Cummulative reward:  58\n",
      "\n",
      ">> Episode:  91 / 450\n",
      "2/2 - 0s - loss: 0.0954 - accuracy: 0.9062 - 14ms/epoch - 7ms/step\n",
      "Cummulative reward:  50\n",
      "\n",
      ">> Episode:  92 / 450\n",
      "2/2 - 0s - loss: 0.0220 - accuracy: 0.9844 - 14ms/epoch - 7ms/step\n",
      "Cummulative reward:  62\n",
      "\n",
      ">> Episode:  93 / 450\n",
      "2/2 - 0s - loss: 0.0399 - accuracy: 0.9688 - 14ms/epoch - 7ms/step\n",
      "Cummulative reward:  60\n",
      "\n",
      ">> Episode:  94 / 450\n",
      "2/2 - 0s - loss: 0.0592 - accuracy: 0.9531 - 13ms/epoch - 7ms/step\n",
      "Cummulative reward:  56\n",
      "\n",
      ">> Episode:  95 / 450\n",
      "2/2 - 0s - loss: 0.0173 - accuracy: 1.0000 - 13ms/epoch - 7ms/step\n",
      "Cummulative reward:  62\n",
      "\n",
      ">> Episode:  96 / 450\n",
      "2/2 - 0s - loss: 0.0630 - accuracy: 0.9375 - 13ms/epoch - 7ms/step\n",
      "Cummulative reward:  56\n",
      "\n",
      ">> Episode:  97 / 450\n",
      "2/2 - 0s - loss: 0.0865 - accuracy: 0.9062 - 13ms/epoch - 7ms/step\n",
      "Cummulative reward:  54\n",
      "\n",
      ">> Episode:  98 / 450\n",
      "2/2 - 0s - loss: 0.0721 - accuracy: 0.9531 - 14ms/epoch - 7ms/step\n",
      "Cummulative reward:  54\n",
      "\n",
      ">> Episode:  99 / 450\n",
      "2/2 - 0s - loss: 0.0774 - accuracy: 0.9219 - 13ms/epoch - 7ms/step\n",
      "Cummulative reward:  54\n",
      "\n",
      ">> Episode:  100 / 450\n",
      "2/2 - 0s - loss: 0.0440 - accuracy: 0.9531 - 14ms/epoch - 7ms/step\n",
      "Cummulative reward:  58\n",
      "\n",
      ">> Episode:  101 / 450\n",
      "2/2 - 0s - loss: 0.0349 - accuracy: 0.9844 - 14ms/epoch - 7ms/step\n",
      "Cummulative reward:  58\n",
      "\n",
      ">> Episode:  102 / 450\n",
      "2/2 - 0s - loss: 0.0437 - accuracy: 0.9531 - 15ms/epoch - 7ms/step\n",
      "Cummulative reward:  58\n",
      "\n",
      ">> Episode:  103 / 450\n",
      "2/2 - 0s - loss: 0.0059 - accuracy: 1.0000 - 15ms/epoch - 7ms/step\n",
      "Cummulative reward:  64\n",
      "\n",
      ">> Episode:  104 / 450\n",
      "2/2 - 0s - loss: 0.0188 - accuracy: 1.0000 - 13ms/epoch - 7ms/step\n",
      "Cummulative reward:  60\n",
      "\n",
      ">> Episode:  105 / 450\n",
      "2/2 - 0s - loss: 0.0069 - accuracy: 1.0000 - 14ms/epoch - 7ms/step\n",
      "Cummulative reward:  64\n",
      "\n",
      ">> Episode:  106 / 450\n",
      "2/2 - 0s - loss: 0.0432 - accuracy: 0.9531 - 13ms/epoch - 7ms/step\n",
      "Cummulative reward:  60\n",
      "\n",
      ">> Episode:  107 / 450\n",
      "2/2 - 0s - loss: 0.0056 - accuracy: 1.0000 - 30ms/epoch - 15ms/step\n",
      "Cummulative reward:  64\n",
      "\n",
      ">> Episode:  108 / 450\n",
      "2/2 - 0s - loss: 0.0237 - accuracy: 0.9844 - 16ms/epoch - 8ms/step\n",
      "Cummulative reward:  60\n",
      "\n",
      ">> Episode:  109 / 450\n",
      "2/2 - 0s - loss: 0.0098 - accuracy: 1.0000 - 14ms/epoch - 7ms/step\n",
      "Cummulative reward:  62\n",
      "\n",
      ">> Episode:  110 / 450\n",
      "2/2 - 0s - loss: 0.1018 - accuracy: 0.9219 - 12ms/epoch - 6ms/step\n",
      "Cummulative reward:  52\n",
      "\n",
      ">> Episode:  111 / 450\n",
      "2/2 - 0s - loss: 0.0213 - accuracy: 0.9844 - 15ms/epoch - 7ms/step\n",
      "Cummulative reward:  62\n",
      "\n",
      ">> Episode:  112 / 450\n",
      "2/2 - 0s - loss: 0.0104 - accuracy: 0.9688 - 15ms/epoch - 7ms/step\n",
      "Cummulative reward:  64\n",
      "\n",
      ">> Episode:  113 / 450\n",
      "2/2 - 0s - loss: 0.0420 - accuracy: 0.9688 - 12ms/epoch - 6ms/step\n",
      "Cummulative reward:  58\n",
      "\n",
      ">> Episode:  114 / 450\n",
      "2/2 - 0s - loss: 0.0671 - accuracy: 0.9531 - 14ms/epoch - 7ms/step\n",
      "Cummulative reward:  54\n",
      "\n",
      ">> Episode:  115 / 450\n",
      "2/2 - 0s - loss: 0.0722 - accuracy: 0.9531 - 15ms/epoch - 8ms/step\n",
      "Cummulative reward:  56\n",
      "\n",
      ">> Episode:  116 / 450\n",
      "2/2 - 0s - loss: 0.0822 - accuracy: 0.9375 - 13ms/epoch - 6ms/step\n",
      "Cummulative reward:  52\n",
      "\n",
      ">> Episode:  117 / 450\n",
      "2/2 - 0s - loss: 0.0079 - accuracy: 1.0000 - 14ms/epoch - 7ms/step\n",
      "Cummulative reward:  64\n",
      "\n",
      ">> Episode:  118 / 450\n",
      "2/2 - 0s - loss: 0.0975 - accuracy: 0.9062 - 21ms/epoch - 11ms/step\n",
      "Cummulative reward:  52\n",
      "\n",
      ">> Episode:  119 / 450\n",
      "2/2 - 0s - loss: 0.0833 - accuracy: 0.9219 - 15ms/epoch - 7ms/step\n",
      "Cummulative reward:  52\n",
      "\n",
      ">> Episode:  120 / 450\n",
      "2/2 - 0s - loss: 0.0550 - accuracy: 0.9375 - 13ms/epoch - 7ms/step\n",
      "Cummulative reward:  56\n",
      "\n",
      ">> Episode:  121 / 450\n",
      "2/2 - 0s - loss: 0.0484 - accuracy: 0.9531 - 12ms/epoch - 6ms/step\n",
      "Cummulative reward:  56\n",
      "\n",
      ">> Episode:  122 / 450\n",
      "2/2 - 0s - loss: 0.0431 - accuracy: 0.9688 - 33ms/epoch - 16ms/step\n",
      "Cummulative reward:  58\n",
      "\n",
      ">> Episode:  123 / 450\n",
      "2/2 - 0s - loss: 0.0477 - accuracy: 0.9531 - 15ms/epoch - 7ms/step\n",
      "Cummulative reward:  58\n",
      "\n",
      ">> Episode:  124 / 450\n",
      "2/2 - 0s - loss: 0.0806 - accuracy: 0.9375 - 14ms/epoch - 7ms/step\n",
      "Cummulative reward:  52\n",
      "\n",
      ">> Episode:  125 / 450\n",
      "2/2 - 0s - loss: 0.0248 - accuracy: 0.9688 - 13ms/epoch - 7ms/step\n",
      "Cummulative reward:  60\n",
      "\n",
      ">> Episode:  126 / 450\n",
      "2/2 - 0s - loss: 0.0386 - accuracy: 0.9688 - 14ms/epoch - 7ms/step\n",
      "Cummulative reward:  58\n",
      "\n",
      ">> Episode:  127 / 450\n",
      "2/2 - 0s - loss: 0.0158 - accuracy: 0.9844 - 14ms/epoch - 7ms/step\n",
      "Cummulative reward:  62\n",
      "\n",
      ">> Episode:  128 / 450\n",
      "2/2 - 0s - loss: 0.1073 - accuracy: 0.8906 - 17ms/epoch - 8ms/step\n",
      "Cummulative reward:  48\n",
      "\n",
      ">> Episode:  129 / 450\n",
      "2/2 - 0s - loss: 0.0531 - accuracy: 0.9375 - 19ms/epoch - 9ms/step\n",
      "Cummulative reward:  58\n",
      "\n",
      ">> Episode:  130 / 450\n",
      "2/2 - 0s - loss: 0.0739 - accuracy: 0.9219 - 17ms/epoch - 8ms/step\n",
      "Cummulative reward:  54\n",
      "\n",
      ">> Episode:  131 / 450\n",
      "2/2 - 0s - loss: 0.0487 - accuracy: 0.9531 - 17ms/epoch - 9ms/step\n",
      "Cummulative reward:  58\n",
      "\n",
      ">> Episode:  132 / 450\n",
      "2/2 - 0s - loss: 0.0027 - accuracy: 1.0000 - 14ms/epoch - 7ms/step\n",
      "Cummulative reward:  64\n",
      "\n",
      ">> Episode:  133 / 450\n",
      "2/2 - 0s - loss: 0.0248 - accuracy: 0.9844 - 14ms/epoch - 7ms/step\n",
      "Cummulative reward:  60\n",
      "\n",
      ">> Episode:  134 / 450\n",
      "2/2 - 0s - loss: 0.0168 - accuracy: 0.9844 - 13ms/epoch - 7ms/step\n",
      "Cummulative reward:  62\n",
      "\n",
      ">> Episode:  135 / 450\n",
      "2/2 - 0s - loss: 0.0214 - accuracy: 0.9844 - 14ms/epoch - 7ms/step\n",
      "Cummulative reward:  62\n",
      "\n",
      ">> Episode:  136 / 450\n",
      "2/2 - 0s - loss: 0.0367 - accuracy: 0.9688 - 14ms/epoch - 7ms/step\n",
      "Cummulative reward:  60\n",
      "\n",
      ">> Episode:  137 / 450\n",
      "2/2 - 0s - loss: 0.0546 - accuracy: 0.9531 - 13ms/epoch - 6ms/step\n",
      "Cummulative reward:  58\n",
      "\n",
      ">> Episode:  138 / 450\n",
      "2/2 - 0s - loss: 0.0222 - accuracy: 0.9688 - 20ms/epoch - 10ms/step\n",
      "Cummulative reward:  62\n",
      "\n",
      ">> Episode:  139 / 450\n",
      "2/2 - 0s - loss: 0.0321 - accuracy: 0.9844 - 14ms/epoch - 7ms/step\n",
      "Cummulative reward:  60\n",
      "\n",
      ">> Episode:  140 / 450\n",
      "2/2 - 0s - loss: 0.0481 - accuracy: 0.9531 - 14ms/epoch - 7ms/step\n",
      "Cummulative reward:  56\n",
      "\n",
      ">> Episode:  141 / 450\n",
      "2/2 - 0s - loss: 0.0088 - accuracy: 1.0000 - 13ms/epoch - 7ms/step\n",
      "Cummulative reward:  62\n",
      "\n",
      ">> Episode:  142 / 450\n",
      "2/2 - 0s - loss: 0.0043 - accuracy: 1.0000 - 14ms/epoch - 7ms/step\n",
      "Cummulative reward:  64\n",
      "\n",
      ">> Episode:  143 / 450\n",
      "2/2 - 0s - loss: 0.0641 - accuracy: 0.9375 - 14ms/epoch - 7ms/step\n",
      "Cummulative reward:  54\n",
      "\n",
      ">> Episode:  144 / 450\n",
      "2/2 - 0s - loss: 0.0432 - accuracy: 0.9688 - 15ms/epoch - 7ms/step\n",
      "Cummulative reward:  56\n",
      "\n",
      ">> Episode:  145 / 450\n",
      "2/2 - 0s - loss: 0.0045 - accuracy: 1.0000 - 14ms/epoch - 7ms/step\n",
      "Cummulative reward:  64\n",
      "\n",
      ">> Episode:  146 / 450\n",
      "2/2 - 0s - loss: 0.0211 - accuracy: 0.9844 - 17ms/epoch - 9ms/step\n",
      "Cummulative reward:  60\n",
      "\n",
      ">> Episode:  147 / 450\n",
      "2/2 - 0s - loss: 0.0488 - accuracy: 0.9531 - 14ms/epoch - 7ms/step\n",
      "Cummulative reward:  58\n",
      "\n",
      ">> Episode:  148 / 450\n",
      "2/2 - 0s - loss: 0.0035 - accuracy: 1.0000 - 16ms/epoch - 8ms/step\n",
      "Cummulative reward:  64\n",
      "\n",
      ">> Episode:  149 / 450\n",
      "2/2 - 0s - loss: 0.0354 - accuracy: 0.9844 - 14ms/epoch - 7ms/step\n",
      "Cummulative reward:  58\n",
      "\n",
      ">> Episode:  150 / 450\n",
      "2/2 - 0s - loss: 0.0016 - accuracy: 1.0000 - 15ms/epoch - 8ms/step\n",
      "Cummulative reward:  64\n",
      "\n",
      ">> Episode:  151 / 450\n",
      "2/2 - 0s - loss: 0.0227 - accuracy: 0.9844 - 15ms/epoch - 7ms/step\n",
      "Cummulative reward:  62\n",
      "\n",
      ">> Episode:  152 / 450\n",
      "2/2 - 0s - loss: 0.0324 - accuracy: 0.9844 - 15ms/epoch - 7ms/step\n",
      "Cummulative reward:  60\n",
      "\n",
      ">> Episode:  153 / 450\n",
      "2/2 - 0s - loss: 0.0205 - accuracy: 0.9844 - 15ms/epoch - 8ms/step\n",
      "Cummulative reward:  62\n",
      "\n",
      ">> Episode:  154 / 450\n",
      "2/2 - 0s - loss: 0.0054 - accuracy: 0.9844 - 14ms/epoch - 7ms/step\n",
      "Cummulative reward:  64\n",
      "\n",
      ">> Episode:  155 / 450\n",
      "2/2 - 0s - loss: 0.0163 - accuracy: 0.9844 - 19ms/epoch - 9ms/step\n",
      "Cummulative reward:  62\n",
      "\n",
      ">> Episode:  156 / 450\n",
      "2/2 - 0s - loss: 0.0200 - accuracy: 0.9844 - 15ms/epoch - 8ms/step\n",
      "Cummulative reward:  62\n",
      "\n",
      ">> Episode:  157 / 450\n",
      "2/2 - 0s - loss: 0.0494 - accuracy: 0.9531 - 16ms/epoch - 8ms/step\n",
      "Cummulative reward:  56\n",
      "\n",
      ">> Episode:  158 / 450\n",
      "2/2 - 0s - loss: 0.0156 - accuracy: 0.9844 - 15ms/epoch - 7ms/step\n",
      "Cummulative reward:  62\n",
      "\n",
      ">> Episode:  159 / 450\n",
      "2/2 - 0s - loss: 0.0378 - accuracy: 0.9688 - 15ms/epoch - 8ms/step\n",
      "Cummulative reward:  60\n",
      "\n",
      ">> Episode:  160 / 450\n",
      "2/2 - 0s - loss: 0.0042 - accuracy: 1.0000 - 14ms/epoch - 7ms/step\n",
      "Cummulative reward:  64\n",
      "\n",
      ">> Episode:  161 / 450\n",
      "2/2 - 0s - loss: 0.0195 - accuracy: 0.9844 - 18ms/epoch - 9ms/step\n",
      "Cummulative reward:  62\n",
      "\n",
      ">> Episode:  162 / 450\n",
      "2/2 - 0s - loss: 0.0546 - accuracy: 0.9688 - 17ms/epoch - 9ms/step\n",
      "Cummulative reward:  56\n",
      "\n",
      ">> Episode:  163 / 450\n",
      "2/2 - 0s - loss: 0.0550 - accuracy: 0.9531 - 21ms/epoch - 11ms/step\n",
      "Cummulative reward:  54\n",
      "\n",
      ">> Episode:  164 / 450\n",
      "2/2 - 0s - loss: 0.0071 - accuracy: 1.0000 - 15ms/epoch - 8ms/step\n",
      "Cummulative reward:  64\n",
      "\n",
      ">> Episode:  165 / 450\n",
      "2/2 - 0s - loss: 0.0624 - accuracy: 0.9531 - 14ms/epoch - 7ms/step\n",
      "Cummulative reward:  54\n",
      "\n",
      ">> Episode:  166 / 450\n",
      "2/2 - 0s - loss: 0.0040 - accuracy: 1.0000 - 24ms/epoch - 12ms/step\n",
      "Cummulative reward:  64\n",
      "\n",
      ">> Episode:  167 / 450\n",
      "2/2 - 0s - loss: 0.0495 - accuracy: 0.9688 - 15ms/epoch - 8ms/step\n",
      "Cummulative reward:  58\n",
      "\n",
      ">> Episode:  168 / 450\n",
      "2/2 - 0s - loss: 0.0408 - accuracy: 0.9688 - 16ms/epoch - 8ms/step\n",
      "Cummulative reward:  58\n",
      "\n",
      ">> Episode:  169 / 450\n",
      "2/2 - 0s - loss: 0.0037 - accuracy: 1.0000 - 16ms/epoch - 8ms/step\n",
      "Cummulative reward:  64\n",
      "\n",
      ">> Episode:  170 / 450\n",
      "2/2 - 0s - loss: 0.0186 - accuracy: 0.9844 - 21ms/epoch - 10ms/step\n",
      "Cummulative reward:  62\n",
      "\n",
      ">> Episode:  171 / 450\n",
      "2/2 - 0s - loss: 0.0154 - accuracy: 1.0000 - 15ms/epoch - 8ms/step\n",
      "Cummulative reward:  60\n",
      "\n",
      ">> Episode:  172 / 450\n",
      "2/2 - 0s - loss: 0.0303 - accuracy: 0.9688 - 18ms/epoch - 9ms/step\n",
      "Cummulative reward:  60\n",
      "\n",
      ">> Episode:  173 / 450\n",
      "2/2 - 0s - loss: 0.0332 - accuracy: 0.9688 - 14ms/epoch - 7ms/step\n",
      "Cummulative reward:  60\n",
      "\n",
      ">> Episode:  174 / 450\n",
      "2/2 - 0s - loss: 0.0390 - accuracy: 0.9688 - 14ms/epoch - 7ms/step\n",
      "Cummulative reward:  58\n",
      "\n",
      ">> Episode:  175 / 450\n",
      "2/2 - 0s - loss: 0.0283 - accuracy: 0.9844 - 16ms/epoch - 8ms/step\n",
      "Cummulative reward:  60\n",
      "\n",
      ">> Episode:  176 / 450\n",
      "2/2 - 0s - loss: 0.0293 - accuracy: 0.9688 - 15ms/epoch - 7ms/step\n",
      "Cummulative reward:  60\n",
      "\n",
      ">> Episode:  177 / 450\n",
      "2/2 - 0s - loss: 0.0368 - accuracy: 0.9688 - 16ms/epoch - 8ms/step\n",
      "Cummulative reward:  58\n",
      "\n",
      ">> Episode:  178 / 450\n",
      "2/2 - 0s - loss: 0.0313 - accuracy: 0.9844 - 17ms/epoch - 8ms/step\n",
      "Cummulative reward:  60\n",
      "\n",
      ">> Episode:  179 / 450\n",
      "2/2 - 0s - loss: 0.0191 - accuracy: 0.9844 - 15ms/epoch - 8ms/step\n",
      "Cummulative reward:  60\n",
      "\n",
      ">> Episode:  180 / 450\n",
      "2/2 - 0s - loss: 0.0236 - accuracy: 0.9844 - 20ms/epoch - 10ms/step\n",
      "Cummulative reward:  60\n",
      "\n",
      ">> Episode:  181 / 450\n",
      "2/2 - 0s - loss: 0.0155 - accuracy: 0.9844 - 17ms/epoch - 8ms/step\n",
      "Cummulative reward:  62\n",
      "\n",
      ">> Episode:  182 / 450\n",
      "2/2 - 0s - loss: 0.0026 - accuracy: 1.0000 - 14ms/epoch - 7ms/step\n",
      "Cummulative reward:  64\n",
      "\n",
      ">> Episode:  183 / 450\n",
      "2/2 - 0s - loss: 0.0025 - accuracy: 1.0000 - 16ms/epoch - 8ms/step\n",
      "Cummulative reward:  64\n",
      "\n",
      ">> Episode:  184 / 450\n",
      "2/2 - 0s - loss: 0.0220 - accuracy: 0.9844 - 19ms/epoch - 9ms/step\n",
      "Cummulative reward:  62\n",
      "\n",
      ">> Episode:  185 / 450\n",
      "2/2 - 0s - loss: 0.0304 - accuracy: 0.9688 - 14ms/epoch - 7ms/step\n",
      "Cummulative reward:  60\n",
      "\n",
      ">> Episode:  186 / 450\n",
      "2/2 - 0s - loss: 0.0043 - accuracy: 1.0000 - 17ms/epoch - 8ms/step\n",
      "Cummulative reward:  64\n",
      "\n",
      ">> Episode:  187 / 450\n",
      "2/2 - 0s - loss: 0.0265 - accuracy: 0.9688 - 24ms/epoch - 12ms/step\n",
      "Cummulative reward:  58\n",
      "\n",
      ">> Episode:  188 / 450\n",
      "2/2 - 0s - loss: 0.0385 - accuracy: 0.9688 - 25ms/epoch - 12ms/step\n",
      "Cummulative reward:  60\n",
      "\n",
      ">> Episode:  189 / 450\n",
      "2/2 - 0s - loss: 0.0505 - accuracy: 0.9844 - 24ms/epoch - 12ms/step\n",
      "Cummulative reward:  56\n",
      "\n",
      ">> Episode:  190 / 450\n",
      "2/2 - 0s - loss: 0.0036 - accuracy: 1.0000 - 18ms/epoch - 9ms/step\n",
      "Cummulative reward:  64\n",
      "\n",
      ">> Episode:  191 / 450\n",
      "2/2 - 0s - loss: 0.0507 - accuracy: 0.9531 - 14ms/epoch - 7ms/step\n",
      "Cummulative reward:  58\n",
      "\n",
      ">> Episode:  192 / 450\n",
      "2/2 - 0s - loss: 0.0744 - accuracy: 0.9375 - 15ms/epoch - 8ms/step\n",
      "Cummulative reward:  54\n",
      "\n",
      ">> Episode:  193 / 450\n",
      "2/2 - 0s - loss: 0.0130 - accuracy: 0.9531 - 15ms/epoch - 8ms/step\n",
      "Cummulative reward:  64\n",
      "\n",
      ">> Episode:  194 / 450\n",
      "2/2 - 0s - loss: 0.0599 - accuracy: 0.9375 - 16ms/epoch - 8ms/step\n",
      "Cummulative reward:  56\n",
      "\n",
      ">> Episode:  195 / 450\n",
      "2/2 - 0s - loss: 0.0120 - accuracy: 1.0000 - 16ms/epoch - 8ms/step\n",
      "Cummulative reward:  60\n",
      "\n",
      ">> Episode:  196 / 450\n",
      "2/2 - 0s - loss: 0.0431 - accuracy: 0.9688 - 17ms/epoch - 8ms/step\n",
      "Cummulative reward:  58\n",
      "\n",
      ">> Episode:  197 / 450\n",
      "2/2 - 0s - loss: 0.0444 - accuracy: 0.9531 - 17ms/epoch - 8ms/step\n",
      "Cummulative reward:  58\n",
      "\n",
      ">> Episode:  198 / 450\n",
      "2/2 - 0s - loss: 0.0045 - accuracy: 1.0000 - 31ms/epoch - 16ms/step\n",
      "Cummulative reward:  64\n",
      "\n",
      ">> Episode:  199 / 450\n",
      "2/2 - 0s - loss: 0.0285 - accuracy: 0.9844 - 21ms/epoch - 10ms/step\n",
      "Cummulative reward:  58\n",
      "\n",
      ">> Episode:  200 / 450\n",
      "2/2 - 0s - loss: 0.0403 - accuracy: 0.9688 - 19ms/epoch - 10ms/step\n",
      "Cummulative reward:  58\n",
      "\n",
      ">> Episode:  201 / 450\n",
      "2/2 - 0s - loss: 0.0021 - accuracy: 1.0000 - 24ms/epoch - 12ms/step\n",
      "Cummulative reward:  64\n",
      "\n",
      ">> Episode:  202 / 450\n",
      "2/2 - 0s - loss: 0.0407 - accuracy: 0.9688 - 22ms/epoch - 11ms/step\n",
      "Cummulative reward:  60\n",
      "\n",
      ">> Episode:  203 / 450\n",
      "2/2 - 0s - loss: 0.0032 - accuracy: 1.0000 - 16ms/epoch - 8ms/step\n",
      "Cummulative reward:  64\n",
      "\n",
      ">> Episode:  204 / 450\n",
      "2/2 - 0s - loss: 0.0194 - accuracy: 0.9844 - 15ms/epoch - 7ms/step\n",
      "Cummulative reward:  60\n",
      "\n",
      ">> Episode:  205 / 450\n",
      "2/2 - 0s - loss: 0.0481 - accuracy: 0.9688 - 25ms/epoch - 13ms/step\n",
      "Cummulative reward:  54\n",
      "\n",
      ">> Episode:  206 / 450\n",
      "2/2 - 0s - loss: 0.0020 - accuracy: 1.0000 - 21ms/epoch - 11ms/step\n",
      "Cummulative reward:  64\n",
      "\n",
      ">> Episode:  207 / 450\n",
      "2/2 - 0s - loss: 0.0022 - accuracy: 1.0000 - 17ms/epoch - 8ms/step\n",
      "Cummulative reward:  64\n",
      "\n",
      ">> Episode:  208 / 450\n",
      "2/2 - 0s - loss: 0.0284 - accuracy: 0.9844 - 20ms/epoch - 10ms/step\n",
      "Cummulative reward:  58\n",
      "\n",
      ">> Episode:  209 / 450\n",
      "2/2 - 0s - loss: 0.0058 - accuracy: 0.9844 - 20ms/epoch - 10ms/step\n",
      "Cummulative reward:  64\n",
      "\n",
      ">> Episode:  210 / 450\n",
      "2/2 - 0s - loss: 0.0063 - accuracy: 1.0000 - 20ms/epoch - 10ms/step\n",
      "Cummulative reward:  62\n",
      "\n",
      ">> Episode:  211 / 450\n",
      "2/2 - 0s - loss: 0.0022 - accuracy: 1.0000 - 28ms/epoch - 14ms/step\n",
      "Cummulative reward:  64\n",
      "\n",
      ">> Episode:  212 / 450\n",
      "2/2 - 0s - loss: 0.0017 - accuracy: 1.0000 - 23ms/epoch - 12ms/step\n",
      "Cummulative reward:  64\n",
      "\n",
      ">> Episode:  213 / 450\n",
      "2/2 - 0s - loss: 0.0019 - accuracy: 1.0000 - 28ms/epoch - 14ms/step\n",
      "Cummulative reward:  64\n",
      "\n",
      ">> Episode:  214 / 450\n",
      "2/2 - 0s - loss: 0.0177 - accuracy: 0.9844 - 19ms/epoch - 9ms/step\n",
      "Cummulative reward:  62\n",
      "\n",
      ">> Episode:  215 / 450\n",
      "2/2 - 0s - loss: 0.0347 - accuracy: 0.9688 - 18ms/epoch - 9ms/step\n",
      "Cummulative reward:  60\n",
      "\n",
      ">> Episode:  216 / 450\n",
      "2/2 - 0s - loss: 0.0368 - accuracy: 0.9688 - 17ms/epoch - 8ms/step\n",
      "Cummulative reward:  60\n",
      "\n",
      ">> Episode:  217 / 450\n",
      "2/2 - 0s - loss: 0.0019 - accuracy: 1.0000 - 20ms/epoch - 10ms/step\n",
      "Cummulative reward:  64\n",
      "\n",
      ">> Episode:  218 / 450\n",
      "2/2 - 0s - loss: 0.0177 - accuracy: 0.9844 - 18ms/epoch - 9ms/step\n",
      "Cummulative reward:  62\n",
      "\n",
      ">> Episode:  219 / 450\n",
      "2/2 - 0s - loss: 0.0084 - accuracy: 1.0000 - 32ms/epoch - 16ms/step\n",
      "Cummulative reward:  62\n",
      "\n",
      ">> Episode:  220 / 450\n",
      "2/2 - 0s - loss: 0.0236 - accuracy: 0.9844 - 21ms/epoch - 10ms/step\n",
      "Cummulative reward:  60\n",
      "\n",
      ">> Episode:  221 / 450\n",
      "2/2 - 0s - loss: 0.0145 - accuracy: 0.9844 - 26ms/epoch - 13ms/step\n",
      "Cummulative reward:  62\n",
      "\n",
      ">> Episode:  222 / 450\n",
      "2/2 - 0s - loss: 0.0145 - accuracy: 0.9844 - 43ms/epoch - 21ms/step\n",
      "Cummulative reward:  62\n",
      "\n",
      ">> Episode:  223 / 450\n",
      "2/2 - 0s - loss: 0.0194 - accuracy: 0.9844 - 33ms/epoch - 17ms/step\n",
      "Cummulative reward:  62\n",
      "\n",
      ">> Episode:  224 / 450\n",
      "2/2 - 0s - loss: 0.0082 - accuracy: 1.0000 - 19ms/epoch - 10ms/step\n",
      "Cummulative reward:  62\n",
      "\n",
      ">> Episode:  225 / 450\n",
      "2/2 - 0s - loss: 0.0152 - accuracy: 0.9844 - 18ms/epoch - 9ms/step\n",
      "Cummulative reward:  62\n",
      "\n",
      ">> Episode:  226 / 450\n",
      "2/2 - 0s - loss: 5.9901e-04 - accuracy: 1.0000 - 19ms/epoch - 9ms/step\n",
      "Cummulative reward:  64\n",
      "\n",
      ">> Episode:  227 / 450\n",
      "2/2 - 0s - loss: 0.0385 - accuracy: 0.9688 - 18ms/epoch - 9ms/step\n",
      "Cummulative reward:  58\n",
      "\n",
      ">> Episode:  228 / 450\n",
      "2/2 - 0s - loss: 0.0016 - accuracy: 1.0000 - 19ms/epoch - 10ms/step\n",
      "Cummulative reward:  64\n",
      "\n",
      ">> Episode:  229 / 450\n",
      "2/2 - 0s - loss: 0.0138 - accuracy: 1.0000 - 18ms/epoch - 9ms/step\n",
      "Cummulative reward:  60\n",
      "\n",
      ">> Episode:  230 / 450\n",
      "2/2 - 0s - loss: 0.0151 - accuracy: 0.9844 - 18ms/epoch - 9ms/step\n",
      "Cummulative reward:  62\n",
      "\n",
      ">> Episode:  231 / 450\n",
      "2/2 - 0s - loss: 0.0019 - accuracy: 1.0000 - 20ms/epoch - 10ms/step\n",
      "Cummulative reward:  64\n",
      "\n",
      ">> Episode:  232 / 450\n",
      "2/2 - 0s - loss: 0.0213 - accuracy: 0.9844 - 20ms/epoch - 10ms/step\n",
      "Cummulative reward:  62\n",
      "\n",
      ">> Episode:  233 / 450\n",
      "2/2 - 0s - loss: 0.0028 - accuracy: 1.0000 - 28ms/epoch - 14ms/step\n",
      "Cummulative reward:  64\n",
      "\n",
      ">> Episode:  234 / 450\n",
      "2/2 - 0s - loss: 0.0136 - accuracy: 1.0000 - 18ms/epoch - 9ms/step\n",
      "Cummulative reward:  60\n",
      "\n",
      ">> Episode:  235 / 450\n",
      "2/2 - 0s - loss: 0.0072 - accuracy: 1.0000 - 17ms/epoch - 9ms/step\n",
      "Cummulative reward:  62\n",
      "\n",
      ">> Episode:  236 / 450\n",
      "2/2 - 0s - loss: 0.0013 - accuracy: 1.0000 - 17ms/epoch - 9ms/step\n",
      "Cummulative reward:  64\n",
      "\n",
      ">> Episode:  237 / 450\n",
      "2/2 - 0s - loss: 0.0130 - accuracy: 1.0000 - 19ms/epoch - 9ms/step\n",
      "Cummulative reward:  60\n",
      "\n",
      ">> Episode:  238 / 450\n",
      "2/2 - 0s - loss: 0.0158 - accuracy: 0.9844 - 18ms/epoch - 9ms/step\n",
      "Cummulative reward:  62\n",
      "\n",
      ">> Episode:  239 / 450\n",
      "2/2 - 0s - loss: 0.0067 - accuracy: 1.0000 - 18ms/epoch - 9ms/step\n",
      "Cummulative reward:  62\n",
      "\n",
      ">> Episode:  240 / 450\n",
      "2/2 - 0s - loss: 0.0019 - accuracy: 1.0000 - 17ms/epoch - 8ms/step\n",
      "Cummulative reward:  64\n",
      "\n",
      ">> Episode:  241 / 450\n",
      "2/2 - 0s - loss: 0.0020 - accuracy: 1.0000 - 19ms/epoch - 9ms/step\n",
      "Cummulative reward:  64\n",
      "\n",
      ">> Episode:  242 / 450\n",
      "2/2 - 0s - loss: 0.0065 - accuracy: 1.0000 - 19ms/epoch - 9ms/step\n",
      "Cummulative reward:  62\n",
      "\n",
      ">> Episode:  243 / 450\n",
      "2/2 - 0s - loss: 0.0204 - accuracy: 0.9844 - 19ms/epoch - 10ms/step\n",
      "Cummulative reward:  62\n",
      "\n",
      ">> Episode:  244 / 450\n",
      "2/2 - 0s - loss: 0.0188 - accuracy: 0.9844 - 31ms/epoch - 15ms/step\n",
      "Cummulative reward:  62\n",
      "\n",
      ">> Episode:  245 / 450\n",
      "2/2 - 0s - loss: 0.0011 - accuracy: 1.0000 - 19ms/epoch - 9ms/step\n",
      "Cummulative reward:  64\n",
      "\n",
      ">> Episode:  246 / 450\n",
      "2/2 - 0s - loss: 0.0323 - accuracy: 0.9688 - 20ms/epoch - 10ms/step\n",
      "Cummulative reward:  58\n",
      "\n",
      ">> Episode:  247 / 450\n",
      "2/2 - 0s - loss: 0.0218 - accuracy: 0.9844 - 19ms/epoch - 10ms/step\n",
      "Cummulative reward:  62\n",
      "\n",
      ">> Episode:  248 / 450\n",
      "2/2 - 0s - loss: 0.0059 - accuracy: 1.0000 - 21ms/epoch - 11ms/step\n",
      "Cummulative reward:  62\n",
      "\n",
      ">> Episode:  249 / 450\n",
      "2/2 - 0s - loss: 0.0071 - accuracy: 1.0000 - 19ms/epoch - 9ms/step\n",
      "Cummulative reward:  62\n",
      "\n",
      ">> Episode:  250 / 450\n",
      "2/2 - 0s - loss: 0.0020 - accuracy: 1.0000 - 25ms/epoch - 13ms/step\n",
      "Cummulative reward:  64\n",
      "\n",
      ">> Episode:  251 / 450\n",
      "2/2 - 0s - loss: 0.0026 - accuracy: 1.0000 - 19ms/epoch - 10ms/step\n",
      "Cummulative reward:  64\n",
      "\n",
      ">> Episode:  252 / 450\n",
      "2/2 - 0s - loss: 0.0154 - accuracy: 0.9844 - 24ms/epoch - 12ms/step\n",
      "Cummulative reward:  62\n",
      "\n",
      ">> Episode:  253 / 450\n",
      "2/2 - 0s - loss: 0.0014 - accuracy: 1.0000 - 22ms/epoch - 11ms/step\n",
      "Cummulative reward:  64\n",
      "\n",
      ">> Episode:  254 / 450\n",
      "2/2 - 0s - loss: 0.0287 - accuracy: 0.9688 - 21ms/epoch - 10ms/step\n",
      "Cummulative reward:  60\n",
      "\n",
      ">> Episode:  255 / 450\n",
      "2/2 - 0s - loss: 0.0020 - accuracy: 1.0000 - 17ms/epoch - 9ms/step\n",
      "Cummulative reward:  64\n",
      "\n",
      ">> Episode:  256 / 450\n",
      "2/2 - 0s - loss: 4.0436e-04 - accuracy: 1.0000 - 19ms/epoch - 9ms/step\n",
      "Cummulative reward:  64\n",
      "\n",
      ">> Episode:  257 / 450\n",
      "2/2 - 0s - loss: 0.0029 - accuracy: 1.0000 - 17ms/epoch - 9ms/step\n",
      "Cummulative reward:  64\n",
      "\n",
      ">> Episode:  258 / 450\n",
      "2/2 - 0s - loss: 0.0160 - accuracy: 0.9844 - 18ms/epoch - 9ms/step\n",
      "Cummulative reward:  62\n",
      "\n",
      ">> Episode:  259 / 450\n",
      "2/2 - 0s - loss: 0.0275 - accuracy: 0.9844 - 18ms/epoch - 9ms/step\n",
      "Cummulative reward:  60\n",
      "\n",
      ">> Episode:  260 / 450\n",
      "2/2 - 0s - loss: 0.0018 - accuracy: 1.0000 - 19ms/epoch - 9ms/step\n",
      "Cummulative reward:  64\n",
      "\n",
      ">> Episode:  261 / 450\n",
      "2/2 - 0s - loss: 0.0216 - accuracy: 0.9844 - 18ms/epoch - 9ms/step\n",
      "Cummulative reward:  60\n",
      "\n",
      ">> Episode:  262 / 450\n",
      "2/2 - 0s - loss: 0.0146 - accuracy: 0.9844 - 18ms/epoch - 9ms/step\n",
      "Cummulative reward:  62\n",
      "\n",
      ">> Episode:  263 / 450\n",
      "2/2 - 0s - loss: 0.0349 - accuracy: 0.9688 - 19ms/epoch - 9ms/step\n",
      "Cummulative reward:  56\n",
      "\n",
      ">> Episode:  264 / 450\n",
      "2/2 - 0s - loss: 0.0219 - accuracy: 0.9844 - 17ms/epoch - 9ms/step\n",
      "Cummulative reward:  62\n",
      "\n",
      ">> Episode:  265 / 450\n",
      "2/2 - 0s - loss: 0.0020 - accuracy: 1.0000 - 19ms/epoch - 9ms/step\n",
      "Cummulative reward:  64\n",
      "\n",
      ">> Episode:  266 / 450\n",
      "2/2 - 0s - loss: 0.0140 - accuracy: 0.9844 - 19ms/epoch - 9ms/step\n",
      "Cummulative reward:  62\n",
      "\n",
      ">> Episode:  267 / 450\n",
      "2/2 - 0s - loss: 8.9045e-04 - accuracy: 1.0000 - 18ms/epoch - 9ms/step\n",
      "Cummulative reward:  64\n",
      "\n",
      ">> Episode:  268 / 450\n",
      "2/2 - 0s - loss: 0.0104 - accuracy: 1.0000 - 18ms/epoch - 9ms/step\n",
      "Cummulative reward:  62\n",
      "\n",
      ">> Episode:  269 / 450\n",
      "2/2 - 0s - loss: 6.3689e-04 - accuracy: 1.0000 - 22ms/epoch - 11ms/step\n",
      "Cummulative reward:  64\n",
      "\n",
      ">> Episode:  270 / 450\n",
      "2/2 - 0s - loss: 7.2279e-04 - accuracy: 1.0000 - 21ms/epoch - 11ms/step\n",
      "Cummulative reward:  64\n",
      "\n",
      ">> Episode:  271 / 450\n",
      "2/2 - 0s - loss: 0.0208 - accuracy: 0.9844 - 20ms/epoch - 10ms/step\n",
      "Cummulative reward:  60\n",
      "\n",
      ">> Episode:  272 / 450\n",
      "2/2 - 0s - loss: 0.0033 - accuracy: 1.0000 - 20ms/epoch - 10ms/step\n",
      "Cummulative reward:  64\n",
      "\n",
      ">> Episode:  273 / 450\n",
      "2/2 - 0s - loss: 0.0195 - accuracy: 0.9844 - 18ms/epoch - 9ms/step\n",
      "Cummulative reward:  60\n",
      "\n",
      ">> Episode:  274 / 450\n",
      "2/2 - 0s - loss: 0.0310 - accuracy: 0.9688 - 21ms/epoch - 10ms/step\n",
      "Cummulative reward:  58\n",
      "\n",
      ">> Episode:  275 / 450\n",
      "2/2 - 0s - loss: 0.0013 - accuracy: 1.0000 - 20ms/epoch - 10ms/step\n",
      "Cummulative reward:  64\n",
      "\n",
      ">> Episode:  276 / 450\n",
      "2/2 - 0s - loss: 0.0235 - accuracy: 0.9844 - 20ms/epoch - 10ms/step\n",
      "Cummulative reward:  60\n",
      "\n",
      ">> Episode:  277 / 450\n",
      "2/2 - 0s - loss: 0.0032 - accuracy: 0.9844 - 21ms/epoch - 10ms/step\n",
      "Cummulative reward:  64\n",
      "\n",
      ">> Episode:  278 / 450\n",
      "2/2 - 0s - loss: 0.0188 - accuracy: 0.9844 - 21ms/epoch - 10ms/step\n",
      "Cummulative reward:  60\n",
      "\n",
      ">> Episode:  279 / 450\n",
      "2/2 - 0s - loss: 0.0353 - accuracy: 0.9688 - 25ms/epoch - 12ms/step\n",
      "Cummulative reward:  58\n",
      "\n",
      ">> Episode:  280 / 450\n",
      "2/2 - 0s - loss: 0.0288 - accuracy: 0.9844 - 20ms/epoch - 10ms/step\n",
      "Cummulative reward:  60\n",
      "\n",
      ">> Episode:  281 / 450\n",
      "2/2 - 0s - loss: 0.0011 - accuracy: 1.0000 - 20ms/epoch - 10ms/step\n",
      "Cummulative reward:  64\n",
      "\n",
      ">> Episode:  282 / 450\n",
      "2/2 - 0s - loss: 0.0162 - accuracy: 0.9844 - 20ms/epoch - 10ms/step\n",
      "Cummulative reward:  62\n",
      "\n",
      ">> Episode:  283 / 450\n",
      "2/2 - 0s - loss: 0.0117 - accuracy: 1.0000 - 21ms/epoch - 10ms/step\n",
      "Cummulative reward:  60\n",
      "\n",
      ">> Episode:  284 / 450\n",
      "2/2 - 0s - loss: 0.0066 - accuracy: 1.0000 - 20ms/epoch - 10ms/step\n",
      "Cummulative reward:  62\n",
      "\n",
      ">> Episode:  285 / 450\n",
      "2/2 - 0s - loss: 0.0181 - accuracy: 0.9844 - 22ms/epoch - 11ms/step\n",
      "Cummulative reward:  60\n",
      "\n",
      ">> Episode:  286 / 450\n",
      "2/2 - 0s - loss: 0.0476 - accuracy: 0.9531 - 20ms/epoch - 10ms/step\n",
      "Cummulative reward:  56\n",
      "\n",
      ">> Episode:  287 / 450\n",
      "2/2 - 0s - loss: 7.4391e-04 - accuracy: 1.0000 - 19ms/epoch - 10ms/step\n",
      "Cummulative reward:  64\n",
      "\n",
      ">> Episode:  288 / 450\n",
      "2/2 - 0s - loss: 0.0297 - accuracy: 0.9844 - 19ms/epoch - 10ms/step\n",
      "Cummulative reward:  58\n",
      "\n",
      ">> Episode:  289 / 450\n",
      "2/2 - 0s - loss: 0.0060 - accuracy: 1.0000 - 19ms/epoch - 10ms/step\n",
      "Cummulative reward:  62\n",
      "\n",
      ">> Episode:  290 / 450\n",
      "2/2 - 0s - loss: 0.0071 - accuracy: 1.0000 - 24ms/epoch - 12ms/step\n",
      "Cummulative reward:  62\n",
      "\n",
      ">> Episode:  291 / 450\n",
      "2/2 - 0s - loss: 0.0030 - accuracy: 1.0000 - 20ms/epoch - 10ms/step\n",
      "Cummulative reward:  64\n",
      "\n",
      ">> Episode:  292 / 450\n",
      "2/2 - 0s - loss: 5.4332e-04 - accuracy: 1.0000 - 22ms/epoch - 11ms/step\n",
      "Cummulative reward:  64\n",
      "\n",
      ">> Episode:  293 / 450\n",
      "2/2 - 0s - loss: 0.0187 - accuracy: 0.9844 - 19ms/epoch - 10ms/step\n",
      "Cummulative reward:  62\n",
      "\n",
      ">> Episode:  294 / 450\n",
      "2/2 - 0s - loss: 0.0277 - accuracy: 0.9688 - 19ms/epoch - 9ms/step\n",
      "Cummulative reward:  60\n",
      "\n",
      ">> Episode:  295 / 450\n",
      "2/2 - 0s - loss: 0.0157 - accuracy: 0.9844 - 20ms/epoch - 10ms/step\n",
      "Cummulative reward:  62\n",
      "\n",
      ">> Episode:  296 / 450\n",
      "2/2 - 0s - loss: 0.0015 - accuracy: 1.0000 - 19ms/epoch - 9ms/step\n",
      "Cummulative reward:  64\n",
      "\n",
      ">> Episode:  297 / 450\n",
      "2/2 - 0s - loss: 0.0070 - accuracy: 1.0000 - 19ms/epoch - 10ms/step\n",
      "Cummulative reward:  62\n",
      "\n",
      ">> Episode:  298 / 450\n",
      "2/2 - 0s - loss: 2.9450e-04 - accuracy: 1.0000 - 20ms/epoch - 10ms/step\n",
      "Cummulative reward:  64\n",
      "\n",
      ">> Episode:  299 / 450\n",
      "2/2 - 0s - loss: 0.0015 - accuracy: 1.0000 - 19ms/epoch - 9ms/step\n",
      "Cummulative reward:  64\n",
      "\n",
      ">> Episode:  300 / 450\n",
      "2/2 - 0s - loss: 0.0012 - accuracy: 1.0000 - 19ms/epoch - 9ms/step\n",
      "Cummulative reward:  64\n",
      "\n",
      ">> Episode:  301 / 450\n",
      "2/2 - 0s - loss: 1.7667e-04 - accuracy: 1.0000 - 20ms/epoch - 10ms/step\n",
      "Cummulative reward:  64\n",
      "\n",
      ">> Episode:  302 / 450\n",
      "2/2 - 0s - loss: 0.0017 - accuracy: 1.0000 - 19ms/epoch - 10ms/step\n",
      "Cummulative reward:  64\n",
      "\n",
      ">> Episode:  303 / 450\n",
      "2/2 - 0s - loss: 0.0011 - accuracy: 1.0000 - 34ms/epoch - 17ms/step\n",
      "Cummulative reward:  64\n",
      "\n",
      ">> Episode:  304 / 450\n",
      "2/2 - 0s - loss: 0.0378 - accuracy: 0.9688 - 20ms/epoch - 10ms/step\n",
      "Cummulative reward:  58\n",
      "\n",
      ">> Episode:  305 / 450\n",
      "2/2 - 0s - loss: 0.0058 - accuracy: 1.0000 - 19ms/epoch - 9ms/step\n",
      "Cummulative reward:  62\n",
      "\n",
      ">> Episode:  306 / 450\n",
      "2/2 - 0s - loss: 0.0154 - accuracy: 0.9844 - 19ms/epoch - 10ms/step\n",
      "Cummulative reward:  62\n",
      "\n",
      ">> Episode:  307 / 450\n",
      "2/2 - 0s - loss: 0.0011 - accuracy: 1.0000 - 19ms/epoch - 10ms/step\n",
      "Cummulative reward:  64\n",
      "\n",
      ">> Episode:  308 / 450\n",
      "2/2 - 0s - loss: 0.0182 - accuracy: 0.9844 - 20ms/epoch - 10ms/step\n",
      "Cummulative reward:  60\n",
      "\n",
      ">> Episode:  309 / 450\n",
      "2/2 - 0s - loss: 0.0111 - accuracy: 1.0000 - 21ms/epoch - 10ms/step\n",
      "Cummulative reward:  60\n",
      "\n",
      ">> Episode:  310 / 450\n",
      "2/2 - 0s - loss: 7.5409e-04 - accuracy: 1.0000 - 20ms/epoch - 10ms/step\n",
      "Cummulative reward:  64\n",
      "\n",
      ">> Episode:  311 / 450\n",
      "2/2 - 0s - loss: 0.0063 - accuracy: 1.0000 - 19ms/epoch - 10ms/step\n",
      "Cummulative reward:  62\n",
      "\n",
      ">> Episode:  312 / 450\n",
      "2/2 - 0s - loss: 0.0020 - accuracy: 1.0000 - 19ms/epoch - 10ms/step\n",
      "Cummulative reward:  64\n",
      "\n",
      ">> Episode:  313 / 450\n",
      "2/2 - 0s - loss: 0.0165 - accuracy: 0.9844 - 21ms/epoch - 10ms/step\n",
      "Cummulative reward:  62\n",
      "\n",
      ">> Episode:  314 / 450\n",
      "2/2 - 0s - loss: 7.0894e-04 - accuracy: 1.0000 - 19ms/epoch - 10ms/step\n",
      "Cummulative reward:  64\n",
      "\n",
      ">> Episode:  315 / 450\n",
      "2/2 - 0s - loss: 0.0230 - accuracy: 0.9844 - 21ms/epoch - 11ms/step\n",
      "Cummulative reward:  62\n",
      "\n",
      ">> Episode:  316 / 450\n",
      "2/2 - 0s - loss: 0.0072 - accuracy: 1.0000 - 20ms/epoch - 10ms/step\n",
      "Cummulative reward:  62\n",
      "\n",
      ">> Episode:  317 / 450\n",
      "2/2 - 0s - loss: 0.0056 - accuracy: 1.0000 - 26ms/epoch - 13ms/step\n",
      "Cummulative reward:  62\n",
      "\n",
      ">> Episode:  318 / 450\n",
      "2/2 - 0s - loss: 8.3941e-04 - accuracy: 1.0000 - 21ms/epoch - 10ms/step\n",
      "Cummulative reward:  64\n",
      "\n",
      ">> Episode:  319 / 450\n",
      "2/2 - 0s - loss: 0.0069 - accuracy: 1.0000 - 19ms/epoch - 10ms/step\n",
      "Cummulative reward:  62\n",
      "\n",
      ">> Episode:  320 / 450\n",
      "2/2 - 0s - loss: 0.0202 - accuracy: 0.9844 - 22ms/epoch - 11ms/step\n",
      "Cummulative reward:  62\n",
      "\n",
      ">> Episode:  321 / 450\n",
      "2/2 - 0s - loss: 0.0055 - accuracy: 1.0000 - 20ms/epoch - 10ms/step\n",
      "Cummulative reward:  62\n",
      "\n",
      ">> Episode:  322 / 450\n",
      "2/2 - 0s - loss: 4.6040e-04 - accuracy: 1.0000 - 20ms/epoch - 10ms/step\n",
      "Cummulative reward:  64\n",
      "\n",
      ">> Episode:  323 / 450\n",
      "2/2 - 0s - loss: 0.0260 - accuracy: 0.9844 - 21ms/epoch - 10ms/step\n",
      "Cummulative reward:  60\n",
      "\n",
      ">> Episode:  324 / 450\n",
      "2/2 - 0s - loss: 0.0056 - accuracy: 1.0000 - 20ms/epoch - 10ms/step\n",
      "Cummulative reward:  62\n",
      "\n",
      ">> Episode:  325 / 450\n",
      "2/2 - 0s - loss: 0.0018 - accuracy: 1.0000 - 34ms/epoch - 17ms/step\n",
      "Cummulative reward:  64\n",
      "\n",
      ">> Episode:  326 / 450\n",
      "2/2 - 0s - loss: 0.0179 - accuracy: 0.9844 - 20ms/epoch - 10ms/step\n",
      "Cummulative reward:  62\n",
      "\n",
      ">> Episode:  327 / 450\n",
      "2/2 - 0s - loss: 0.0190 - accuracy: 0.9844 - 20ms/epoch - 10ms/step\n",
      "Cummulative reward:  60\n",
      "\n",
      ">> Episode:  328 / 450\n",
      "2/2 - 0s - loss: 0.0074 - accuracy: 1.0000 - 19ms/epoch - 10ms/step\n",
      "Cummulative reward:  62\n",
      "\n",
      ">> Episode:  329 / 450\n",
      "2/2 - 0s - loss: 0.0011 - accuracy: 1.0000 - 20ms/epoch - 10ms/step\n",
      "Cummulative reward:  64\n",
      "\n",
      ">> Episode:  330 / 450\n",
      "2/2 - 0s - loss: 0.0144 - accuracy: 1.0000 - 20ms/epoch - 10ms/step\n",
      "Cummulative reward:  60\n",
      "\n",
      ">> Episode:  331 / 450\n",
      "2/2 - 0s - loss: 0.0222 - accuracy: 0.9844 - 20ms/epoch - 10ms/step\n",
      "Cummulative reward:  60\n",
      "\n",
      ">> Episode:  332 / 450\n",
      "2/2 - 0s - loss: 0.0016 - accuracy: 1.0000 - 20ms/epoch - 10ms/step\n",
      "Cummulative reward:  64\n",
      "\n",
      ">> Episode:  333 / 450\n",
      "2/2 - 0s - loss: 0.0023 - accuracy: 1.0000 - 20ms/epoch - 10ms/step\n",
      "Cummulative reward:  64\n",
      "\n",
      ">> Episode:  334 / 450\n",
      "2/2 - 0s - loss: 0.0023 - accuracy: 1.0000 - 25ms/epoch - 12ms/step\n",
      "Cummulative reward:  64\n",
      "\n",
      ">> Episode:  335 / 450\n",
      "2/2 - 0s - loss: 0.0084 - accuracy: 0.9844 - 20ms/epoch - 10ms/step\n",
      "Cummulative reward:  62\n",
      "\n",
      ">> Episode:  336 / 450\n",
      "2/2 - 0s - loss: 0.0011 - accuracy: 1.0000 - 21ms/epoch - 10ms/step\n",
      "Cummulative reward:  64\n",
      "\n",
      ">> Episode:  337 / 450\n",
      "2/2 - 0s - loss: 0.0207 - accuracy: 0.9844 - 19ms/epoch - 10ms/step\n",
      "Cummulative reward:  62\n",
      "\n",
      ">> Episode:  338 / 450\n",
      "2/2 - 0s - loss: 4.4883e-04 - accuracy: 1.0000 - 20ms/epoch - 10ms/step\n",
      "Cummulative reward:  64\n",
      "\n",
      ">> Episode:  339 / 450\n",
      "2/2 - 0s - loss: 0.0149 - accuracy: 0.9844 - 20ms/epoch - 10ms/step\n",
      "Cummulative reward:  62\n",
      "\n",
      ">> Episode:  340 / 450\n",
      "2/2 - 0s - loss: 0.0011 - accuracy: 1.0000 - 20ms/epoch - 10ms/step\n",
      "Cummulative reward:  64\n",
      "\n",
      ">> Episode:  341 / 450\n",
      "2/2 - 0s - loss: 5.7908e-04 - accuracy: 1.0000 - 21ms/epoch - 11ms/step\n",
      "Cummulative reward:  64\n",
      "\n",
      ">> Episode:  342 / 450\n",
      "2/2 - 0s - loss: 0.0065 - accuracy: 1.0000 - 21ms/epoch - 10ms/step\n",
      "Cummulative reward:  62\n",
      "\n",
      ">> Episode:  343 / 450\n",
      "2/2 - 0s - loss: 0.0067 - accuracy: 1.0000 - 21ms/epoch - 11ms/step\n",
      "Cummulative reward:  62\n",
      "\n",
      ">> Episode:  344 / 450\n",
      "2/2 - 0s - loss: 0.0131 - accuracy: 0.9844 - 21ms/epoch - 11ms/step\n",
      "Cummulative reward:  62\n",
      "\n",
      ">> Episode:  345 / 450\n",
      "2/2 - 0s - loss: 0.0018 - accuracy: 1.0000 - 21ms/epoch - 10ms/step\n",
      "Cummulative reward:  64\n",
      "\n",
      ">> Episode:  346 / 450\n",
      "2/2 - 0s - loss: 0.0014 - accuracy: 1.0000 - 20ms/epoch - 10ms/step\n",
      "Cummulative reward:  64\n",
      "\n",
      ">> Episode:  347 / 450\n",
      "2/2 - 0s - loss: 0.0070 - accuracy: 1.0000 - 21ms/epoch - 10ms/step\n",
      "Cummulative reward:  62\n",
      "\n",
      ">> Episode:  348 / 450\n",
      "2/2 - 0s - loss: 0.0036 - accuracy: 1.0000 - 21ms/epoch - 10ms/step\n",
      "Cummulative reward:  64\n",
      "\n",
      ">> Episode:  349 / 450\n",
      "2/2 - 0s - loss: 0.0057 - accuracy: 1.0000 - 21ms/epoch - 10ms/step\n",
      "Cummulative reward:  62\n",
      "\n",
      ">> Episode:  350 / 450\n",
      "2/2 - 0s - loss: 0.0061 - accuracy: 1.0000 - 21ms/epoch - 10ms/step\n",
      "Cummulative reward:  62\n",
      "\n",
      ">> Episode:  351 / 450\n",
      "2/2 - 0s - loss: 0.0178 - accuracy: 1.0000 - 20ms/epoch - 10ms/step\n",
      "Cummulative reward:  58\n",
      "\n",
      ">> Episode:  352 / 450\n",
      "2/2 - 0s - loss: 0.0018 - accuracy: 1.0000 - 21ms/epoch - 10ms/step\n",
      "Cummulative reward:  64\n",
      "\n",
      ">> Episode:  353 / 450\n",
      "2/2 - 0s - loss: 9.1188e-04 - accuracy: 1.0000 - 25ms/epoch - 12ms/step\n",
      "Cummulative reward:  64\n",
      "\n",
      ">> Episode:  354 / 450\n",
      "2/2 - 0s - loss: 0.0057 - accuracy: 1.0000 - 22ms/epoch - 11ms/step\n",
      "Cummulative reward:  62\n",
      "\n",
      ">> Episode:  355 / 450\n",
      "2/2 - 0s - loss: 0.0016 - accuracy: 1.0000 - 22ms/epoch - 11ms/step\n",
      "Cummulative reward:  64\n",
      "\n",
      ">> Episode:  356 / 450\n",
      "2/2 - 0s - loss: 0.0014 - accuracy: 1.0000 - 20ms/epoch - 10ms/step\n",
      "Cummulative reward:  64\n",
      "\n",
      ">> Episode:  357 / 450\n",
      "2/2 - 0s - loss: 3.2099e-04 - accuracy: 1.0000 - 20ms/epoch - 10ms/step\n",
      "Cummulative reward:  64\n",
      "\n",
      ">> Episode:  358 / 450\n",
      "2/2 - 0s - loss: 0.0010 - accuracy: 1.0000 - 22ms/epoch - 11ms/step\n",
      "Cummulative reward:  64\n",
      "\n",
      ">> Episode:  359 / 450\n",
      "2/2 - 0s - loss: 0.0166 - accuracy: 0.9844 - 21ms/epoch - 10ms/step\n",
      "Cummulative reward:  62\n",
      "\n",
      ">> Episode:  360 / 450\n",
      "2/2 - 0s - loss: 0.0112 - accuracy: 1.0000 - 20ms/epoch - 10ms/step\n",
      "Cummulative reward:  60\n",
      "\n",
      ">> Episode:  361 / 450\n",
      "2/2 - 0s - loss: 0.0108 - accuracy: 1.0000 - 21ms/epoch - 10ms/step\n",
      "Cummulative reward:  60\n",
      "\n",
      ">> Episode:  362 / 450\n",
      "2/2 - 0s - loss: 8.8792e-04 - accuracy: 1.0000 - 24ms/epoch - 12ms/step\n",
      "Cummulative reward:  64\n",
      "\n",
      ">> Episode:  363 / 450\n",
      "2/2 - 0s - loss: 0.0058 - accuracy: 1.0000 - 26ms/epoch - 13ms/step\n",
      "Cummulative reward:  62\n",
      "\n",
      ">> Episode:  364 / 450\n",
      "2/2 - 0s - loss: 0.0113 - accuracy: 1.0000 - 21ms/epoch - 10ms/step\n",
      "Cummulative reward:  60\n",
      "\n",
      ">> Episode:  365 / 450\n",
      "2/2 - 0s - loss: 2.3498e-04 - accuracy: 1.0000 - 21ms/epoch - 11ms/step\n",
      "Cummulative reward:  64\n",
      "\n",
      ">> Episode:  366 / 450\n",
      "2/2 - 0s - loss: 0.0198 - accuracy: 0.9844 - 24ms/epoch - 12ms/step\n",
      "Cummulative reward:  62\n",
      "\n",
      ">> Episode:  367 / 450\n",
      "2/2 - 0s - loss: 0.0016 - accuracy: 1.0000 - 21ms/epoch - 11ms/step\n",
      "Cummulative reward:  64\n",
      "\n",
      ">> Episode:  368 / 450\n",
      "2/2 - 0s - loss: 0.0056 - accuracy: 1.0000 - 22ms/epoch - 11ms/step\n",
      "Cummulative reward:  62\n",
      "\n",
      ">> Episode:  369 / 450\n",
      "2/2 - 0s - loss: 8.8310e-04 - accuracy: 1.0000 - 23ms/epoch - 11ms/step\n",
      "Cummulative reward:  64\n",
      "\n",
      ">> Episode:  370 / 450\n",
      "2/2 - 0s - loss: 3.1614e-04 - accuracy: 1.0000 - 31ms/epoch - 15ms/step\n",
      "Cummulative reward:  64\n",
      "\n",
      ">> Episode:  371 / 450\n",
      "2/2 - 0s - loss: 8.0966e-04 - accuracy: 1.0000 - 75ms/epoch - 37ms/step\n",
      "Cummulative reward:  64\n",
      "\n",
      ">> Episode:  372 / 450\n",
      "2/2 - 0s - loss: 0.0189 - accuracy: 0.9844 - 25ms/epoch - 13ms/step\n",
      "Cummulative reward:  62\n",
      "\n",
      ">> Episode:  373 / 450\n",
      "2/2 - 0s - loss: 0.0059 - accuracy: 1.0000 - 23ms/epoch - 12ms/step\n",
      "Cummulative reward:  62\n",
      "\n",
      ">> Episode:  374 / 450\n",
      "2/2 - 0s - loss: 0.0174 - accuracy: 1.0000 - 23ms/epoch - 11ms/step\n",
      "Cummulative reward:  60\n",
      "\n",
      ">> Episode:  375 / 450\n",
      "2/2 - 0s - loss: 0.0064 - accuracy: 1.0000 - 21ms/epoch - 10ms/step\n",
      "Cummulative reward:  62\n",
      "\n",
      ">> Episode:  376 / 450\n",
      "2/2 - 0s - loss: 0.0131 - accuracy: 0.9844 - 23ms/epoch - 11ms/step\n",
      "Cummulative reward:  62\n",
      "\n",
      ">> Episode:  377 / 450\n",
      "2/2 - 0s - loss: 0.0015 - accuracy: 1.0000 - 21ms/epoch - 10ms/step\n",
      "Cummulative reward:  64\n",
      "\n",
      ">> Episode:  378 / 450\n",
      "2/2 - 0s - loss: 0.0308 - accuracy: 0.9688 - 23ms/epoch - 11ms/step\n",
      "Cummulative reward:  60\n",
      "\n",
      ">> Episode:  379 / 450\n",
      "2/2 - 0s - loss: 0.0013 - accuracy: 1.0000 - 22ms/epoch - 11ms/step\n",
      "Cummulative reward:  64\n",
      "\n",
      ">> Episode:  380 / 450\n",
      "2/2 - 0s - loss: 4.6594e-04 - accuracy: 1.0000 - 23ms/epoch - 12ms/step\n",
      "Cummulative reward:  64\n",
      "\n",
      ">> Episode:  381 / 450\n",
      "2/2 - 0s - loss: 0.0334 - accuracy: 0.9688 - 27ms/epoch - 14ms/step\n",
      "Cummulative reward:  60\n",
      "\n",
      ">> Episode:  382 / 450\n",
      "2/2 - 0s - loss: 0.0017 - accuracy: 1.0000 - 36ms/epoch - 18ms/step\n",
      "Cummulative reward:  64\n",
      "\n",
      ">> Episode:  383 / 450\n",
      "2/2 - 0s - loss: 0.0146 - accuracy: 0.9844 - 26ms/epoch - 13ms/step\n",
      "Cummulative reward:  62\n",
      "\n",
      ">> Episode:  384 / 450\n",
      "2/2 - 0s - loss: 0.0194 - accuracy: 0.9844 - 21ms/epoch - 10ms/step\n",
      "Cummulative reward:  62\n",
      "\n",
      ">> Episode:  385 / 450\n",
      "2/2 - 0s - loss: 0.0536 - accuracy: 0.9531 - 21ms/epoch - 10ms/step\n",
      "Cummulative reward:  58\n",
      "\n",
      ">> Episode:  386 / 450\n",
      "2/2 - 0s - loss: 0.0017 - accuracy: 1.0000 - 27ms/epoch - 13ms/step\n",
      "Cummulative reward:  64\n",
      "\n",
      ">> Episode:  387 / 450\n",
      "2/2 - 0s - loss: 0.0184 - accuracy: 0.9844 - 20ms/epoch - 10ms/step\n",
      "Cummulative reward:  62\n",
      "\n",
      ">> Episode:  388 / 450\n",
      "2/2 - 0s - loss: 0.0149 - accuracy: 0.9844 - 21ms/epoch - 10ms/step\n",
      "Cummulative reward:  62\n",
      "\n",
      ">> Episode:  389 / 450\n",
      "2/2 - 0s - loss: 5.0986e-04 - accuracy: 1.0000 - 23ms/epoch - 12ms/step\n",
      "Cummulative reward:  64\n",
      "\n",
      ">> Episode:  390 / 450\n",
      "2/2 - 0s - loss: 1.2495e-04 - accuracy: 1.0000 - 25ms/epoch - 13ms/step\n",
      "Cummulative reward:  64\n",
      "\n",
      ">> Episode:  391 / 450\n",
      "2/2 - 0s - loss: 0.0108 - accuracy: 1.0000 - 23ms/epoch - 11ms/step\n",
      "Cummulative reward:  60\n",
      "\n",
      ">> Episode:  392 / 450\n",
      "2/2 - 0s - loss: 5.8670e-04 - accuracy: 1.0000 - 22ms/epoch - 11ms/step\n",
      "Cummulative reward:  64\n",
      "\n",
      ">> Episode:  393 / 450\n",
      "2/2 - 0s - loss: 8.0948e-04 - accuracy: 1.0000 - 21ms/epoch - 11ms/step\n",
      "Cummulative reward:  64\n",
      "\n",
      ">> Episode:  394 / 450\n",
      "2/2 - 0s - loss: 0.0058 - accuracy: 1.0000 - 25ms/epoch - 12ms/step\n",
      "Cummulative reward:  62\n",
      "\n",
      ">> Episode:  395 / 450\n",
      "2/2 - 0s - loss: 8.9772e-04 - accuracy: 1.0000 - 21ms/epoch - 10ms/step\n",
      "Cummulative reward:  64\n",
      "\n",
      ">> Episode:  396 / 450\n",
      "2/2 - 0s - loss: 8.3906e-04 - accuracy: 1.0000 - 20ms/epoch - 10ms/step\n",
      "Cummulative reward:  64\n",
      "\n",
      ">> Episode:  397 / 450\n",
      "2/2 - 0s - loss: 0.0122 - accuracy: 1.0000 - 21ms/epoch - 10ms/step\n",
      "Cummulative reward:  60\n",
      "\n",
      ">> Episode:  398 / 450\n",
      "2/2 - 0s - loss: 0.0173 - accuracy: 0.9844 - 25ms/epoch - 12ms/step\n",
      "Cummulative reward:  62\n",
      "\n",
      ">> Episode:  399 / 450\n",
      "2/2 - 0s - loss: 0.0058 - accuracy: 1.0000 - 21ms/epoch - 11ms/step\n",
      "Cummulative reward:  62\n",
      "\n",
      ">> Episode:  400 / 450\n",
      "2/2 - 0s - loss: 0.0014 - accuracy: 1.0000 - 28ms/epoch - 14ms/step\n",
      "Cummulative reward:  64\n",
      "\n",
      ">> Episode:  401 / 450\n",
      "2/2 - 0s - loss: 4.9470e-04 - accuracy: 1.0000 - 33ms/epoch - 17ms/step\n",
      "Cummulative reward:  64\n",
      "\n",
      ">> Episode:  402 / 450\n",
      "2/2 - 0s - loss: 0.0061 - accuracy: 1.0000 - 22ms/epoch - 11ms/step\n",
      "Cummulative reward:  62\n",
      "\n",
      ">> Episode:  403 / 450\n",
      "2/2 - 0s - loss: 0.0321 - accuracy: 0.9844 - 21ms/epoch - 11ms/step\n",
      "Cummulative reward:  58\n",
      "\n",
      ">> Episode:  404 / 450\n",
      "2/2 - 0s - loss: 0.0253 - accuracy: 0.9844 - 24ms/epoch - 12ms/step\n",
      "Cummulative reward:  60\n",
      "\n",
      ">> Episode:  405 / 450\n",
      "2/2 - 0s - loss: 0.0092 - accuracy: 0.9844 - 25ms/epoch - 12ms/step\n",
      "Cummulative reward:  62\n",
      "\n",
      ">> Episode:  406 / 450\n",
      "2/2 - 0s - loss: 0.0361 - accuracy: 0.9688 - 21ms/epoch - 10ms/step\n",
      "Cummulative reward:  58\n",
      "\n",
      ">> Episode:  407 / 450\n",
      "2/2 - 0s - loss: 4.2038e-04 - accuracy: 1.0000 - 34ms/epoch - 17ms/step\n",
      "Cummulative reward:  64\n",
      "\n",
      ">> Episode:  408 / 450\n",
      "2/2 - 0s - loss: 0.0010 - accuracy: 1.0000 - 37ms/epoch - 19ms/step\n",
      "Cummulative reward:  64\n",
      "\n",
      ">> Episode:  409 / 450\n",
      "2/2 - 0s - loss: 0.0062 - accuracy: 0.9844 - 25ms/epoch - 13ms/step\n",
      "Cummulative reward:  62\n",
      "\n",
      ">> Episode:  410 / 450\n",
      "2/2 - 0s - loss: 0.0149 - accuracy: 0.9844 - 22ms/epoch - 11ms/step\n",
      "Cummulative reward:  62\n",
      "\n",
      ">> Episode:  411 / 450\n",
      "2/2 - 0s - loss: 0.0017 - accuracy: 1.0000 - 21ms/epoch - 11ms/step\n",
      "Cummulative reward:  64\n",
      "\n",
      ">> Episode:  412 / 450\n",
      "2/2 - 0s - loss: 0.0124 - accuracy: 1.0000 - 21ms/epoch - 10ms/step\n",
      "Cummulative reward:  62\n",
      "\n",
      ">> Episode:  413 / 450\n",
      "2/2 - 0s - loss: 0.0248 - accuracy: 0.9844 - 23ms/epoch - 11ms/step\n",
      "Cummulative reward:  60\n",
      "\n",
      ">> Episode:  414 / 450\n",
      "2/2 - 0s - loss: 4.2596e-04 - accuracy: 1.0000 - 21ms/epoch - 10ms/step\n",
      "Cummulative reward:  64\n",
      "\n",
      ">> Episode:  415 / 450\n",
      "2/2 - 0s - loss: 8.1500e-04 - accuracy: 1.0000 - 22ms/epoch - 11ms/step\n",
      "Cummulative reward:  64\n",
      "\n",
      ">> Episode:  416 / 450\n",
      "2/2 - 0s - loss: 1.7358e-04 - accuracy: 1.0000 - 23ms/epoch - 12ms/step\n",
      "Cummulative reward:  64\n",
      "\n",
      ">> Episode:  417 / 450\n",
      "2/2 - 0s - loss: 3.5822e-04 - accuracy: 1.0000 - 26ms/epoch - 13ms/step\n",
      "Cummulative reward:  64\n",
      "\n",
      ">> Episode:  418 / 450\n",
      "2/2 - 0s - loss: 0.0067 - accuracy: 1.0000 - 35ms/epoch - 18ms/step\n",
      "Cummulative reward:  62\n",
      "\n",
      ">> Episode:  419 / 450\n",
      "2/2 - 0s - loss: 7.5684e-04 - accuracy: 1.0000 - 23ms/epoch - 11ms/step\n",
      "Cummulative reward:  64\n",
      "\n",
      ">> Episode:  420 / 450\n",
      "2/2 - 0s - loss: 3.6680e-04 - accuracy: 1.0000 - 23ms/epoch - 11ms/step\n",
      "Cummulative reward:  64\n",
      "\n",
      ">> Episode:  421 / 450\n",
      "2/2 - 0s - loss: 0.0088 - accuracy: 1.0000 - 23ms/epoch - 12ms/step\n",
      "Cummulative reward:  62\n",
      "\n",
      ">> Episode:  422 / 450\n",
      "2/2 - 0s - loss: 0.0070 - accuracy: 1.0000 - 22ms/epoch - 11ms/step\n",
      "Cummulative reward:  62\n",
      "\n",
      ">> Episode:  423 / 450\n",
      "2/2 - 0s - loss: 0.0142 - accuracy: 0.9844 - 21ms/epoch - 11ms/step\n",
      "Cummulative reward:  62\n",
      "\n",
      ">> Episode:  424 / 450\n",
      "2/2 - 0s - loss: 0.0065 - accuracy: 1.0000 - 23ms/epoch - 11ms/step\n",
      "Cummulative reward:  62\n",
      "\n",
      ">> Episode:  425 / 450\n",
      "2/2 - 0s - loss: 0.0017 - accuracy: 1.0000 - 22ms/epoch - 11ms/step\n",
      "Cummulative reward:  64\n",
      "\n",
      ">> Episode:  426 / 450\n",
      "2/2 - 0s - loss: 0.0181 - accuracy: 0.9844 - 23ms/epoch - 11ms/step\n",
      "Cummulative reward:  62\n",
      "\n",
      ">> Episode:  427 / 450\n",
      "2/2 - 0s - loss: 3.6971e-04 - accuracy: 1.0000 - 23ms/epoch - 11ms/step\n",
      "Cummulative reward:  64\n",
      "\n",
      ">> Episode:  428 / 450\n",
      "2/2 - 0s - loss: 0.0053 - accuracy: 1.0000 - 23ms/epoch - 12ms/step\n",
      "Cummulative reward:  62\n",
      "\n",
      ">> Episode:  429 / 450\n",
      "2/2 - 0s - loss: 7.4277e-04 - accuracy: 1.0000 - 31ms/epoch - 16ms/step\n",
      "Cummulative reward:  64\n",
      "\n",
      ">> Episode:  430 / 450\n",
      "2/2 - 0s - loss: 0.0011 - accuracy: 1.0000 - 30ms/epoch - 15ms/step\n",
      "Cummulative reward:  64\n",
      "\n",
      ">> Episode:  431 / 450\n",
      "2/2 - 0s - loss: 5.5130e-04 - accuracy: 1.0000 - 27ms/epoch - 13ms/step\n",
      "Cummulative reward:  64\n",
      "\n",
      ">> Episode:  432 / 450\n",
      "2/2 - 0s - loss: 0.0109 - accuracy: 1.0000 - 23ms/epoch - 12ms/step\n",
      "Cummulative reward:  60\n",
      "\n",
      ">> Episode:  433 / 450\n",
      "2/2 - 0s - loss: 0.0020 - accuracy: 1.0000 - 22ms/epoch - 11ms/step\n",
      "Cummulative reward:  64\n",
      "\n",
      ">> Episode:  434 / 450\n",
      "2/2 - 0s - loss: 8.6133e-04 - accuracy: 1.0000 - 23ms/epoch - 11ms/step\n",
      "Cummulative reward:  64\n",
      "\n",
      ">> Episode:  435 / 450\n",
      "2/2 - 0s - loss: 0.0054 - accuracy: 1.0000 - 25ms/epoch - 12ms/step\n",
      "Cummulative reward:  62\n",
      "\n",
      ">> Episode:  436 / 450\n",
      "2/2 - 0s - loss: 6.3284e-04 - accuracy: 1.0000 - 23ms/epoch - 11ms/step\n",
      "Cummulative reward:  64\n",
      "\n",
      ">> Episode:  437 / 450\n",
      "2/2 - 0s - loss: 0.0014 - accuracy: 1.0000 - 24ms/epoch - 12ms/step\n",
      "Cummulative reward:  64\n",
      "\n",
      ">> Episode:  438 / 450\n",
      "2/2 - 0s - loss: 6.5647e-04 - accuracy: 1.0000 - 30ms/epoch - 15ms/step\n",
      "Cummulative reward:  64\n",
      "\n",
      ">> Episode:  439 / 450\n",
      "2/2 - 0s - loss: 0.0068 - accuracy: 1.0000 - 29ms/epoch - 15ms/step\n",
      "Cummulative reward:  62\n",
      "\n",
      ">> Episode:  440 / 450\n",
      "2/2 - 0s - loss: 3.2559e-04 - accuracy: 1.0000 - 22ms/epoch - 11ms/step\n",
      "Cummulative reward:  64\n",
      "\n",
      ">> Episode:  441 / 450\n",
      "2/2 - 0s - loss: 2.8153e-04 - accuracy: 1.0000 - 23ms/epoch - 11ms/step\n",
      "Cummulative reward:  64\n",
      "\n",
      ">> Episode:  442 / 450\n",
      "2/2 - 0s - loss: 2.6354e-04 - accuracy: 1.0000 - 24ms/epoch - 12ms/step\n",
      "Cummulative reward:  64\n",
      "\n",
      ">> Episode:  443 / 450\n",
      "2/2 - 0s - loss: 0.0055 - accuracy: 1.0000 - 23ms/epoch - 11ms/step\n",
      "Cummulative reward:  62\n",
      "\n",
      ">> Episode:  444 / 450\n",
      "2/2 - 0s - loss: 0.0149 - accuracy: 0.9844 - 32ms/epoch - 16ms/step\n",
      "Cummulative reward:  62\n",
      "\n",
      ">> Episode:  445 / 450\n",
      "2/2 - 0s - loss: 8.4546e-04 - accuracy: 1.0000 - 24ms/epoch - 12ms/step\n",
      "Cummulative reward:  64\n",
      "\n",
      ">> Episode:  446 / 450\n",
      "2/2 - 0s - loss: 2.5093e-04 - accuracy: 1.0000 - 24ms/epoch - 12ms/step\n",
      "Cummulative reward:  64\n",
      "\n",
      ">> Episode:  447 / 450\n",
      "2/2 - 0s - loss: 0.0012 - accuracy: 1.0000 - 24ms/epoch - 12ms/step\n",
      "Cummulative reward:  64\n",
      "\n",
      ">> Episode:  448 / 450\n",
      "2/2 - 0s - loss: 0.0112 - accuracy: 1.0000 - 24ms/epoch - 12ms/step\n",
      "Cummulative reward:  60\n",
      "\n",
      ">> Episode:  449 / 450\n",
      "2/2 - 0s - loss: 0.0057 - accuracy: 1.0000 - 22ms/epoch - 11ms/step\n",
      "Cummulative reward:  62\n",
      "\n",
      ">> Episode:  450 / 450\n",
      "2/2 - 0s - loss: 1.1850e-04 - accuracy: 1.0000 - 24ms/epoch - 12ms/step\n",
      "Cummulative reward:  64\n"
     ]
    }
   ],
   "source": [
    "# Initialization:\n",
    "\n",
    "# environment\n",
    "trainX, trainy, testX, testy = load_dataset() # load dataset (x = state, y = action)\n",
    "env = PowerPlantEnv(dataset=(trainX, trainy))\n",
    "action_space = [0,1,2] # action space: {0: healthy, 1: OR fault, 2: IR fault}\n",
    "\n",
    "E = 450 # training episode number\n",
    "M = 300 # experience pool capacity\n",
    "R = 64 # replay size\n",
    "T = 64 # game rounds in one episode\n",
    "C = 10 # copy period: training steps to update periodicity of target network\n",
    "\n",
    "discount_factor = 0.001 # gamma 0.001\n",
    "learning_rate = 0.001 # alpha\n",
    "\n",
    "# epsilon-greedy:\n",
    "# tradeoff between exploration and exploitation\n",
    "epsilon_0 = 0.4  # exploration probability at start\n",
    "epsilon_min = 0.01  # minimum exploration probability\n",
    "epsilon_decay = 0.3  # exponential decay rate for exploration prob\n",
    "\n",
    "cum_reward_episode = []\n",
    "acc_episode = []\n",
    "loss_episode = []\n",
    "\n",
    "ddqn_agent = DDQNAgent(learning_rate=learning_rate, discount_factor=discount_factor, \\\n",
    "                                action_space=action_space, \\\n",
    "                                trainX=trainX, trainy=trainy, batch_size=R, \\\n",
    "                                epsilon_0=epsilon_0, epsilon_decay=epsilon_decay, \\\n",
    "                                epsilon_min=epsilon_min, mem_size=M, replace_target=C)\n",
    "\n",
    "for e in range(1,E+1): # training episode\n",
    "    env = PowerPlantEnv(dataset=(trainX, trainy)) # reset environment\n",
    "    ddqn_agent.reset_pool(M) # reset experience pool\n",
    "    ddqn_agent.set_episode_count(e) # set the counter with the number of episodes\n",
    "    cum_reward = 0\n",
    "    print(\"\\n>> Episode: \",e,\"/\",E)\n",
    "    observation = env._next_obs()\n",
    "    ddqn_agent.update_epsilon()\n",
    "    for t in range(1,T+1): # game round\n",
    "        action = ddqn_agent.choose_action(observation)\n",
    "        observation_, reward, done, info = env.step(action)\n",
    "        done = (t==T)\n",
    "        cum_reward += reward\n",
    "        exp = Experience(observation, action, reward, observation_, int(done))\n",
    "        ddqn_agent.add_experience(exp)\n",
    "        observation = observation_\n",
    "        acc, loss = ddqn_agent.learn()\n",
    "    cum_reward_episode.append(cum_reward)\n",
    "    acc_episode.append(acc)\n",
    "    loss_episode.append(loss)\n",
    "    print(\"Cummulative reward: \",cum_reward)\n",
    "\n",
    "# save model\n",
    "ddqn_model = ddqn_agent.q_policy\n",
    "models_dir = 'models/'\n",
    "existing_models = [filename for filename in os.listdir(models_dir) if filename.startswith('ddqn_model')]\n",
    "num_model = len(existing_models)+1\n",
    "filename = f'models/ddqn_model_{num_model}.h5'\n",
    "ddqn_model.save(filename)"
   ]
  },
  {
   "cell_type": "code",
   "execution_count": 17,
   "metadata": {},
   "outputs": [
    {
     "data": {
      "image/png": "[encoded data removed]",
      "text/plain": [
       "<Figure size 1500x400 with 3 Axes>"
      ]
     },
     "metadata": {},
     "output_type": "display_data"
    }
   ],
   "source": [
    "# E = 450 # training episode number\n",
    "# M = 300 # experience pool capacity\n",
    "# R = 64 # replay size\n",
    "# T = 64 # game rounds in one episode\n",
    "# C = 10 # copy period: training steps to update periodicity of target network\n",
    "# discount_factor = 0.001 # gamma\n",
    "# learning_rate = 0.001 # alpha\n",
    "# # epsilon-greedy:\n",
    "# # tradeoff between exploration and exploitation\n",
    "# epsilon_0 = 0.4  # exploration probability at start\n",
    "# epsilon_min = 0.01  # minimum exploration probability\n",
    "# epsilon_decay = 0.3  # exponential decay rate for exploration prob\n",
    "# Modelo con 2 capas de Conv1D\n",
    "\n",
    "fig, axs = plt.subplots(1, 3, figsize=(15, 4))\n",
    "\n",
    "axs[0].plot(acc_episode)\n",
    "axs[0].set(xlabel='Accuracy')\n",
    "\n",
    "axs[1].plot(loss_episode)\n",
    "axs[1].set(xlabel='Loss')\n",
    "\n",
    "axs[2].plot(cum_reward_episode)\n",
    "axs[2].set(xlabel='Reward')\n",
    "\n",
    "plt.show()"
   ]
  },
  {
   "cell_type": "code",
   "execution_count": 26,
   "metadata": {},
   "outputs": [
    {
     "name": "stdout",
     "output_type": "stream",
     "text": [
      "47/47 [==============================] - 0s 5ms/step\n",
      "Test accuracy:  0.9563465413028879\n"
     ]
    }
   ],
   "source": [
    "pred_test = ddqn_model.predict(testX)\n",
    "\n",
    "test_acc = accuracy_score(np.argmax(testy,axis=1), np.argmax(pred_test,axis=1))\n",
    "print('Test accuracy: ',test_acc)"
   ]
  },
  {
   "cell_type": "code",
   "execution_count": 27,
   "metadata": {},
   "outputs": [
    {
     "name": "stdout",
     "output_type": "stream",
     "text": [
      "              precision    recall  f1-score   support\n",
      "\n",
      "     Healthy     0.9450    0.9286    0.9367       518\n",
      "    OR fault     1.0000    1.0000    1.0000       484\n",
      "    IR fault     0.9254    0.9425    0.9339       487\n",
      "\n",
      "    accuracy                         0.9563      1489\n",
      "   macro avg     0.9568    0.9570    0.9569      1489\n",
      "weighted avg     0.9565    0.9563    0.9564      1489\n",
      "\n"
     ]
    }
   ],
   "source": [
    "print(classification_report(np.argmax(testy,axis=1), np.argmax(pred_test,axis=1), target_names=['Healthy', 'OR fault', 'IR fault'],digits=4))"
   ]
  },
  {
   "cell_type": "code",
   "execution_count": 50,
   "metadata": {},
   "outputs": [
    {
     "data": {
      "application/vnd.plotly.v1+json": {
       "config": {
        "plotlyServerURL": "https://plot.ly"
       },
       "data": [
        {
         "colorscale": [
          [
           0,
           "rgb(0, 147, 146)"
          ],
          [
           0.16666666666666666,
           "rgb(114, 170, 161)"
          ],
          [
           0.3333333333333333,
           "rgb(177, 199, 179)"
          ],
          [
           0.5,
           "rgb(241, 234, 200)"
          ],
          [
           0.6666666666666666,
           "rgb(229, 185, 173)"
          ],
          [
           0.8333333333333334,
           "rgb(217, 137, 148)"
          ],
          [
           1,
           "rgb(208, 88, 126)"
          ]
         ],
         "reversescale": false,
         "showscale": false,
         "type": "heatmap",
         "x": [
          "Healthy",
          "OR fault",
          "IR fault"
         ],
         "y": [
          "IR fault",
          "OR fault",
          "Healthy"
         ],
         "z": [
          [
           28,
           0,
           459
          ],
          [
           0,
           484,
           0
          ],
          [
           481,
           0,
           37
          ]
         ]
        }
       ],
       "layout": {
        "annotations": [
         {
          "font": {
           "color": "#FFFFFF"
          },
          "showarrow": false,
          "text": "28",
          "x": "Healthy",
          "xref": "x",
          "y": "IR fault",
          "yref": "y"
         },
         {
          "font": {
           "color": "#FFFFFF"
          },
          "showarrow": false,
          "text": "0",
          "x": "OR fault",
          "xref": "x",
          "y": "IR fault",
          "yref": "y"
         },
         {
          "font": {
           "color": "#FFFFFF"
          },
          "showarrow": false,
          "text": "459",
          "x": "IR fault",
          "xref": "x",
          "y": "IR fault",
          "yref": "y"
         },
         {
          "font": {
           "color": "#FFFFFF"
          },
          "showarrow": false,
          "text": "0",
          "x": "Healthy",
          "xref": "x",
          "y": "OR fault",
          "yref": "y"
         },
         {
          "font": {
           "color": "#FFFFFF"
          },
          "showarrow": false,
          "text": "484",
          "x": "OR fault",
          "xref": "x",
          "y": "OR fault",
          "yref": "y"
         },
         {
          "font": {
           "color": "#FFFFFF"
          },
          "showarrow": false,
          "text": "0",
          "x": "IR fault",
          "xref": "x",
          "y": "OR fault",
          "yref": "y"
         },
         {
          "font": {
           "color": "#FFFFFF"
          },
          "showarrow": false,
          "text": "481",
          "x": "Healthy",
          "xref": "x",
          "y": "Healthy",
          "yref": "y"
         },
         {
          "font": {
           "color": "#FFFFFF"
          },
          "showarrow": false,
          "text": "0",
          "x": "OR fault",
          "xref": "x",
          "y": "Healthy",
          "yref": "y"
         },
         {
          "font": {
           "color": "#FFFFFF"
          },
          "showarrow": false,
          "text": "37",
          "x": "IR fault",
          "xref": "x",
          "y": "Healthy",
          "yref": "y"
         }
        ],
        "height": 300,
        "template": {
         "data": {
          "bar": [
           {
            "error_x": {
             "color": "#2a3f5f"
            },
            "error_y": {
             "color": "#2a3f5f"
            },
            "marker": {
             "line": {
              "color": "#E5ECF6",
              "width": 0.5
             },
             "pattern": {
              "fillmode": "overlay",
              "size": 10,
              "solidity": 0.2
             }
            },
            "type": "bar"
           }
          ],
          "barpolar": [
           {
            "marker": {
             "line": {
              "color": "#E5ECF6",
              "width": 0.5
             },
             "pattern": {
              "fillmode": "overlay",
              "size": 10,
              "solidity": 0.2
             }
            },
            "type": "barpolar"
           }
          ],
          "carpet": [
           {
            "aaxis": {
             "endlinecolor": "#2a3f5f",
             "gridcolor": "white",
             "linecolor": "white",
             "minorgridcolor": "white",
             "startlinecolor": "#2a3f5f"
            },
            "baxis": {
             "endlinecolor": "#2a3f5f",
             "gridcolor": "white",
             "linecolor": "white",
             "minorgridcolor": "white",
             "startlinecolor": "#2a3f5f"
            },
            "type": "carpet"
           }
          ],
          "choropleth": [
           {
            "colorbar": {
             "outlinewidth": 0,
             "ticks": ""
            },
            "type": "choropleth"
           }
          ],
          "contour": [
           {
            "colorbar": {
             "outlinewidth": 0,
             "ticks": ""
            },
            "colorscale": [
             [
              0,
              "#0d0887"
             ],
             [
              0.1111111111111111,
              "#46039f"
             ],
             [
              0.2222222222222222,
              "#7201a8"
             ],
             [
              0.3333333333333333,
              "#9c179e"
             ],
             [
              0.4444444444444444,
              "#bd3786"
             ],
             [
              0.5555555555555556,
              "#d8576b"
             ],
             [
              0.6666666666666666,
              "#ed7953"
             ],
             [
              0.7777777777777778,
              "#fb9f3a"
             ],
             [
              0.8888888888888888,
              "#fdca26"
             ],
             [
              1,
              "#f0f921"
             ]
            ],
            "type": "contour"
           }
          ],
          "contourcarpet": [
           {
            "colorbar": {
             "outlinewidth": 0,
             "ticks": ""
            },
            "type": "contourcarpet"
           }
          ],
          "heatmap": [
           {
            "colorbar": {
             "outlinewidth": 0,
             "ticks": ""
            },
            "colorscale": [
             [
              0,
              "#0d0887"
             ],
             [
              0.1111111111111111,
              "#46039f"
             ],
             [
              0.2222222222222222,
              "#7201a8"
             ],
             [
              0.3333333333333333,
              "#9c179e"
             ],
             [
              0.4444444444444444,
              "#bd3786"
             ],
             [
              0.5555555555555556,
              "#d8576b"
             ],
             [
              0.6666666666666666,
              "#ed7953"
             ],
             [
              0.7777777777777778,
              "#fb9f3a"
             ],
             [
              0.8888888888888888,
              "#fdca26"
             ],
             [
              1,
              "#f0f921"
             ]
            ],
            "type": "heatmap"
           }
          ],
          "heatmapgl": [
           {
            "colorbar": {
             "outlinewidth": 0,
             "ticks": ""
            },
            "colorscale": [
             [
              0,
              "#0d0887"
             ],
             [
              0.1111111111111111,
              "#46039f"
             ],
             [
              0.2222222222222222,
              "#7201a8"
             ],
             [
              0.3333333333333333,
              "#9c179e"
             ],
             [
              0.4444444444444444,
              "#bd3786"
             ],
             [
              0.5555555555555556,
              "#d8576b"
             ],
             [
              0.6666666666666666,
              "#ed7953"
             ],
             [
              0.7777777777777778,
              "#fb9f3a"
             ],
             [
              0.8888888888888888,
              "#fdca26"
             ],
             [
              1,
              "#f0f921"
             ]
            ],
            "type": "heatmapgl"
           }
          ],
          "histogram": [
           {
            "marker": {
             "pattern": {
              "fillmode": "overlay",
              "size": 10,
              "solidity": 0.2
             }
            },
            "type": "histogram"
           }
          ],
          "histogram2d": [
           {
            "colorbar": {
             "outlinewidth": 0,
             "ticks": ""
            },
            "colorscale": [
             [
              0,
              "#0d0887"
             ],
             [
              0.1111111111111111,
              "#46039f"
             ],
             [
              0.2222222222222222,
              "#7201a8"
             ],
             [
              0.3333333333333333,
              "#9c179e"
             ],
             [
              0.4444444444444444,
              "#bd3786"
             ],
             [
              0.5555555555555556,
              "#d8576b"
             ],
             [
              0.6666666666666666,
              "#ed7953"
             ],
             [
              0.7777777777777778,
              "#fb9f3a"
             ],
             [
              0.8888888888888888,
              "#fdca26"
             ],
             [
              1,
              "#f0f921"
             ]
            ],
            "type": "histogram2d"
           }
          ],
          "histogram2dcontour": [
           {
            "colorbar": {
             "outlinewidth": 0,
             "ticks": ""
            },
            "colorscale": [
             [
              0,
              "#0d0887"
             ],
             [
              0.1111111111111111,
              "#46039f"
             ],
             [
              0.2222222222222222,
              "#7201a8"
             ],
             [
              0.3333333333333333,
              "#9c179e"
             ],
             [
              0.4444444444444444,
              "#bd3786"
             ],
             [
              0.5555555555555556,
              "#d8576b"
             ],
             [
              0.6666666666666666,
              "#ed7953"
             ],
             [
              0.7777777777777778,
              "#fb9f3a"
             ],
             [
              0.8888888888888888,
              "#fdca26"
             ],
             [
              1,
              "#f0f921"
             ]
            ],
            "type": "histogram2dcontour"
           }
          ],
          "mesh3d": [
           {
            "colorbar": {
             "outlinewidth": 0,
             "ticks": ""
            },
            "type": "mesh3d"
           }
          ],
          "parcoords": [
           {
            "line": {
             "colorbar": {
              "outlinewidth": 0,
              "ticks": ""
             }
            },
            "type": "parcoords"
           }
          ],
          "pie": [
           {
            "automargin": true,
            "type": "pie"
           }
          ],
          "scatter": [
           {
            "fillpattern": {
             "fillmode": "overlay",
             "size": 10,
             "solidity": 0.2
            },
            "type": "scatter"
           }
          ],
          "scatter3d": [
           {
            "line": {
             "colorbar": {
              "outlinewidth": 0,
              "ticks": ""
             }
            },
            "marker": {
             "colorbar": {
              "outlinewidth": 0,
              "ticks": ""
             }
            },
            "type": "scatter3d"
           }
          ],
          "scattercarpet": [
           {
            "marker": {
             "colorbar": {
              "outlinewidth": 0,
              "ticks": ""
             }
            },
            "type": "scattercarpet"
           }
          ],
          "scattergeo": [
           {
            "marker": {
             "colorbar": {
              "outlinewidth": 0,
              "ticks": ""
             }
            },
            "type": "scattergeo"
           }
          ],
          "scattergl": [
           {
            "marker": {
             "colorbar": {
              "outlinewidth": 0,
              "ticks": ""
             }
            },
            "type": "scattergl"
           }
          ],
          "scattermapbox": [
           {
            "marker": {
             "colorbar": {
              "outlinewidth": 0,
              "ticks": ""
             }
            },
            "type": "scattermapbox"
           }
          ],
          "scatterpolar": [
           {
            "marker": {
             "colorbar": {
              "outlinewidth": 0,
              "ticks": ""
             }
            },
            "type": "scatterpolar"
           }
          ],
          "scatterpolargl": [
           {
            "marker": {
             "colorbar": {
              "outlinewidth": 0,
              "ticks": ""
             }
            },
            "type": "scatterpolargl"
           }
          ],
          "scatterternary": [
           {
            "marker": {
             "colorbar": {
              "outlinewidth": 0,
              "ticks": ""
             }
            },
            "type": "scatterternary"
           }
          ],
          "surface": [
           {
            "colorbar": {
             "outlinewidth": 0,
             "ticks": ""
            },
            "colorscale": [
             [
              0,
              "#0d0887"
             ],
             [
              0.1111111111111111,
              "#46039f"
             ],
             [
              0.2222222222222222,
              "#7201a8"
             ],
             [
              0.3333333333333333,
              "#9c179e"
             ],
             [
              0.4444444444444444,
              "#bd3786"
             ],
             [
              0.5555555555555556,
              "#d8576b"
             ],
             [
              0.6666666666666666,
              "#ed7953"
             ],
             [
              0.7777777777777778,
              "#fb9f3a"
             ],
             [
              0.8888888888888888,
              "#fdca26"
             ],
             [
              1,
              "#f0f921"
             ]
            ],
            "type": "surface"
           }
          ],
          "table": [
           {
            "cells": {
             "fill": {
              "color": "#EBF0F8"
             },
             "line": {
              "color": "white"
             }
            },
            "header": {
             "fill": {
              "color": "#C8D4E3"
             },
             "line": {
              "color": "white"
             }
            },
            "type": "table"
           }
          ]
         },
         "layout": {
          "annotationdefaults": {
           "arrowcolor": "#2a3f5f",
           "arrowhead": 0,
           "arrowwidth": 1
          },
          "autotypenumbers": "strict",
          "coloraxis": {
           "colorbar": {
            "outlinewidth": 0,
            "ticks": ""
           }
          },
          "colorscale": {
           "diverging": [
            [
             0,
             "#8e0152"
            ],
            [
             0.1,
             "#c51b7d"
            ],
            [
             0.2,
             "#de77ae"
            ],
            [
             0.3,
             "#f1b6da"
            ],
            [
             0.4,
             "#fde0ef"
            ],
            [
             0.5,
             "#f7f7f7"
            ],
            [
             0.6,
             "#e6f5d0"
            ],
            [
             0.7,
             "#b8e186"
            ],
            [
             0.8,
             "#7fbc41"
            ],
            [
             0.9,
             "#4d9221"
            ],
            [
             1,
             "#276419"
            ]
           ],
           "sequential": [
            [
             0,
             "#0d0887"
            ],
            [
             0.1111111111111111,
             "#46039f"
            ],
            [
             0.2222222222222222,
             "#7201a8"
            ],
            [
             0.3333333333333333,
             "#9c179e"
            ],
            [
             0.4444444444444444,
             "#bd3786"
            ],
            [
             0.5555555555555556,
             "#d8576b"
            ],
            [
             0.6666666666666666,
             "#ed7953"
            ],
            [
             0.7777777777777778,
             "#fb9f3a"
            ],
            [
             0.8888888888888888,
             "#fdca26"
            ],
            [
             1,
             "#f0f921"
            ]
           ],
           "sequentialminus": [
            [
             0,
             "#0d0887"
            ],
            [
             0.1111111111111111,
             "#46039f"
            ],
            [
             0.2222222222222222,
             "#7201a8"
            ],
            [
             0.3333333333333333,
             "#9c179e"
            ],
            [
             0.4444444444444444,
             "#bd3786"
            ],
            [
             0.5555555555555556,
             "#d8576b"
            ],
            [
             0.6666666666666666,
             "#ed7953"
            ],
            [
             0.7777777777777778,
             "#fb9f3a"
            ],
            [
             0.8888888888888888,
             "#fdca26"
            ],
            [
             1,
             "#f0f921"
            ]
           ]
          },
          "colorway": [
           "#636efa",
           "#EF553B",
           "#00cc96",
           "#ab63fa",
           "#FFA15A",
           "#19d3f3",
           "#FF6692",
           "#B6E880",
           "#FF97FF",
           "#FECB52"
          ],
          "font": {
           "color": "#2a3f5f"
          },
          "geo": {
           "bgcolor": "white",
           "lakecolor": "white",
           "landcolor": "#E5ECF6",
           "showlakes": true,
           "showland": true,
           "subunitcolor": "white"
          },
          "hoverlabel": {
           "align": "left"
          },
          "hovermode": "closest",
          "mapbox": {
           "style": "light"
          },
          "paper_bgcolor": "white",
          "plot_bgcolor": "#E5ECF6",
          "polar": {
           "angularaxis": {
            "gridcolor": "white",
            "linecolor": "white",
            "ticks": ""
           },
           "bgcolor": "#E5ECF6",
           "radialaxis": {
            "gridcolor": "white",
            "linecolor": "white",
            "ticks": ""
           }
          },
          "scene": {
           "xaxis": {
            "backgroundcolor": "#E5ECF6",
            "gridcolor": "white",
            "gridwidth": 2,
            "linecolor": "white",
            "showbackground": true,
            "ticks": "",
            "zerolinecolor": "white"
           },
           "yaxis": {
            "backgroundcolor": "#E5ECF6",
            "gridcolor": "white",
            "gridwidth": 2,
            "linecolor": "white",
            "showbackground": true,
            "ticks": "",
            "zerolinecolor": "white"
           },
           "zaxis": {
            "backgroundcolor": "#E5ECF6",
            "gridcolor": "white",
            "gridwidth": 2,
            "linecolor": "white",
            "showbackground": true,
            "ticks": "",
            "zerolinecolor": "white"
           }
          },
          "shapedefaults": {
           "line": {
            "color": "#2a3f5f"
           }
          },
          "ternary": {
           "aaxis": {
            "gridcolor": "white",
            "linecolor": "white",
            "ticks": ""
           },
           "baxis": {
            "gridcolor": "white",
            "linecolor": "white",
            "ticks": ""
           },
           "bgcolor": "#E5ECF6",
           "caxis": {
            "gridcolor": "white",
            "linecolor": "white",
            "ticks": ""
           }
          },
          "title": {
           "x": 0.05
          },
          "xaxis": {
           "automargin": true,
           "gridcolor": "white",
           "linecolor": "white",
           "ticks": "",
           "title": {
            "standoff": 15
           },
           "zerolinecolor": "white",
           "zerolinewidth": 2
          },
          "yaxis": {
           "automargin": true,
           "gridcolor": "white",
           "linecolor": "white",
           "ticks": "",
           "title": {
            "standoff": 15
           },
           "zerolinecolor": "white",
           "zerolinewidth": 2
          }
         }
        },
        "title": {
         "text": "Testing"
        },
        "width": 600,
        "xaxis": {
         "dtick": 1,
         "gridcolor": "rgb(0, 0, 0)",
         "side": "top",
         "ticks": "",
         "title": {
          "text": "Predicted Label"
         }
        },
        "yaxis": {
         "dtick": 1,
         "ticks": "",
         "ticksuffix": "  ",
         "title": {
          "text": "True Label"
         }
        }
       }
      }
     },
     "metadata": {},
     "output_type": "display_data"
    }
   ],
   "source": [
    "# testing\n",
    "# Construimos una visualización para la matriz de confusión\n",
    "z_test = confusion_matrix(np.argmax(testy,axis=1), np.argmax(pred_test,axis=1))\n",
    "# Reformateo la matriz para que me quede mejor el gráfico\n",
    "z_test[[0,2],:] = z_test[[2,0],:]\n",
    "x = ['Healthy', 'OR fault', 'IR fault']\n",
    "y = ['IR fault', 'OR fault', 'Healthy']\n",
    "z_text = [[str(y) for y in x] for x in z_test]\n",
    "heatmap = ff.create_annotated_heatmap(z_test, x=x, y=y, annotation_text=z_text, colorscale='tealrose')\n",
    "heatmap.update_layout(title_text='Testing',height=300,width=600,\n",
    "                      xaxis_title=\"Predicted Label\",yaxis_title=\"True Label\")\n",
    "heatmap.show() # ver los 23 si son real o provocados"
   ]
  },
  {
   "cell_type": "code",
   "execution_count": 67,
   "metadata": {},
   "outputs": [
    {
     "data": {
      "text/plain": [
       "(28, 512)"
      ]
     },
     "execution_count": 67,
     "metadata": {},
     "output_type": "execute_result"
    }
   ],
   "source": [
    "indicesIRHealthy = np.where((np.argmax(testy,axis=1) == 2) & (np.argmax(pred_test,axis=1) == 0))[0]\n",
    "testX_IRHealthy = testX[indicesIRHealthy]\n",
    "testX_IRHealthy = testX_IRHealthy.reshape(testX_IRHealthy.shape[0],testX_IRHealthy.shape[1])\n",
    "testX_IRHealthy.shape"
   ]
  },
  {
   "cell_type": "code",
   "execution_count": 69,
   "metadata": {},
   "outputs": [],
   "source": [
    "# load all data\n",
    "X_ki01, y_ki01 = load_dataset_group('PPDataset/', 'KI01', 'N15_M07_F10') # artificial IR damage\n",
    "X_ki04, y_ki04 = load_dataset_group('PPDataset/', 'KI04', 'N15_M07_F10') # real IR damage"
   ]
  },
  {
   "cell_type": "code",
   "execution_count": 80,
   "metadata": {},
   "outputs": [
    {
     "name": "stdout",
     "output_type": "stream",
     "text": [
      "Artificial IR damage mistaken for Healthy:  22\n",
      "Real IR damage mistaken for Healthy:  6\n"
     ]
    }
   ],
   "source": [
    "matches_artificial = []\n",
    "for i in range(testX_IRHealthy.shape[0]):\n",
    "    for j in range(X_ki01.shape[0]):\n",
    "        if(np.array_equal(testX_IRHealthy[i], X_ki01[j])):\n",
    "            matches_artificial.append(True)\n",
    "            break\n",
    "print(\"Artificial IR damage mistaken for Healthy: \",len(matches_artificial))\n",
    "\n",
    "matches_real = []\n",
    "for i in range(testX_IRHealthy.shape[0]):\n",
    "    for j in range(X_ki04.shape[0]):\n",
    "        if(np.array_equal(testX_IRHealthy[i], X_ki04[j])):\n",
    "            matches_real.append(True)\n",
    "            break\n",
    "print(\"Real IR damage mistaken for Healthy: \",len(matches_real))"
   ]
  },
  {
   "attachments": {},
   "cell_type": "markdown",
   "metadata": {},
   "source": [
    "Testing con otros settings"
   ]
  },
  {
   "cell_type": "code",
   "execution_count": 47,
   "metadata": {},
   "outputs": [
    {
     "name": "stdout",
     "output_type": "stream",
     "text": [
      "(4501, 512, 1) (4501, 3)\n",
      "141/141 [==============================] - 1s 6ms/step\n",
      "Test accuracy:  0.6869584536769606\n"
     ]
    }
   ],
   "source": [
    "# Changing the rotational speed from 1500 rpm to 900 rpm\n",
    "X_N09_M07_F10, y_N09_M07_F10 = load_dataset_settings(prefix='',setting='N09_M07_F10')\n",
    "pred_N09_M07_F10 = ddqn_model.predict(X_N09_M07_F10)\n",
    "acc_N09_M07_F10 = accuracy_score(np.argmax(y_N09_M07_F10,axis=1), np.argmax(pred_N09_M07_F10,axis=1))\n",
    "print('Test accuracy: ',acc_N09_M07_F10)"
   ]
  },
  {
   "cell_type": "code",
   "execution_count": 48,
   "metadata": {},
   "outputs": [
    {
     "name": "stdout",
     "output_type": "stream",
     "text": [
      "(4507, 512, 1) (4507, 3)\n",
      "141/141 [==============================] - 1s 5ms/step\n",
      "Test accuracy:  0.9531839360994009\n"
     ]
    }
   ],
   "source": [
    "# Changing the load torque from 0.7 Nm to 0.1 Nm\n",
    "X_N15_M01_F10, y_N15_M01_F10 = load_dataset_settings(prefix='',setting='N15_M01_F10')\n",
    "pred_N15_M01_F10 = ddqn_model.predict(X_N15_M01_F10)\n",
    "acc_N15_M01_F10 = accuracy_score(np.argmax(y_N15_M01_F10,axis=1), np.argmax(pred_N15_M01_F10,axis=1))\n",
    "print('Test accuracy: ',acc_N15_M01_F10)"
   ]
  },
  {
   "cell_type": "code",
   "execution_count": 49,
   "metadata": {},
   "outputs": [
    {
     "name": "stdout",
     "output_type": "stream",
     "text": [
      "(4510, 512, 1) (4510, 3)\n",
      "141/141 [==============================] - 1s 9ms/step\n",
      "Test accuracy:  0.9567627494456763\n"
     ]
    }
   ],
   "source": [
    "# Changing the radial force from 1000 N to 400 N\n",
    "X_N15_M07_F04, y_N15_M07_F04 = load_dataset_settings(prefix='',setting='N15_M07_F04')\n",
    "pred_N15_M07_F04 = ddqn_model.predict(X_N15_M07_F04)\n",
    "acc_N15_M07_F04 = accuracy_score(np.argmax(y_N15_M07_F04,axis=1), np.argmax(pred_N15_M07_F04,axis=1))\n",
    "print('Test accuracy: ',acc_N15_M07_F04)"
   ]
  },
  {
   "cell_type": "code",
   "execution_count": null,
   "metadata": {},
   "outputs": [],
   "source": []
  },
  {
   "cell_type": "code",
   "execution_count": null,
   "metadata": {},
   "outputs": [],
   "source": []
  },
  {
   "cell_type": "code",
   "execution_count": null,
   "metadata": {},
   "outputs": [],
   "source": []
  },
  {
   "cell_type": "code",
   "execution_count": null,
   "metadata": {},
   "outputs": [],
   "source": []
  },
  {
   "attachments": {},
   "cell_type": "markdown",
   "metadata": {},
   "source": [
    "Pruebas (sucio)"
   ]
  },
  {
   "cell_type": "code",
   "execution_count": 24,
   "metadata": {},
   "outputs": [
    {
     "data": {
      "image/png": "[encoded data removed]",
      "text/plain": [
       "<Figure size 1500x400 with 3 Axes>"
      ]
     },
     "metadata": {},
     "output_type": "display_data"
    }
   ],
   "source": [
    "# 233 episodes (porque lo he parado)\n",
    "# epsilon_0 = 0.4\n",
    "# epsilon_min = 0.01\n",
    "# epsilon_decay = 0.01\n",
    "# epsilon = epsilon_min + (epsilon_0-epsilon_min)*np.exp(-epsilon_decay*reward_count)\n",
    "# discount_factor = 0.0 !!!\n",
    "# learning_rate = 0.001\n",
    "\n",
    "fig, axs = plt.subplots(1, 3, figsize=(15, 4))\n",
    "\n",
    "axs[0].plot(acc_episode)\n",
    "axs[0].set(xlabel='Accuracy')\n",
    "\n",
    "axs[1].plot(loss_episode)\n",
    "axs[1].set(xlabel='Loss')\n",
    "\n",
    "axs[2].plot(cum_reward_episode)\n",
    "axs[2].set(xlabel='Reward')\n",
    "\n",
    "plt.show()"
   ]
  },
  {
   "cell_type": "code",
   "execution_count": 19,
   "metadata": {},
   "outputs": [
    {
     "data": {
      "image/png": "[encoded data removed]",
      "text/plain": [
       "<Figure size 1500x400 with 3 Axes>"
      ]
     },
     "metadata": {},
     "output_type": "display_data"
    }
   ],
   "source": [
    "# 500 episodes\n",
    "# epsilon_0 = 0.4\n",
    "# epsilon_min = 0.01\n",
    "# epsilon_decay = 0.01\n",
    "# epsilon = epsilon_min + (epsilon_0-epsilon_min)*np.exp(-epsilon_decay*reward_count)\n",
    "# discount_factor = 0.005\n",
    "# learning_rate = 0.001\n",
    "\n",
    "fig, axs = plt.subplots(1, 3, figsize=(15, 4))\n",
    "\n",
    "axs[0].plot(acc_episode)\n",
    "axs[0].set(xlabel='Accuracy')\n",
    "\n",
    "axs[1].plot(loss_episode)\n",
    "axs[1].set(xlabel='Loss')\n",
    "\n",
    "axs[2].plot(cum_reward_episode)\n",
    "axs[2].set(xlabel='Reward')\n",
    "\n",
    "plt.show()"
   ]
  },
  {
   "cell_type": "code",
   "execution_count": 90,
   "metadata": {},
   "outputs": [
    {
     "data": {
      "image/png": "[encoded data removed]",
      "text/plain": [
       "<Figure size 1500x400 with 3 Axes>"
      ]
     },
     "metadata": {},
     "output_type": "display_data"
    }
   ],
   "source": [
    "# 500 episodes\n",
    "# epsilon_0 = 0.4\n",
    "# epsilon_min = 0.01\n",
    "# epsilon_decay = 0.3\n",
    "# epsilon = epsilon_min + (epsilon_0-epsilon_min)*np.exp(-epsilon_decay*episode_count)\n",
    "# discount_factor = 0.001\n",
    "# learning_rate = 0.001\n",
    "\n",
    "fig, axs = plt.subplots(1, 3, figsize=(15, 4))\n",
    "\n",
    "axs[0].plot(acc_episode)\n",
    "axs[0].set(xlabel='Accuracy')\n",
    "\n",
    "axs[1].plot(loss_episode)\n",
    "axs[1].set(xlabel='Loss')\n",
    "\n",
    "axs[2].plot(cum_reward_episode)\n",
    "axs[2].set(xlabel='Reward')\n",
    "\n",
    "plt.show()"
   ]
  },
  {
   "cell_type": "code",
   "execution_count": 422,
   "metadata": {},
   "outputs": [
    {
     "data": {
      "text/plain": [
       "[<matplotlib.lines.Line2D at 0x21c1f0c0d30>]"
      ]
     },
     "execution_count": 422,
     "metadata": {},
     "output_type": "execute_result"
    },
    {
     "data": {
      "image/png": "[encoded data removed]",
      "text/plain": [
       "<Figure size 640x480 with 1 Axes>"
      ]
     },
     "metadata": {},
     "output_type": "display_data"
    }
   ],
   "source": [
    "# Con 200 episodes\n",
    "plt.plot(cum_reward_episode)"
   ]
  },
  {
   "cell_type": "code",
   "execution_count": 428,
   "metadata": {},
   "outputs": [
    {
     "data": {
      "text/plain": [
       "[<matplotlib.lines.Line2D at 0x21c11acdb50>]"
      ]
     },
     "execution_count": 428,
     "metadata": {},
     "output_type": "execute_result"
    },
    {
     "data": {
      "image/png": "[encoded data removed]",
      "text/plain": [
       "<Figure size 640x480 with 1 Axes>"
      ]
     },
     "metadata": {},
     "output_type": "display_data"
    }
   ],
   "source": [
    "# Con 300 episodes\n",
    "plt.plot(cum_reward_episode)"
   ]
  },
  {
   "cell_type": "code",
   "execution_count": 349,
   "metadata": {},
   "outputs": [
    {
     "data": {
      "text/plain": [
       "[<matplotlib.lines.Line2D at 0x21c28b47490>]"
      ]
     },
     "execution_count": 349,
     "metadata": {},
     "output_type": "execute_result"
    },
    {
     "data": {
      "image/png": "[encoded data removed]",
      "text/plain": [
       "<Figure size 640x480 with 1 Axes>"
      ]
     },
     "metadata": {},
     "output_type": "display_data"
    }
   ],
   "source": [
    "# resultado con los epsilon iniciales (sin decay)\n",
    "plt.plot((np.asarray(cum_reward_episode)+32)/64*100)"
   ]
  },
  {
   "cell_type": "code",
   "execution_count": 423,
   "metadata": {},
   "outputs": [
    {
     "name": "stdout",
     "output_type": "stream",
     "text": [
      "47/47 [==============================] - 0s 6ms/step\n",
      "Test accuracy:  0.9321692411014103\n"
     ]
    }
   ],
   "source": [
    "# Testing con 200 episodios\n",
    "ddqn_model = ddqn_agent.q_policy\n",
    "pred_test = ddqn_model.predict(testX)\n",
    "\n",
    "test_acc = accuracy_score(np.argmax(testy,axis=1), np.argmax(pred_test,axis=1))\n",
    "print('Test accuracy: ',test_acc)"
   ]
  },
  {
   "cell_type": "code",
   "execution_count": 429,
   "metadata": {},
   "outputs": [
    {
     "name": "stdout",
     "output_type": "stream",
     "text": [
      "47/47 [==============================] - 0s 8ms/step\n",
      "Test accuracy:  0.8851578240429818\n"
     ]
    }
   ],
   "source": [
    "# Testing con 300 episodios\n",
    "ddqn_model = ddqn_agent.q_policy\n",
    "pred_test = ddqn_model.predict(testX)\n",
    "\n",
    "test_acc = accuracy_score(np.argmax(testy,axis=1), np.argmax(pred_test,axis=1))\n",
    "print('Test accuracy: ',test_acc)"
   ]
  },
  {
   "cell_type": "code",
   "execution_count": 80,
   "metadata": {},
   "outputs": [
    {
     "name": "stdout",
     "output_type": "stream",
     "text": [
      "47/47 [==============================] - 1s 18ms/step\n",
      "Test accuracy:  0.9429147078576225\n"
     ]
    }
   ],
   "source": [
    "# Testing con 500 episodios\n",
    "ddqn_model = ddqn_agent.q_policy\n",
    "pred_test = ddqn_model.predict(testX)\n",
    "\n",
    "test_acc = accuracy_score(np.argmax(testy,axis=1), np.argmax(pred_test,axis=1))\n",
    "print('Test accuracy: ',test_acc)"
   ]
  },
  {
   "cell_type": "code",
   "execution_count": 20,
   "metadata": {},
   "outputs": [
    {
     "name": "stdout",
     "output_type": "stream",
     "text": [
      "47/47 [==============================] - 0s 8ms/step\n",
      "Test accuracy:  0.9395567494963063\n"
     ]
    }
   ],
   "source": [
    "# Testing con 500 episodios y el epsilon con el reward\n",
    "ddqn_model = ddqn_agent.q_policy\n",
    "pred_test = ddqn_model.predict(testX)\n",
    "\n",
    "test_acc = accuracy_score(np.argmax(testy,axis=1), np.argmax(pred_test,axis=1))\n",
    "print('Test accuracy: ',test_acc)"
   ]
  },
  {
   "cell_type": "code",
   "execution_count": 25,
   "metadata": {},
   "outputs": [
    {
     "name": "stdout",
     "output_type": "stream",
     "text": [
      "47/47 [==============================] - 0s 10ms/step\n",
      "Test accuracy:  0.9254533243787777\n"
     ]
    }
   ],
   "source": [
    "# Testing con 233 episodios y el epsilon con el reward y gamma 0\n",
    "ddqn_model = ddqn_agent.q_policy\n",
    "pred_test = ddqn_model.predict(testX)\n",
    "\n",
    "test_acc = accuracy_score(np.argmax(testy,axis=1), np.argmax(pred_test,axis=1))\n",
    "print('Test accuracy: ',test_acc)"
   ]
  }
 ],
 "metadata": {
  "kernelspec": {
   "display_name": "Python 3",
   "language": "python",
   "name": "python3"
  },
  "language_info": {
   "codemirror_mode": {
    "name": "ipython",
    "version": 3
   },
   "file_extension": ".py",
   "mimetype": "text/x-python",
   "name": "python",
   "nbconvert_exporter": "python",
   "pygments_lexer": "ipython3",
   "version": "3.9.5"
  },
  "orig_nbformat": 4,
  "vscode": {
   "interpreter": {
    "hash": "55923a6ed19f62c923f4f9446379b87364bb44c28ea18797870eef05a25fc661"
   }
  }
 },
 "nbformat": 4,
 "nbformat_minor": 2
}
