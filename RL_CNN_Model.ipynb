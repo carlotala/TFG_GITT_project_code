{
 "cells": [
  {
   "cell_type": "code",
   "execution_count": 2,
   "metadata": {},
   "outputs": [],
   "source": [
    "# libraries\n",
    "import numpy as np\n",
    "\n",
    "from tensorflow import keras\n",
    "from keras.models import Sequential\n",
    "from keras.layers import Dense\n",
    "from keras.layers import Flatten, Dropout\n",
    "from keras.layers.convolutional import Conv1D\n",
    "from keras.layers.convolutional import MaxPooling1D\n",
    "from keras.optimizers import Adam\n",
    "from keras.utils import to_categorical\n",
    "\n",
    "from sklearn.metrics import (confusion_matrix, accuracy_score, classification_report, ConfusionMatrixDisplay)\n",
    "from sklearn.preprocessing import MinMaxScaler\n",
    "\n",
    "import collections\n",
    "\n",
    "import gym\n",
    "import random\n",
    "\n",
    "import matplotlib.pyplot as plt\n",
    "import plotly.figure_factory as ff\n",
    "\n",
    "import os\n",
    "import scipy.io as sio\n",
    "from scipy.fft import fft\n"
   ]
  },
  {
   "attachments": {},
   "cell_type": "markdown",
   "metadata": {},
   "source": [
    "### DDQN model with CNN:"
   ]
  },
  {
   "cell_type": "code",
   "execution_count": 5,
   "metadata": {},
   "outputs": [],
   "source": [
    "# load the dataset, returns train and test X and y elements\n",
    "def load_dataset():\n",
    "\n",
    "\t# load all data\n",
    "\twith open('data/processed/trainX.npy', 'rb') as f:\n",
    "\t\ttrainX = np.load(f)\n",
    "\twith open('data/processed/trainy.npy', 'rb') as f:\n",
    "\t\ttrainy = np.load(f)\n",
    "\twith open('data/processed/testX.npy', 'rb') as f:\n",
    "\t\ttestX = np.load(f)\n",
    "\twith open('data/processed/testy.npy', 'rb') as f:\n",
    "\t\ttesty = np.load(f)\n",
    "\t\n",
    "\tprint(trainX.shape, trainy.shape, testX.shape, testy.shape)\n",
    "\t\n",
    "\treturn trainX, trainy, testX, testy"
   ]
  },
  {
   "cell_type": "code",
   "execution_count": 6,
   "metadata": {},
   "outputs": [],
   "source": [
    "# define model\n",
    "def get_model(trainX, trainy, learning_rate):\n",
    "    n_timesteps, n_features, n_outputs = trainX.shape[1], trainX.shape[2], trainy.shape[1]\n",
    "    \n",
    "    model = Sequential()\n",
    "    model.add(Conv1D(filters=3, kernel_size=5, activation='relu',input_shape=(n_timesteps,n_features)))\n",
    "    model.add(MaxPooling1D(pool_size=2))\n",
    "    model.add(Conv1D(filters=12, kernel_size=2, activation='relu'))\n",
    "    model.add(MaxPooling1D(pool_size=2))\n",
    "    model.add(Flatten())\n",
    "    model.add(Dense(128, activation='relu'))\n",
    "    model.add(Dense(n_outputs, activation='softmax'))\n",
    "\n",
    "    model.compile(optimizer=Adam(learning_rate=learning_rate), loss='mse', metrics=['accuracy'])\n",
    "    \n",
    "    return model"
   ]
  },
  {
   "cell_type": "code",
   "execution_count": 7,
   "metadata": {},
   "outputs": [],
   "source": [
    "Experience = collections.namedtuple('Experience', \n",
    "           field_names=['state', 'action', 'reward', \n",
    "           'new_state', 'done'])\n",
    "           \n",
    "class ExperiencePool:\n",
    "    def __init__(self, capacity):\n",
    "        self.buffer = collections.deque(maxlen=capacity)\n",
    "        self.pool_counter= 0\n",
    "\n",
    "    def __len__(self):\n",
    "        return len(self.buffer)\n",
    "\n",
    "    def append(self, experience):\n",
    "        self.buffer.append(experience)\n",
    "        self.pool_counter += 1\n",
    "    \n",
    "    def sample(self, batch_size):\n",
    "        indices = np.random.choice(len(self.buffer), batch_size, replace=False)\n",
    "        states, actions, rewards, next_states, dones = zip(*[self.buffer[idx] for idx in indices])\n",
    "        return np.array(states), np.array(actions), \\\n",
    "                np.array(rewards,dtype=np.float32), \\\n",
    "                np.array(next_states), \\\n",
    "                np.array(dones, dtype=np.uint8)"
   ]
  },
  {
   "cell_type": "code",
   "execution_count": 8,
   "metadata": {},
   "outputs": [],
   "source": [
    "class DDQNAgent(object):\n",
    "    def __init__(self, learning_rate, discount_factor, action_space,\n",
    "                 trainX, trainy, batch_size,\n",
    "                 epsilon_decay, epsilon_min, epsilon_0,\n",
    "                 mem_size, replace_target):\n",
    "        \n",
    "        self.action_space = action_space\n",
    "        self.n_actions = 3\n",
    "        self.gamma = discount_factor\n",
    "\n",
    "        self.epsilon_min = epsilon_min\n",
    "        self.epsilon_0 = epsilon_0\n",
    "        self.epsilon_decay = epsilon_decay\n",
    "        self.epsilon = self.epsilon_min + (self.epsilon_0-self.epsilon_min)*np.exp(-self.epsilon_decay)\n",
    "        self.reward_count = 0\n",
    "\n",
    "        self.batch_size = batch_size\n",
    "        self.replace_target = replace_target\n",
    "        self.pool = ExperiencePool(mem_size)\n",
    "        \n",
    "        self.q_policy = get_model(trainX, trainy, learning_rate)\n",
    "        self.q_target = get_model(trainX, trainy, learning_rate)\n",
    "        self.update_network_parameters()\n",
    "\n",
    "    def update_epsilon(self):\n",
    "        self.epsilon = self.epsilon_min + (self.epsilon_0-self.epsilon_min)*np.exp(-self.epsilon_decay*self.episode_count)\n",
    "\n",
    "    def reset_pool(self, mem_size):\n",
    "        self.pool = ExperiencePool(mem_size)\n",
    "\n",
    "    def set_episode_count(self, episode_count):\n",
    "        self.episode_count = episode_count\n",
    "\n",
    "    def add_experience(self, experience): #state, action, reward, new_state, done\n",
    "        self.pool.append(experience) #state, action, reward, new_state, done\n",
    "\n",
    "    def choose_action(self, state):\n",
    "        state = state[np.newaxis, :]\n",
    "        rand = np.random.random()\n",
    "        if rand < self.epsilon:\n",
    "            action = np.random.choice(self.action_space)\n",
    "        else:\n",
    "            actions = self.q_policy.predict(state,verbose=0)\n",
    "            action = np.argmax(actions)\n",
    "\n",
    "        return action\n",
    "\n",
    "    def learn(self):\n",
    "        if self.pool.pool_counter >= self.batch_size:\n",
    "            states, actions, rewards, new_states, dones = self.pool.sample(self.batch_size)\n",
    "\n",
    "            q_next_target = self.q_target.predict(new_states, verbose=0)\n",
    "            q_policy_next = self.q_policy.predict(new_states, verbose=0)\n",
    "            q_policy_pred = self.q_policy.predict(states, verbose=0)\n",
    "\n",
    "            max_actions = np.argmax(q_policy_next, axis=1)\n",
    "\n",
    "            y_j = q_policy_pred\n",
    "\n",
    "            batch_index = np.arange(self.batch_size, dtype=np.int32)\n",
    "            \n",
    "            not_dones = (0==dones).astype(int)\n",
    "            \n",
    "            y_j[batch_index, actions] = rewards + \\\n",
    "                    self.gamma*q_next_target[batch_index, max_actions.astype(int)]*not_dones\n",
    "\n",
    "            history = self.q_policy.fit(states, y_j, verbose=2, batch_size=self.batch_size, epochs=1)\n",
    "            \n",
    "            if self.episode_count % self.replace_target == 0:\n",
    "                self.update_network_parameters()\n",
    "\n",
    "            return history.history['accuracy'], history.history['loss']\n",
    "        return 0,0\n",
    "\n",
    "    def update_network_parameters(self):\n",
    "        self.q_target.set_weights(self.q_policy.get_weights())"
   ]
  },
  {
   "cell_type": "code",
   "execution_count": 9,
   "metadata": {},
   "outputs": [],
   "source": [
    "class PowerPlantEnv(gym.Env):\n",
    "    def __init__(self, dataset):\n",
    "        super().__init__()\n",
    "        self.action_space = gym.spaces.Discrete(3) # 3 classes\n",
    "        self.x, self.y = dataset\n",
    "\n",
    "    def step(self, action):\n",
    "        if action == self.expected_action:\n",
    "            reward = 1\n",
    "        else:\n",
    "            reward = -1\n",
    "            \n",
    "        obs = self._next_obs()\n",
    "\n",
    "        return obs, reward, False, {}\n",
    "\n",
    "    def _next_obs(self):\n",
    "        next_obs_idx = random.randint(0, len(self.x) - 1)\n",
    "        self.expected_action = np.argmax(self.y[next_obs_idx])\n",
    "        obs = self.x[next_obs_idx]\n",
    "\n",
    "        return obs\n"
   ]
  },
  {
   "attachments": {},
   "cell_type": "markdown",
   "metadata": {},
   "source": [
    "Training:"
   ]
  },
  {
   "cell_type": "code",
   "execution_count": 9,
   "metadata": {},
   "outputs": [
    {
     "name": "stdout",
     "output_type": "stream",
     "text": [
      "(49209, 512, 2) (49209, 3) (10545, 512, 2) (10545, 3)\n",
      "\n",
      ">> Episode:  1 / 900\n",
      "1/1 - 1s - loss: 0.3867 - accuracy: 0.4375 - 1s/epoch - 1s/step\n",
      "Cummulative reward:  -26\n",
      "\n",
      ">> Episode:  2 / 900\n",
      "1/1 - 0s - loss: 0.3993 - accuracy: 0.2812 - 71ms/epoch - 71ms/step\n",
      "Cummulative reward:  -32\n",
      "\n",
      ">> Episode:  3 / 900\n",
      "1/1 - 0s - loss: 0.3756 - accuracy: 0.3125 - 124ms/epoch - 124ms/step\n",
      "Cummulative reward:  -16\n",
      "\n",
      ">> Episode:  4 / 900\n",
      "1/1 - 0s - loss: 0.3866 - accuracy: 0.3906 - 77ms/epoch - 77ms/step\n",
      "Cummulative reward:  -24\n",
      "\n",
      ">> Episode:  5 / 900\n",
      "1/1 - 0s - loss: 0.3976 - accuracy: 0.3438 - 66ms/epoch - 66ms/step\n",
      "Cummulative reward:  -30\n",
      "\n",
      ">> Episode:  6 / 900\n",
      "1/1 - 0s - loss: 0.3591 - accuracy: 0.4375 - 64ms/epoch - 64ms/step\n",
      "Cummulative reward:  -8\n",
      "\n",
      ">> Episode:  7 / 900\n",
      "1/1 - 0s - loss: 0.3720 - accuracy: 0.4062 - 64ms/epoch - 64ms/step\n",
      "Cummulative reward:  -16\n",
      "\n",
      ">> Episode:  8 / 900\n",
      "1/1 - 0s - loss: 0.3658 - accuracy: 0.3750 - 67ms/epoch - 67ms/step\n",
      "Cummulative reward:  -14\n",
      "\n",
      ">> Episode:  9 / 900\n",
      "1/1 - 0s - loss: 0.3500 - accuracy: 0.4531 - 72ms/epoch - 72ms/step\n",
      "Cummulative reward:  -6\n",
      "\n",
      ">> Episode:  10 / 900\n",
      "1/1 - 0s - loss: 0.3972 - accuracy: 0.2656 - 85ms/epoch - 85ms/step\n",
      "Cummulative reward:  -30\n",
      "\n",
      ">> Episode:  11 / 900\n",
      "1/1 - 0s - loss: 0.3742 - accuracy: 0.3594 - 66ms/epoch - 66ms/step\n",
      "Cummulative reward:  -18\n",
      "\n",
      ">> Episode:  12 / 900\n",
      "1/1 - 0s - loss: 0.3668 - accuracy: 0.3906 - 67ms/epoch - 67ms/step\n",
      "Cummulative reward:  -14\n",
      "\n",
      ">> Episode:  13 / 900\n",
      "1/1 - 0s - loss: 0.3704 - accuracy: 0.3750 - 77ms/epoch - 77ms/step\n",
      "Cummulative reward:  -16\n",
      "\n",
      ">> Episode:  14 / 900\n",
      "1/1 - 0s - loss: 0.3884 - accuracy: 0.2969 - 63ms/epoch - 63ms/step\n",
      "Cummulative reward:  -26\n",
      "\n",
      ">> Episode:  15 / 900\n",
      "1/1 - 0s - loss: 0.3641 - accuracy: 0.3750 - 68ms/epoch - 68ms/step\n",
      "Cummulative reward:  -14\n",
      "\n",
      ">> Episode:  16 / 900\n",
      "1/1 - 0s - loss: 0.3618 - accuracy: 0.4062 - 69ms/epoch - 69ms/step\n",
      "Cummulative reward:  -12\n",
      "\n",
      ">> Episode:  17 / 900\n",
      "1/1 - 0s - loss: 0.3760 - accuracy: 0.3594 - 72ms/epoch - 72ms/step\n",
      "Cummulative reward:  -18\n",
      "\n",
      ">> Episode:  18 / 900\n",
      "1/1 - 0s - loss: 0.3437 - accuracy: 0.5156 - 67ms/epoch - 67ms/step\n",
      "Cummulative reward:  0\n",
      "\n",
      ">> Episode:  19 / 900\n",
      "1/1 - 0s - loss: 0.3748 - accuracy: 0.3594 - 70ms/epoch - 70ms/step\n",
      "Cummulative reward:  -18\n",
      "\n",
      ">> Episode:  20 / 900\n",
      "1/1 - 0s - loss: 0.3641 - accuracy: 0.4062 - 66ms/epoch - 66ms/step\n",
      "Cummulative reward:  -12\n",
      "\n",
      ">> Episode:  21 / 900\n",
      "1/1 - 0s - loss: 0.3582 - accuracy: 0.4375 - 66ms/epoch - 66ms/step\n",
      "Cummulative reward:  -8\n",
      "\n",
      ">> Episode:  22 / 900\n",
      "1/1 - 0s - loss: 0.3619 - accuracy: 0.4062 - 70ms/epoch - 70ms/step\n",
      "Cummulative reward:  -10\n",
      "\n",
      ">> Episode:  23 / 900\n",
      "1/1 - 0s - loss: 0.3760 - accuracy: 0.3594 - 71ms/epoch - 71ms/step\n",
      "Cummulative reward:  -18\n",
      "\n",
      ">> Episode:  24 / 900\n",
      "1/1 - 0s - loss: 0.3725 - accuracy: 0.3750 - 74ms/epoch - 74ms/step\n",
      "Cummulative reward:  -16\n",
      "\n",
      ">> Episode:  25 / 900\n",
      "1/1 - 0s - loss: 0.3861 - accuracy: 0.2969 - 67ms/epoch - 67ms/step\n",
      "Cummulative reward:  -26\n",
      "\n",
      ">> Episode:  26 / 900\n",
      "1/1 - 0s - loss: 0.3716 - accuracy: 0.3594 - 64ms/epoch - 64ms/step\n",
      "Cummulative reward:  -18\n",
      "\n",
      ">> Episode:  27 / 900\n",
      "1/1 - 0s - loss: 0.3684 - accuracy: 0.3906 - 79ms/epoch - 79ms/step\n",
      "Cummulative reward:  -14\n",
      "\n",
      ">> Episode:  28 / 900\n",
      "1/1 - 0s - loss: 0.3407 - accuracy: 0.5000 - 119ms/epoch - 119ms/step\n",
      "Cummulative reward:  0\n",
      "\n",
      ">> Episode:  29 / 900\n",
      "1/1 - 0s - loss: 0.3635 - accuracy: 0.4219 - 70ms/epoch - 70ms/step\n",
      "Cummulative reward:  -12\n",
      "\n",
      ">> Episode:  30 / 900\n",
      "1/1 - 0s - loss: 0.3443 - accuracy: 0.4844 - 68ms/epoch - 68ms/step\n",
      "Cummulative reward:  -2\n",
      "\n",
      ">> Episode:  31 / 900\n",
      "1/1 - 0s - loss: 0.3790 - accuracy: 0.3438 - 73ms/epoch - 73ms/step\n",
      "Cummulative reward:  -20\n",
      "\n",
      ">> Episode:  32 / 900\n",
      "1/1 - 0s - loss: 0.3717 - accuracy: 0.3750 - 69ms/epoch - 69ms/step\n",
      "Cummulative reward:  -16\n",
      "\n",
      ">> Episode:  33 / 900\n",
      "1/1 - 0s - loss: 0.3759 - accuracy: 0.3594 - 82ms/epoch - 82ms/step\n",
      "Cummulative reward:  -18\n",
      "\n",
      ">> Episode:  34 / 900\n",
      "1/1 - 0s - loss: 0.3577 - accuracy: 0.4219 - 78ms/epoch - 78ms/step\n",
      "Cummulative reward:  -10\n",
      "\n",
      ">> Episode:  35 / 900\n",
      "1/1 - 0s - loss: 0.3537 - accuracy: 0.4375 - 76ms/epoch - 76ms/step\n",
      "Cummulative reward:  -8\n",
      "\n",
      ">> Episode:  36 / 900\n",
      "1/1 - 0s - loss: 0.3886 - accuracy: 0.2969 - 80ms/epoch - 80ms/step\n",
      "Cummulative reward:  -26\n",
      "\n",
      ">> Episode:  37 / 900\n",
      "1/1 - 0s - loss: 0.3601 - accuracy: 0.4219 - 71ms/epoch - 71ms/step\n",
      "Cummulative reward:  -10\n",
      "\n",
      ">> Episode:  38 / 900\n",
      "1/1 - 0s - loss: 0.3849 - accuracy: 0.3125 - 76ms/epoch - 76ms/step\n",
      "Cummulative reward:  -24\n",
      "\n",
      ">> Episode:  39 / 900\n",
      "1/1 - 0s - loss: 0.3759 - accuracy: 0.3594 - 118ms/epoch - 118ms/step\n",
      "Cummulative reward:  -18\n",
      "\n",
      ">> Episode:  40 / 900\n",
      "1/1 - 0s - loss: 0.3825 - accuracy: 0.3281 - 76ms/epoch - 76ms/step\n",
      "Cummulative reward:  -22\n",
      "\n",
      ">> Episode:  41 / 900\n",
      "1/1 - 0s - loss: 0.3800 - accuracy: 0.3281 - 70ms/epoch - 70ms/step\n",
      "Cummulative reward:  -22\n",
      "\n",
      ">> Episode:  42 / 900\n",
      "1/1 - 0s - loss: 0.3559 - accuracy: 0.4219 - 89ms/epoch - 89ms/step\n",
      "Cummulative reward:  -10\n",
      "\n",
      ">> Episode:  43 / 900\n",
      "1/1 - 0s - loss: 0.3725 - accuracy: 0.3438 - 73ms/epoch - 73ms/step\n",
      "Cummulative reward:  -20\n",
      "\n",
      ">> Episode:  44 / 900\n",
      "1/1 - 0s - loss: 0.3571 - accuracy: 0.4219 - 78ms/epoch - 78ms/step\n",
      "Cummulative reward:  -10\n",
      "\n",
      ">> Episode:  45 / 900\n",
      "1/1 - 0s - loss: 0.3881 - accuracy: 0.3125 - 113ms/epoch - 113ms/step\n",
      "Cummulative reward:  -24\n",
      "\n",
      ">> Episode:  46 / 900\n",
      "1/1 - 0s - loss: 0.3460 - accuracy: 0.4375 - 94ms/epoch - 94ms/step\n",
      "Cummulative reward:  -8\n",
      "\n",
      ">> Episode:  47 / 900\n",
      "1/1 - 0s - loss: 0.3453 - accuracy: 0.4531 - 69ms/epoch - 69ms/step\n",
      "Cummulative reward:  -6\n",
      "\n",
      ">> Episode:  48 / 900\n",
      "1/1 - 0s - loss: 0.3657 - accuracy: 0.4219 - 69ms/epoch - 69ms/step\n",
      "Cummulative reward:  -10\n",
      "\n",
      ">> Episode:  49 / 900\n",
      "1/1 - 0s - loss: 0.3731 - accuracy: 0.3750 - 73ms/epoch - 73ms/step\n",
      "Cummulative reward:  -16\n",
      "\n",
      ">> Episode:  50 / 900\n",
      "1/1 - 0s - loss: 0.3660 - accuracy: 0.4062 - 70ms/epoch - 70ms/step\n",
      "Cummulative reward:  -12\n",
      "\n",
      ">> Episode:  51 / 900\n",
      "1/1 - 0s - loss: 0.3728 - accuracy: 0.3438 - 72ms/epoch - 72ms/step\n",
      "Cummulative reward:  -20\n",
      "\n",
      ">> Episode:  52 / 900\n",
      "1/1 - 0s - loss: 0.3738 - accuracy: 0.3438 - 102ms/epoch - 102ms/step\n",
      "Cummulative reward:  -20\n",
      "\n",
      ">> Episode:  53 / 900\n",
      "1/1 - 0s - loss: 0.3654 - accuracy: 0.3906 - 79ms/epoch - 79ms/step\n",
      "Cummulative reward:  -14\n",
      "\n",
      ">> Episode:  54 / 900\n",
      "1/1 - 0s - loss: 0.3683 - accuracy: 0.3750 - 68ms/epoch - 68ms/step\n",
      "Cummulative reward:  -16\n",
      "\n",
      ">> Episode:  55 / 900\n",
      "1/1 - 0s - loss: 0.3871 - accuracy: 0.2969 - 65ms/epoch - 65ms/step\n",
      "Cummulative reward:  -26\n",
      "\n",
      ">> Episode:  56 / 900\n",
      "1/1 - 0s - loss: 0.3833 - accuracy: 0.3125 - 63ms/epoch - 63ms/step\n",
      "Cummulative reward:  -24\n",
      "\n",
      ">> Episode:  57 / 900\n",
      "1/1 - 0s - loss: 0.3606 - accuracy: 0.3906 - 69ms/epoch - 69ms/step\n",
      "Cummulative reward:  -14\n",
      "\n",
      ">> Episode:  58 / 900\n",
      "1/1 - 0s - loss: 0.3549 - accuracy: 0.4062 - 66ms/epoch - 66ms/step\n",
      "Cummulative reward:  -12\n",
      "\n",
      ">> Episode:  59 / 900\n",
      "1/1 - 0s - loss: 0.3720 - accuracy: 0.3594 - 67ms/epoch - 67ms/step\n",
      "Cummulative reward:  -18\n",
      "\n",
      ">> Episode:  60 / 900\n",
      "1/1 - 0s - loss: 0.3578 - accuracy: 0.4219 - 68ms/epoch - 68ms/step\n",
      "Cummulative reward:  -10\n",
      "\n",
      ">> Episode:  61 / 900\n",
      "1/1 - 0s - loss: 0.3745 - accuracy: 0.3594 - 72ms/epoch - 72ms/step\n",
      "Cummulative reward:  -18\n",
      "\n",
      ">> Episode:  62 / 900\n",
      "1/1 - 0s - loss: 0.3650 - accuracy: 0.3750 - 67ms/epoch - 67ms/step\n",
      "Cummulative reward:  -16\n",
      "\n",
      ">> Episode:  63 / 900\n",
      "1/1 - 0s - loss: 0.3368 - accuracy: 0.5156 - 68ms/epoch - 68ms/step\n",
      "Cummulative reward:  2\n",
      "\n",
      ">> Episode:  64 / 900\n",
      "1/1 - 0s - loss: 0.3491 - accuracy: 0.4375 - 71ms/epoch - 71ms/step\n",
      "Cummulative reward:  -6\n",
      "\n",
      ">> Episode:  65 / 900\n",
      "1/1 - 0s - loss: 0.3653 - accuracy: 0.4062 - 72ms/epoch - 72ms/step\n",
      "Cummulative reward:  -12\n",
      "\n",
      ">> Episode:  66 / 900\n",
      "1/1 - 0s - loss: 0.3687 - accuracy: 0.3750 - 70ms/epoch - 70ms/step\n",
      "Cummulative reward:  -16\n",
      "\n",
      ">> Episode:  67 / 900\n",
      "1/1 - 0s - loss: 0.3854 - accuracy: 0.3281 - 73ms/epoch - 73ms/step\n",
      "Cummulative reward:  -22\n",
      "\n",
      ">> Episode:  68 / 900\n",
      "1/1 - 0s - loss: 0.3436 - accuracy: 0.4844 - 70ms/epoch - 70ms/step\n",
      "Cummulative reward:  -2\n",
      "\n",
      ">> Episode:  69 / 900\n",
      "1/1 - 0s - loss: 0.3347 - accuracy: 0.5312 - 68ms/epoch - 68ms/step\n",
      "Cummulative reward:  2\n",
      "\n",
      ">> Episode:  70 / 900\n",
      "1/1 - 0s - loss: 0.3983 - accuracy: 0.2500 - 77ms/epoch - 77ms/step\n",
      "Cummulative reward:  -32\n",
      "\n",
      ">> Episode:  71 / 900\n",
      "1/1 - 0s - loss: 0.3662 - accuracy: 0.3906 - 77ms/epoch - 77ms/step\n",
      "Cummulative reward:  -14\n",
      "\n",
      ">> Episode:  72 / 900\n",
      "1/1 - 0s - loss: 0.3720 - accuracy: 0.3594 - 68ms/epoch - 68ms/step\n",
      "Cummulative reward:  -18\n",
      "\n",
      ">> Episode:  73 / 900\n",
      "1/1 - 0s - loss: 0.3445 - accuracy: 0.4375 - 69ms/epoch - 69ms/step\n",
      "Cummulative reward:  -8\n",
      "\n",
      ">> Episode:  74 / 900\n",
      "1/1 - 0s - loss: 0.3737 - accuracy: 0.3750 - 68ms/epoch - 68ms/step\n",
      "Cummulative reward:  -16\n",
      "\n",
      ">> Episode:  75 / 900\n",
      "1/1 - 0s - loss: 0.3654 - accuracy: 0.3906 - 72ms/epoch - 72ms/step\n",
      "Cummulative reward:  -14\n",
      "\n",
      ">> Episode:  76 / 900\n",
      "1/1 - 0s - loss: 0.3471 - accuracy: 0.4531 - 73ms/epoch - 73ms/step\n",
      "Cummulative reward:  -6\n",
      "\n",
      ">> Episode:  77 / 900\n",
      "1/1 - 0s - loss: 0.3491 - accuracy: 0.4531 - 75ms/epoch - 75ms/step\n",
      "Cummulative reward:  -6\n",
      "\n",
      ">> Episode:  78 / 900\n",
      "1/1 - 0s - loss: 0.3738 - accuracy: 0.3594 - 72ms/epoch - 72ms/step\n",
      "Cummulative reward:  -18\n",
      "\n",
      ">> Episode:  79 / 900\n",
      "1/1 - 0s - loss: 0.3664 - accuracy: 0.3906 - 71ms/epoch - 71ms/step\n",
      "Cummulative reward:  -14\n",
      "\n",
      ">> Episode:  80 / 900\n",
      "1/1 - 0s - loss: 0.3655 - accuracy: 0.3906 - 74ms/epoch - 74ms/step\n",
      "Cummulative reward:  -14\n",
      "\n",
      ">> Episode:  81 / 900\n",
      "1/1 - 0s - loss: 0.3649 - accuracy: 0.3906 - 68ms/epoch - 68ms/step\n",
      "Cummulative reward:  -14\n",
      "\n",
      ">> Episode:  82 / 900\n",
      "1/1 - 0s - loss: 0.3875 - accuracy: 0.2969 - 71ms/epoch - 71ms/step\n",
      "Cummulative reward:  -26\n",
      "\n",
      ">> Episode:  83 / 900\n",
      "1/1 - 0s - loss: 0.3832 - accuracy: 0.3281 - 72ms/epoch - 72ms/step\n",
      "Cummulative reward:  -22\n",
      "\n",
      ">> Episode:  84 / 900\n",
      "1/1 - 0s - loss: 0.3758 - accuracy: 0.3125 - 69ms/epoch - 69ms/step\n",
      "Cummulative reward:  -24\n",
      "\n",
      ">> Episode:  85 / 900\n",
      "1/1 - 0s - loss: 0.3780 - accuracy: 0.2969 - 71ms/epoch - 71ms/step\n",
      "Cummulative reward:  -26\n",
      "\n",
      ">> Episode:  86 / 900\n",
      "1/1 - 0s - loss: 0.3993 - accuracy: 0.2656 - 72ms/epoch - 72ms/step\n",
      "Cummulative reward:  -30\n",
      "\n",
      ">> Episode:  87 / 900\n",
      "1/1 - 0s - loss: 0.3750 - accuracy: 0.3594 - 71ms/epoch - 71ms/step\n",
      "Cummulative reward:  -18\n",
      "\n",
      ">> Episode:  88 / 900\n",
      "1/1 - 0s - loss: 0.3648 - accuracy: 0.3750 - 71ms/epoch - 71ms/step\n",
      "Cummulative reward:  -16\n",
      "\n",
      ">> Episode:  89 / 900\n",
      "1/1 - 0s - loss: 0.3763 - accuracy: 0.3438 - 75ms/epoch - 75ms/step\n",
      "Cummulative reward:  -20\n",
      "\n",
      ">> Episode:  90 / 900\n",
      "1/1 - 0s - loss: 0.3505 - accuracy: 0.4375 - 72ms/epoch - 72ms/step\n",
      "Cummulative reward:  -8\n",
      "\n",
      ">> Episode:  91 / 900\n",
      "1/1 - 0s - loss: 0.3493 - accuracy: 0.4688 - 75ms/epoch - 75ms/step\n",
      "Cummulative reward:  -4\n",
      "\n",
      ">> Episode:  92 / 900\n",
      "1/1 - 0s - loss: 0.3790 - accuracy: 0.3438 - 70ms/epoch - 70ms/step\n",
      "Cummulative reward:  -20\n",
      "\n",
      ">> Episode:  93 / 900\n",
      "1/1 - 0s - loss: 0.3535 - accuracy: 0.4531 - 76ms/epoch - 76ms/step\n",
      "Cummulative reward:  -6\n",
      "\n",
      ">> Episode:  94 / 900\n",
      "1/1 - 0s - loss: 0.3405 - accuracy: 0.5000 - 72ms/epoch - 72ms/step\n",
      "Cummulative reward:  0\n",
      "\n",
      ">> Episode:  95 / 900\n",
      "1/1 - 0s - loss: 0.3432 - accuracy: 0.4531 - 79ms/epoch - 79ms/step\n",
      "Cummulative reward:  -6\n",
      "\n",
      ">> Episode:  96 / 900\n",
      "1/1 - 0s - loss: 0.3701 - accuracy: 0.3750 - 70ms/epoch - 70ms/step\n",
      "Cummulative reward:  -16\n",
      "\n",
      ">> Episode:  97 / 900\n",
      "1/1 - 0s - loss: 0.3730 - accuracy: 0.3438 - 79ms/epoch - 79ms/step\n",
      "Cummulative reward:  -20\n",
      "\n",
      ">> Episode:  98 / 900\n",
      "1/1 - 0s - loss: 0.3335 - accuracy: 0.5156 - 73ms/epoch - 73ms/step\n",
      "Cummulative reward:  2\n",
      "\n",
      ">> Episode:  99 / 900\n",
      "1/1 - 0s - loss: 0.3757 - accuracy: 0.3438 - 71ms/epoch - 71ms/step\n",
      "Cummulative reward:  -20\n",
      "\n",
      ">> Episode:  100 / 900\n",
      "1/1 - 0s - loss: 0.3790 - accuracy: 0.3438 - 73ms/epoch - 73ms/step\n",
      "Cummulative reward:  -20\n",
      "\n",
      ">> Episode:  101 / 900\n",
      "1/1 - 0s - loss: 0.3851 - accuracy: 0.2969 - 80ms/epoch - 80ms/step\n",
      "Cummulative reward:  -26\n",
      "\n",
      ">> Episode:  102 / 900\n",
      "1/1 - 0s - loss: 0.3460 - accuracy: 0.4844 - 83ms/epoch - 83ms/step\n",
      "Cummulative reward:  -2\n",
      "\n",
      ">> Episode:  103 / 900\n",
      "1/1 - 0s - loss: 0.3610 - accuracy: 0.4062 - 75ms/epoch - 75ms/step\n",
      "Cummulative reward:  -12\n",
      "\n",
      ">> Episode:  104 / 900\n",
      "1/1 - 0s - loss: 0.3751 - accuracy: 0.3438 - 80ms/epoch - 80ms/step\n",
      "Cummulative reward:  -20\n",
      "\n",
      ">> Episode:  105 / 900\n",
      "1/1 - 0s - loss: 0.3634 - accuracy: 0.4219 - 73ms/epoch - 73ms/step\n",
      "Cummulative reward:  -10\n",
      "\n",
      ">> Episode:  106 / 900\n",
      "1/1 - 0s - loss: 0.3481 - accuracy: 0.4688 - 78ms/epoch - 78ms/step\n",
      "Cummulative reward:  -4\n",
      "\n",
      ">> Episode:  107 / 900\n",
      "1/1 - 0s - loss: 0.3585 - accuracy: 0.4375 - 70ms/epoch - 70ms/step\n",
      "Cummulative reward:  -8\n",
      "\n",
      ">> Episode:  108 / 900\n",
      "1/1 - 0s - loss: 0.3787 - accuracy: 0.3438 - 72ms/epoch - 72ms/step\n",
      "Cummulative reward:  -20\n",
      "\n",
      ">> Episode:  109 / 900\n",
      "1/1 - 0s - loss: 0.3919 - accuracy: 0.2969 - 81ms/epoch - 81ms/step\n",
      "Cummulative reward:  -26\n",
      "\n",
      ">> Episode:  110 / 900\n",
      "1/1 - 0s - loss: 0.3557 - accuracy: 0.4062 - 92ms/epoch - 92ms/step\n",
      "Cummulative reward:  -12\n",
      "\n",
      ">> Episode:  111 / 900\n",
      "1/1 - 0s - loss: 0.3590 - accuracy: 0.3750 - 70ms/epoch - 70ms/step\n",
      "Cummulative reward:  -16\n",
      "\n",
      ">> Episode:  112 / 900\n",
      "1/1 - 0s - loss: 0.3659 - accuracy: 0.3438 - 77ms/epoch - 77ms/step\n",
      "Cummulative reward:  -20\n",
      "\n",
      ">> Episode:  113 / 900\n",
      "1/1 - 0s - loss: 0.3711 - accuracy: 0.4219 - 77ms/epoch - 77ms/step\n",
      "Cummulative reward:  -10\n",
      "\n",
      ">> Episode:  114 / 900\n",
      "1/1 - 0s - loss: 0.3499 - accuracy: 0.4531 - 75ms/epoch - 75ms/step\n",
      "Cummulative reward:  -6\n",
      "\n",
      ">> Episode:  115 / 900\n",
      "1/1 - 0s - loss: 0.3552 - accuracy: 0.4375 - 78ms/epoch - 78ms/step\n",
      "Cummulative reward:  -8\n",
      "\n",
      ">> Episode:  116 / 900\n",
      "1/1 - 0s - loss: 0.3528 - accuracy: 0.4375 - 79ms/epoch - 79ms/step\n",
      "Cummulative reward:  -8\n",
      "\n",
      ">> Episode:  117 / 900\n",
      "1/1 - 0s - loss: 0.3572 - accuracy: 0.4062 - 78ms/epoch - 78ms/step\n",
      "Cummulative reward:  -12\n",
      "\n",
      ">> Episode:  118 / 900\n",
      "1/1 - 0s - loss: 0.3365 - accuracy: 0.4688 - 121ms/epoch - 121ms/step\n",
      "Cummulative reward:  -4\n",
      "\n",
      ">> Episode:  119 / 900\n",
      "1/1 - 0s - loss: 0.3504 - accuracy: 0.4062 - 74ms/epoch - 74ms/step\n",
      "Cummulative reward:  -12\n",
      "\n",
      ">> Episode:  120 / 900\n",
      "1/1 - 0s - loss: 0.3756 - accuracy: 0.4219 - 80ms/epoch - 80ms/step\n",
      "Cummulative reward:  -10\n",
      "\n",
      ">> Episode:  121 / 900\n",
      "1/1 - 0s - loss: 0.3298 - accuracy: 0.4219 - 75ms/epoch - 75ms/step\n",
      "Cummulative reward:  -10\n",
      "\n",
      ">> Episode:  122 / 900\n",
      "1/1 - 0s - loss: 0.3477 - accuracy: 0.4375 - 75ms/epoch - 75ms/step\n",
      "Cummulative reward:  -8\n",
      "\n",
      ">> Episode:  123 / 900\n",
      "1/1 - 0s - loss: 0.3443 - accuracy: 0.5000 - 78ms/epoch - 78ms/step\n",
      "Cummulative reward:  0\n",
      "\n",
      ">> Episode:  124 / 900\n",
      "1/1 - 0s - loss: 0.3945 - accuracy: 0.2656 - 81ms/epoch - 81ms/step\n",
      "Cummulative reward:  -30\n",
      "\n",
      ">> Episode:  125 / 900\n",
      "1/1 - 0s - loss: 0.3809 - accuracy: 0.2969 - 80ms/epoch - 80ms/step\n",
      "Cummulative reward:  -26\n",
      "\n",
      ">> Episode:  126 / 900\n",
      "1/1 - 0s - loss: 0.3624 - accuracy: 0.3750 - 84ms/epoch - 84ms/step\n",
      "Cummulative reward:  -16\n",
      "\n",
      ">> Episode:  127 / 900\n",
      "1/1 - 0s - loss: 0.3604 - accuracy: 0.4219 - 76ms/epoch - 76ms/step\n",
      "Cummulative reward:  -10\n",
      "\n",
      ">> Episode:  128 / 900\n",
      "1/1 - 0s - loss: 0.3541 - accuracy: 0.4219 - 81ms/epoch - 81ms/step\n",
      "Cummulative reward:  -10\n",
      "\n",
      ">> Episode:  129 / 900\n",
      "1/1 - 0s - loss: 0.3842 - accuracy: 0.3281 - 82ms/epoch - 82ms/step\n",
      "Cummulative reward:  -22\n",
      "\n",
      ">> Episode:  130 / 900\n",
      "1/1 - 0s - loss: 0.3526 - accuracy: 0.4375 - 75ms/epoch - 75ms/step\n",
      "Cummulative reward:  -8\n",
      "\n",
      ">> Episode:  131 / 900\n",
      "1/1 - 0s - loss: 0.3297 - accuracy: 0.4688 - 72ms/epoch - 72ms/step\n",
      "Cummulative reward:  -4\n",
      "\n",
      ">> Episode:  132 / 900\n",
      "1/1 - 0s - loss: 0.3789 - accuracy: 0.3438 - 78ms/epoch - 78ms/step\n",
      "Cummulative reward:  -20\n",
      "\n",
      ">> Episode:  133 / 900\n",
      "1/1 - 0s - loss: 0.3764 - accuracy: 0.3750 - 78ms/epoch - 78ms/step\n",
      "Cummulative reward:  -16\n",
      "\n",
      ">> Episode:  134 / 900\n",
      "1/1 - 0s - loss: 0.3727 - accuracy: 0.3438 - 96ms/epoch - 96ms/step\n",
      "Cummulative reward:  -20\n",
      "\n",
      ">> Episode:  135 / 900\n",
      "1/1 - 0s - loss: 0.3351 - accuracy: 0.4688 - 83ms/epoch - 83ms/step\n",
      "Cummulative reward:  -4\n",
      "\n",
      ">> Episode:  136 / 900\n",
      "1/1 - 0s - loss: 0.3493 - accuracy: 0.3906 - 78ms/epoch - 78ms/step\n",
      "Cummulative reward:  -14\n",
      "\n",
      ">> Episode:  137 / 900\n",
      "1/1 - 0s - loss: 0.3703 - accuracy: 0.3906 - 84ms/epoch - 84ms/step\n",
      "Cummulative reward:  -14\n",
      "\n",
      ">> Episode:  138 / 900\n",
      "1/1 - 0s - loss: 0.3355 - accuracy: 0.4844 - 86ms/epoch - 86ms/step\n",
      "Cummulative reward:  -2\n",
      "\n",
      ">> Episode:  139 / 900\n",
      "1/1 - 0s - loss: 0.3702 - accuracy: 0.3438 - 83ms/epoch - 83ms/step\n",
      "Cummulative reward:  -20\n",
      "\n",
      ">> Episode:  140 / 900\n",
      "1/1 - 0s - loss: 0.3685 - accuracy: 0.3594 - 100ms/epoch - 100ms/step\n",
      "Cummulative reward:  -18\n",
      "\n",
      ">> Episode:  141 / 900\n",
      "1/1 - 0s - loss: 0.3789 - accuracy: 0.3125 - 82ms/epoch - 82ms/step\n",
      "Cummulative reward:  -24\n",
      "\n",
      ">> Episode:  142 / 900\n",
      "1/1 - 0s - loss: 0.3792 - accuracy: 0.3281 - 80ms/epoch - 80ms/step\n",
      "Cummulative reward:  -22\n",
      "\n",
      ">> Episode:  143 / 900\n",
      "1/1 - 0s - loss: 0.3712 - accuracy: 0.3594 - 80ms/epoch - 80ms/step\n",
      "Cummulative reward:  -18\n",
      "\n",
      ">> Episode:  144 / 900\n",
      "1/1 - 0s - loss: 0.3800 - accuracy: 0.3281 - 81ms/epoch - 81ms/step\n",
      "Cummulative reward:  -22\n",
      "\n",
      ">> Episode:  145 / 900\n",
      "1/1 - 0s - loss: 0.3712 - accuracy: 0.3281 - 74ms/epoch - 74ms/step\n",
      "Cummulative reward:  -24\n",
      "\n",
      ">> Episode:  146 / 900\n",
      "1/1 - 0s - loss: 0.3552 - accuracy: 0.4062 - 78ms/epoch - 78ms/step\n",
      "Cummulative reward:  -12\n",
      "\n",
      ">> Episode:  147 / 900\n",
      "1/1 - 0s - loss: 0.3693 - accuracy: 0.3438 - 82ms/epoch - 82ms/step\n",
      "Cummulative reward:  -20\n",
      "\n",
      ">> Episode:  148 / 900\n",
      "1/1 - 0s - loss: 0.3672 - accuracy: 0.3750 - 83ms/epoch - 83ms/step\n",
      "Cummulative reward:  -16\n",
      "\n",
      ">> Episode:  149 / 900\n",
      "1/1 - 0s - loss: 0.3647 - accuracy: 0.3594 - 89ms/epoch - 89ms/step\n",
      "Cummulative reward:  -18\n",
      "\n",
      ">> Episode:  150 / 900\n",
      "1/1 - 0s - loss: 0.3368 - accuracy: 0.4688 - 81ms/epoch - 81ms/step\n",
      "Cummulative reward:  -4\n",
      "\n",
      ">> Episode:  151 / 900\n",
      "1/1 - 0s - loss: 0.3591 - accuracy: 0.3750 - 75ms/epoch - 75ms/step\n",
      "Cummulative reward:  -16\n",
      "\n",
      ">> Episode:  152 / 900\n",
      "1/1 - 0s - loss: 0.3693 - accuracy: 0.2969 - 82ms/epoch - 82ms/step\n",
      "Cummulative reward:  -26\n",
      "\n",
      ">> Episode:  153 / 900\n",
      "1/1 - 0s - loss: 0.3492 - accuracy: 0.3906 - 80ms/epoch - 80ms/step\n",
      "Cummulative reward:  -14\n",
      "\n",
      ">> Episode:  154 / 900\n",
      "1/1 - 0s - loss: 0.3803 - accuracy: 0.3281 - 89ms/epoch - 89ms/step\n",
      "Cummulative reward:  -22\n",
      "\n",
      ">> Episode:  155 / 900\n",
      "1/1 - 0s - loss: 0.3995 - accuracy: 0.2812 - 80ms/epoch - 80ms/step\n",
      "Cummulative reward:  -28\n",
      "\n",
      ">> Episode:  156 / 900\n",
      "1/1 - 0s - loss: 0.3402 - accuracy: 0.5000 - 85ms/epoch - 85ms/step\n",
      "Cummulative reward:  0\n",
      "\n",
      ">> Episode:  157 / 900\n",
      "1/1 - 0s - loss: 0.3819 - accuracy: 0.3594 - 80ms/epoch - 80ms/step\n",
      "Cummulative reward:  -18\n",
      "\n",
      ">> Episode:  158 / 900\n",
      "1/1 - 0s - loss: 0.3520 - accuracy: 0.3906 - 81ms/epoch - 81ms/step\n",
      "Cummulative reward:  -14\n",
      "\n",
      ">> Episode:  159 / 900\n",
      "1/1 - 0s - loss: 0.3400 - accuracy: 0.4062 - 84ms/epoch - 84ms/step\n",
      "Cummulative reward:  -12\n",
      "\n",
      ">> Episode:  160 / 900\n",
      "1/1 - 0s - loss: 0.4051 - accuracy: 0.2188 - 87ms/epoch - 87ms/step\n",
      "Cummulative reward:  -36\n",
      "\n",
      ">> Episode:  161 / 900\n",
      "1/1 - 0s - loss: 0.3430 - accuracy: 0.4375 - 89ms/epoch - 89ms/step\n",
      "Cummulative reward:  -8\n",
      "\n",
      ">> Episode:  162 / 900\n",
      "1/1 - 0s - loss: 0.3540 - accuracy: 0.3750 - 88ms/epoch - 88ms/step\n",
      "Cummulative reward:  -16\n",
      "\n",
      ">> Episode:  163 / 900\n",
      "1/1 - 0s - loss: 0.3584 - accuracy: 0.3594 - 80ms/epoch - 80ms/step\n",
      "Cummulative reward:  -18\n",
      "\n",
      ">> Episode:  164 / 900\n",
      "1/1 - 0s - loss: 0.3680 - accuracy: 0.3750 - 82ms/epoch - 82ms/step\n",
      "Cummulative reward:  -16\n",
      "\n",
      ">> Episode:  165 / 900\n",
      "1/1 - 0s - loss: 0.3938 - accuracy: 0.2969 - 80ms/epoch - 80ms/step\n",
      "Cummulative reward:  -26\n",
      "\n",
      ">> Episode:  166 / 900\n",
      "1/1 - 0s - loss: 0.3656 - accuracy: 0.3594 - 108ms/epoch - 108ms/step\n",
      "Cummulative reward:  -18\n",
      "\n",
      ">> Episode:  167 / 900\n",
      "1/1 - 0s - loss: 0.3725 - accuracy: 0.4062 - 86ms/epoch - 86ms/step\n",
      "Cummulative reward:  -12\n",
      "\n",
      ">> Episode:  168 / 900\n",
      "1/1 - 0s - loss: 0.3759 - accuracy: 0.2969 - 85ms/epoch - 85ms/step\n",
      "Cummulative reward:  -26\n",
      "\n",
      ">> Episode:  169 / 900\n",
      "1/1 - 0s - loss: 0.3684 - accuracy: 0.3594 - 91ms/epoch - 91ms/step\n",
      "Cummulative reward:  -18\n",
      "\n",
      ">> Episode:  170 / 900\n",
      "1/1 - 0s - loss: 0.3905 - accuracy: 0.3125 - 86ms/epoch - 86ms/step\n",
      "Cummulative reward:  -24\n",
      "\n",
      ">> Episode:  171 / 900\n",
      "1/1 - 0s - loss: 0.3439 - accuracy: 0.4688 - 84ms/epoch - 84ms/step\n",
      "Cummulative reward:  -4\n",
      "\n",
      ">> Episode:  172 / 900\n",
      "1/1 - 0s - loss: 0.3520 - accuracy: 0.4062 - 80ms/epoch - 80ms/step\n",
      "Cummulative reward:  -12\n",
      "\n",
      ">> Episode:  173 / 900\n",
      "1/1 - 0s - loss: 0.3959 - accuracy: 0.2812 - 121ms/epoch - 121ms/step\n",
      "Cummulative reward:  -28\n",
      "\n",
      ">> Episode:  174 / 900\n",
      "1/1 - 0s - loss: 0.3756 - accuracy: 0.2656 - 88ms/epoch - 88ms/step\n",
      "Cummulative reward:  -30\n",
      "\n",
      ">> Episode:  175 / 900\n",
      "1/1 - 0s - loss: 0.3518 - accuracy: 0.4531 - 88ms/epoch - 88ms/step\n",
      "Cummulative reward:  -6\n",
      "\n",
      ">> Episode:  176 / 900\n",
      "1/1 - 0s - loss: 0.3438 - accuracy: 0.4531 - 88ms/epoch - 88ms/step\n",
      "Cummulative reward:  -6\n",
      "\n",
      ">> Episode:  177 / 900\n",
      "1/1 - 0s - loss: 0.3642 - accuracy: 0.3906 - 81ms/epoch - 81ms/step\n",
      "Cummulative reward:  -14\n",
      "\n",
      ">> Episode:  178 / 900\n",
      "1/1 - 0s - loss: 0.3310 - accuracy: 0.5156 - 84ms/epoch - 84ms/step\n",
      "Cummulative reward:  2\n",
      "\n",
      ">> Episode:  179 / 900\n",
      "1/1 - 0s - loss: 0.3819 - accuracy: 0.3125 - 79ms/epoch - 79ms/step\n",
      "Cummulative reward:  -24\n",
      "\n",
      ">> Episode:  180 / 900\n",
      "1/1 - 0s - loss: 0.3655 - accuracy: 0.3906 - 90ms/epoch - 90ms/step\n",
      "Cummulative reward:  -14\n",
      "\n",
      ">> Episode:  181 / 900\n",
      "1/1 - 0s - loss: 0.3624 - accuracy: 0.3594 - 85ms/epoch - 85ms/step\n",
      "Cummulative reward:  -18\n",
      "\n",
      ">> Episode:  182 / 900\n",
      "1/1 - 0s - loss: 0.3523 - accuracy: 0.4219 - 96ms/epoch - 96ms/step\n",
      "Cummulative reward:  -10\n",
      "\n",
      ">> Episode:  183 / 900\n",
      "1/1 - 0s - loss: 0.3607 - accuracy: 0.3906 - 131ms/epoch - 131ms/step\n",
      "Cummulative reward:  -14\n",
      "\n",
      ">> Episode:  184 / 900\n",
      "1/1 - 0s - loss: 0.3741 - accuracy: 0.3438 - 84ms/epoch - 84ms/step\n",
      "Cummulative reward:  -20\n",
      "\n",
      ">> Episode:  185 / 900\n",
      "1/1 - 0s - loss: 0.3786 - accuracy: 0.2969 - 86ms/epoch - 86ms/step\n",
      "Cummulative reward:  -28\n",
      "\n",
      ">> Episode:  186 / 900\n",
      "1/1 - 0s - loss: 0.3611 - accuracy: 0.3906 - 92ms/epoch - 92ms/step\n",
      "Cummulative reward:  -14\n",
      "\n",
      ">> Episode:  187 / 900\n",
      "1/1 - 0s - loss: 0.3764 - accuracy: 0.3750 - 89ms/epoch - 89ms/step\n",
      "Cummulative reward:  -16\n",
      "\n",
      ">> Episode:  188 / 900\n",
      "1/1 - 0s - loss: 0.3453 - accuracy: 0.4375 - 83ms/epoch - 83ms/step\n",
      "Cummulative reward:  -10\n",
      "\n",
      ">> Episode:  189 / 900\n",
      "1/1 - 0s - loss: 0.3333 - accuracy: 0.4844 - 85ms/epoch - 85ms/step\n",
      "Cummulative reward:  -2\n",
      "\n",
      ">> Episode:  190 / 900\n",
      "1/1 - 0s - loss: 0.3646 - accuracy: 0.3906 - 83ms/epoch - 83ms/step\n",
      "Cummulative reward:  -14\n",
      "\n",
      ">> Episode:  191 / 900\n",
      "1/1 - 0s - loss: 0.3715 - accuracy: 0.3438 - 85ms/epoch - 85ms/step\n",
      "Cummulative reward:  -20\n",
      "\n",
      ">> Episode:  192 / 900\n",
      "1/1 - 0s - loss: 0.3497 - accuracy: 0.4062 - 97ms/epoch - 97ms/step\n",
      "Cummulative reward:  -12\n",
      "\n",
      ">> Episode:  193 / 900\n",
      "1/1 - 0s - loss: 0.3640 - accuracy: 0.3594 - 96ms/epoch - 96ms/step\n",
      "Cummulative reward:  -18\n",
      "\n",
      ">> Episode:  194 / 900\n",
      "1/1 - 0s - loss: 0.3414 - accuracy: 0.4688 - 85ms/epoch - 85ms/step\n",
      "Cummulative reward:  -4\n",
      "\n",
      ">> Episode:  195 / 900\n",
      "1/1 - 0s - loss: 0.3728 - accuracy: 0.3750 - 80ms/epoch - 80ms/step\n",
      "Cummulative reward:  -16\n",
      "\n",
      ">> Episode:  196 / 900\n",
      "1/1 - 0s - loss: 0.3704 - accuracy: 0.3281 - 108ms/epoch - 108ms/step\n",
      "Cummulative reward:  -22\n",
      "\n",
      ">> Episode:  197 / 900\n",
      "1/1 - 0s - loss: 0.3779 - accuracy: 0.2969 - 99ms/epoch - 99ms/step\n",
      "Cummulative reward:  -26\n",
      "\n",
      ">> Episode:  198 / 900\n",
      "1/1 - 0s - loss: 0.3555 - accuracy: 0.4375 - 104ms/epoch - 104ms/step\n",
      "Cummulative reward:  -8\n",
      "\n",
      ">> Episode:  199 / 900\n",
      "1/1 - 0s - loss: 0.3773 - accuracy: 0.2969 - 113ms/epoch - 113ms/step\n",
      "Cummulative reward:  -26\n",
      "\n",
      ">> Episode:  200 / 900\n",
      "1/1 - 0s - loss: 0.3410 - accuracy: 0.4531 - 92ms/epoch - 92ms/step\n",
      "Cummulative reward:  -6\n",
      "\n",
      ">> Episode:  201 / 900\n",
      "1/1 - 0s - loss: 0.3472 - accuracy: 0.4531 - 90ms/epoch - 90ms/step\n",
      "Cummulative reward:  -6\n",
      "\n",
      ">> Episode:  202 / 900\n",
      "1/1 - 0s - loss: 0.3618 - accuracy: 0.4062 - 84ms/epoch - 84ms/step\n",
      "Cummulative reward:  -12\n",
      "\n",
      ">> Episode:  203 / 900\n",
      "1/1 - 0s - loss: 0.3488 - accuracy: 0.4375 - 88ms/epoch - 88ms/step\n",
      "Cummulative reward:  -8\n",
      "\n",
      ">> Episode:  204 / 900\n",
      "1/1 - 0s - loss: 0.3559 - accuracy: 0.4531 - 88ms/epoch - 88ms/step\n",
      "Cummulative reward:  -6\n",
      "\n",
      ">> Episode:  205 / 900\n",
      "1/1 - 0s - loss: 0.3370 - accuracy: 0.4375 - 83ms/epoch - 83ms/step\n",
      "Cummulative reward:  -8\n",
      "\n",
      ">> Episode:  206 / 900\n",
      "1/1 - 0s - loss: 0.3209 - accuracy: 0.5469 - 95ms/epoch - 95ms/step\n",
      "Cummulative reward:  6\n",
      "\n",
      ">> Episode:  207 / 900\n",
      "1/1 - 0s - loss: 0.3491 - accuracy: 0.4062 - 90ms/epoch - 90ms/step\n",
      "Cummulative reward:  -14\n",
      "\n",
      ">> Episode:  208 / 900\n",
      "1/1 - 0s - loss: 0.3623 - accuracy: 0.4062 - 116ms/epoch - 116ms/step\n",
      "Cummulative reward:  -12\n",
      "\n",
      ">> Episode:  209 / 900\n",
      "1/1 - 0s - loss: 0.3497 - accuracy: 0.4531 - 86ms/epoch - 86ms/step\n",
      "Cummulative reward:  -6\n",
      "\n",
      ">> Episode:  210 / 900\n",
      "1/1 - 0s - loss: 0.3238 - accuracy: 0.5312 - 97ms/epoch - 97ms/step\n",
      "Cummulative reward:  4\n",
      "\n",
      ">> Episode:  211 / 900\n",
      "1/1 - 0s - loss: 0.3975 - accuracy: 0.2812 - 110ms/epoch - 110ms/step\n",
      "Cummulative reward:  -28\n",
      "\n",
      ">> Episode:  212 / 900\n",
      "1/1 - 0s - loss: 0.3603 - accuracy: 0.4062 - 94ms/epoch - 94ms/step\n",
      "Cummulative reward:  -12\n",
      "\n",
      ">> Episode:  213 / 900\n",
      "1/1 - 0s - loss: 0.3772 - accuracy: 0.3125 - 91ms/epoch - 91ms/step\n",
      "Cummulative reward:  -24\n",
      "\n",
      ">> Episode:  214 / 900\n",
      "1/1 - 0s - loss: 0.3418 - accuracy: 0.4375 - 83ms/epoch - 83ms/step\n",
      "Cummulative reward:  -8\n",
      "\n",
      ">> Episode:  215 / 900\n",
      "1/1 - 0s - loss: 0.3367 - accuracy: 0.4844 - 140ms/epoch - 140ms/step\n",
      "Cummulative reward:  -2\n",
      "\n",
      ">> Episode:  216 / 900\n",
      "1/1 - 0s - loss: 0.3355 - accuracy: 0.4688 - 89ms/epoch - 89ms/step\n",
      "Cummulative reward:  -4\n",
      "\n",
      ">> Episode:  217 / 900\n",
      "1/1 - 0s - loss: 0.3612 - accuracy: 0.3906 - 92ms/epoch - 92ms/step\n",
      "Cummulative reward:  -14\n",
      "\n",
      ">> Episode:  218 / 900\n",
      "1/1 - 0s - loss: 0.3590 - accuracy: 0.3906 - 101ms/epoch - 101ms/step\n",
      "Cummulative reward:  -14\n",
      "\n",
      ">> Episode:  219 / 900\n",
      "1/1 - 0s - loss: 0.3457 - accuracy: 0.4375 - 93ms/epoch - 93ms/step\n",
      "Cummulative reward:  -8\n",
      "\n",
      ">> Episode:  220 / 900\n",
      "1/1 - 0s - loss: 0.3628 - accuracy: 0.4375 - 85ms/epoch - 85ms/step\n",
      "Cummulative reward:  -8\n",
      "\n",
      ">> Episode:  221 / 900\n",
      "1/1 - 0s - loss: 0.3481 - accuracy: 0.4375 - 94ms/epoch - 94ms/step\n",
      "Cummulative reward:  -8\n",
      "\n",
      ">> Episode:  222 / 900\n",
      "1/1 - 0s - loss: 0.3447 - accuracy: 0.3906 - 92ms/epoch - 92ms/step\n",
      "Cummulative reward:  -14\n",
      "\n",
      ">> Episode:  223 / 900\n",
      "1/1 - 0s - loss: 0.3533 - accuracy: 0.4062 - 92ms/epoch - 92ms/step\n",
      "Cummulative reward:  -12\n",
      "\n",
      ">> Episode:  224 / 900\n",
      "1/1 - 0s - loss: 0.3533 - accuracy: 0.3594 - 86ms/epoch - 86ms/step\n",
      "Cummulative reward:  -18\n",
      "\n",
      ">> Episode:  225 / 900\n",
      "1/1 - 0s - loss: 0.3763 - accuracy: 0.3438 - 93ms/epoch - 93ms/step\n",
      "Cummulative reward:  -20\n",
      "\n",
      ">> Episode:  226 / 900\n",
      "1/1 - 0s - loss: 0.3397 - accuracy: 0.4219 - 88ms/epoch - 88ms/step\n",
      "Cummulative reward:  -10\n",
      "\n",
      ">> Episode:  227 / 900\n",
      "1/1 - 0s - loss: 0.3634 - accuracy: 0.3594 - 113ms/epoch - 113ms/step\n",
      "Cummulative reward:  -18\n",
      "\n",
      ">> Episode:  228 / 900\n",
      "1/1 - 0s - loss: 0.3623 - accuracy: 0.3750 - 93ms/epoch - 93ms/step\n",
      "Cummulative reward:  -16\n",
      "\n",
      ">> Episode:  229 / 900\n",
      "1/1 - 0s - loss: 0.3693 - accuracy: 0.3281 - 92ms/epoch - 92ms/step\n",
      "Cummulative reward:  -22\n",
      "\n",
      ">> Episode:  230 / 900\n",
      "1/1 - 0s - loss: 0.3273 - accuracy: 0.4688 - 99ms/epoch - 99ms/step\n",
      "Cummulative reward:  -4\n",
      "\n",
      ">> Episode:  231 / 900\n",
      "1/1 - 0s - loss: 0.3467 - accuracy: 0.4062 - 92ms/epoch - 92ms/step\n",
      "Cummulative reward:  -12\n",
      "\n",
      ">> Episode:  232 / 900\n",
      "1/1 - 0s - loss: 0.3630 - accuracy: 0.3906 - 93ms/epoch - 93ms/step\n",
      "Cummulative reward:  -14\n",
      "\n",
      ">> Episode:  233 / 900\n",
      "1/1 - 0s - loss: 0.3159 - accuracy: 0.5000 - 93ms/epoch - 93ms/step\n",
      "Cummulative reward:  0\n",
      "\n",
      ">> Episode:  234 / 900\n",
      "1/1 - 0s - loss: 0.3516 - accuracy: 0.4531 - 98ms/epoch - 98ms/step\n",
      "Cummulative reward:  -6\n",
      "\n",
      ">> Episode:  235 / 900\n",
      "1/1 - 0s - loss: 0.3626 - accuracy: 0.3906 - 90ms/epoch - 90ms/step\n",
      "Cummulative reward:  -14\n",
      "\n",
      ">> Episode:  236 / 900\n",
      "1/1 - 0s - loss: 0.3602 - accuracy: 0.3906 - 90ms/epoch - 90ms/step\n",
      "Cummulative reward:  -14\n",
      "\n",
      ">> Episode:  237 / 900\n",
      "1/1 - 0s - loss: 0.3532 - accuracy: 0.3906 - 96ms/epoch - 96ms/step\n",
      "Cummulative reward:  -14\n",
      "\n",
      ">> Episode:  238 / 900\n",
      "1/1 - 0s - loss: 0.3481 - accuracy: 0.3438 - 93ms/epoch - 93ms/step\n",
      "Cummulative reward:  -20\n",
      "\n",
      ">> Episode:  239 / 900\n",
      "1/1 - 0s - loss: 0.3519 - accuracy: 0.3594 - 94ms/epoch - 94ms/step\n",
      "Cummulative reward:  -18\n",
      "\n",
      ">> Episode:  240 / 900\n",
      "1/1 - 0s - loss: 0.3493 - accuracy: 0.4219 - 93ms/epoch - 93ms/step\n",
      "Cummulative reward:  -10\n",
      "\n",
      ">> Episode:  241 / 900\n",
      "1/1 - 0s - loss: 0.3657 - accuracy: 0.3906 - 98ms/epoch - 98ms/step\n",
      "Cummulative reward:  -12\n",
      "\n",
      ">> Episode:  242 / 900\n",
      "1/1 - 0s - loss: 0.3420 - accuracy: 0.4375 - 92ms/epoch - 92ms/step\n",
      "Cummulative reward:  -10\n",
      "\n",
      ">> Episode:  243 / 900\n",
      "1/1 - 0s - loss: 0.3667 - accuracy: 0.4062 - 100ms/epoch - 100ms/step\n",
      "Cummulative reward:  -12\n",
      "\n",
      ">> Episode:  244 / 900\n",
      "1/1 - 0s - loss: 0.3818 - accuracy: 0.2969 - 149ms/epoch - 149ms/step\n",
      "Cummulative reward:  -26\n",
      "\n",
      ">> Episode:  245 / 900\n",
      "1/1 - 0s - loss: 0.3587 - accuracy: 0.3594 - 93ms/epoch - 93ms/step\n",
      "Cummulative reward:  -18\n",
      "\n",
      ">> Episode:  246 / 900\n",
      "1/1 - 0s - loss: 0.3704 - accuracy: 0.3438 - 103ms/epoch - 103ms/step\n",
      "Cummulative reward:  -20\n",
      "\n",
      ">> Episode:  247 / 900\n",
      "1/1 - 0s - loss: 0.3768 - accuracy: 0.3281 - 97ms/epoch - 97ms/step\n",
      "Cummulative reward:  -22\n",
      "\n",
      ">> Episode:  248 / 900\n",
      "1/1 - 0s - loss: 0.3772 - accuracy: 0.3281 - 103ms/epoch - 103ms/step\n",
      "Cummulative reward:  -22\n",
      "\n",
      ">> Episode:  249 / 900\n",
      "1/1 - 0s - loss: 0.3314 - accuracy: 0.5156 - 94ms/epoch - 94ms/step\n",
      "Cummulative reward:  2\n",
      "\n",
      ">> Episode:  250 / 900\n",
      "1/1 - 0s - loss: 0.3768 - accuracy: 0.3438 - 91ms/epoch - 91ms/step\n",
      "Cummulative reward:  -20\n",
      "\n",
      ">> Episode:  251 / 900\n",
      "1/1 - 0s - loss: 0.3663 - accuracy: 0.3438 - 101ms/epoch - 101ms/step\n",
      "Cummulative reward:  -20\n",
      "\n",
      ">> Episode:  252 / 900\n",
      "1/1 - 0s - loss: 0.3489 - accuracy: 0.4531 - 90ms/epoch - 90ms/step\n",
      "Cummulative reward:  -6\n",
      "\n",
      ">> Episode:  253 / 900\n",
      "1/1 - 0s - loss: 0.3643 - accuracy: 0.3906 - 91ms/epoch - 91ms/step\n",
      "Cummulative reward:  -14\n",
      "\n",
      ">> Episode:  254 / 900\n",
      "1/1 - 0s - loss: 0.3612 - accuracy: 0.4688 - 89ms/epoch - 89ms/step\n",
      "Cummulative reward:  -4\n",
      "\n",
      ">> Episode:  255 / 900\n",
      "1/1 - 0s - loss: 0.3556 - accuracy: 0.4062 - 94ms/epoch - 94ms/step\n",
      "Cummulative reward:  -12\n",
      "\n",
      ">> Episode:  256 / 900\n",
      "1/1 - 0s - loss: 0.3622 - accuracy: 0.4062 - 104ms/epoch - 104ms/step\n",
      "Cummulative reward:  -12\n",
      "\n",
      ">> Episode:  257 / 900\n",
      "1/1 - 0s - loss: 0.3697 - accuracy: 0.3438 - 99ms/epoch - 99ms/step\n",
      "Cummulative reward:  -20\n",
      "\n",
      ">> Episode:  258 / 900\n",
      "1/1 - 0s - loss: 0.3307 - accuracy: 0.4375 - 95ms/epoch - 95ms/step\n",
      "Cummulative reward:  -8\n",
      "\n",
      ">> Episode:  259 / 900\n",
      "1/1 - 0s - loss: 0.3510 - accuracy: 0.4375 - 92ms/epoch - 92ms/step\n",
      "Cummulative reward:  -10\n",
      "\n",
      ">> Episode:  260 / 900\n",
      "1/1 - 0s - loss: 0.3480 - accuracy: 0.4062 - 96ms/epoch - 96ms/step\n",
      "Cummulative reward:  -12\n",
      "\n",
      ">> Episode:  261 / 900\n",
      "1/1 - 0s - loss: 0.3709 - accuracy: 0.3906 - 98ms/epoch - 98ms/step\n",
      "Cummulative reward:  -14\n",
      "\n",
      ">> Episode:  262 / 900\n",
      "1/1 - 0s - loss: 0.3571 - accuracy: 0.4062 - 99ms/epoch - 99ms/step\n",
      "Cummulative reward:  -12\n",
      "\n",
      ">> Episode:  263 / 900\n",
      "1/1 - 0s - loss: 0.3760 - accuracy: 0.4219 - 98ms/epoch - 98ms/step\n",
      "Cummulative reward:  -10\n",
      "\n",
      ">> Episode:  264 / 900\n",
      "1/1 - 0s - loss: 0.3845 - accuracy: 0.3594 - 91ms/epoch - 91ms/step\n",
      "Cummulative reward:  -18\n",
      "\n",
      ">> Episode:  265 / 900\n",
      "1/1 - 0s - loss: 0.3620 - accuracy: 0.4062 - 94ms/epoch - 94ms/step\n",
      "Cummulative reward:  -12\n",
      "\n",
      ">> Episode:  266 / 900\n",
      "1/1 - 0s - loss: 0.3843 - accuracy: 0.2969 - 93ms/epoch - 93ms/step\n",
      "Cummulative reward:  -26\n",
      "\n",
      ">> Episode:  267 / 900\n",
      "1/1 - 0s - loss: 0.3556 - accuracy: 0.3906 - 95ms/epoch - 95ms/step\n",
      "Cummulative reward:  -14\n",
      "\n",
      ">> Episode:  268 / 900\n",
      "1/1 - 0s - loss: 0.3530 - accuracy: 0.3594 - 96ms/epoch - 96ms/step\n",
      "Cummulative reward:  -18\n",
      "\n",
      ">> Episode:  269 / 900\n",
      "1/1 - 0s - loss: 0.3236 - accuracy: 0.5156 - 110ms/epoch - 110ms/step\n",
      "Cummulative reward:  2\n",
      "\n",
      ">> Episode:  270 / 900\n",
      "1/1 - 0s - loss: 0.3410 - accuracy: 0.4062 - 130ms/epoch - 130ms/step\n",
      "Cummulative reward:  -12\n",
      "\n",
      ">> Episode:  271 / 900\n",
      "1/1 - 0s - loss: 0.3391 - accuracy: 0.4375 - 105ms/epoch - 105ms/step\n",
      "Cummulative reward:  -6\n",
      "\n",
      ">> Episode:  272 / 900\n",
      "1/1 - 0s - loss: 0.3430 - accuracy: 0.4375 - 108ms/epoch - 108ms/step\n",
      "Cummulative reward:  -8\n",
      "\n",
      ">> Episode:  273 / 900\n",
      "1/1 - 0s - loss: 0.3612 - accuracy: 0.3906 - 95ms/epoch - 95ms/step\n",
      "Cummulative reward:  -14\n",
      "\n",
      ">> Episode:  274 / 900\n",
      "1/1 - 0s - loss: 0.3829 - accuracy: 0.3750 - 94ms/epoch - 94ms/step\n",
      "Cummulative reward:  -16\n",
      "\n",
      ">> Episode:  275 / 900\n",
      "1/1 - 0s - loss: 0.3965 - accuracy: 0.2812 - 100ms/epoch - 100ms/step\n",
      "Cummulative reward:  -28\n",
      "\n",
      ">> Episode:  276 / 900\n",
      "1/1 - 0s - loss: 0.3425 - accuracy: 0.4688 - 98ms/epoch - 98ms/step\n",
      "Cummulative reward:  -4\n",
      "\n",
      ">> Episode:  277 / 900\n",
      "1/1 - 0s - loss: 0.3684 - accuracy: 0.3750 - 101ms/epoch - 101ms/step\n",
      "Cummulative reward:  -16\n",
      "\n",
      ">> Episode:  278 / 900\n",
      "1/1 - 0s - loss: 0.3513 - accuracy: 0.3906 - 93ms/epoch - 93ms/step\n",
      "Cummulative reward:  -14\n",
      "\n",
      ">> Episode:  279 / 900\n",
      "1/1 - 0s - loss: 0.3684 - accuracy: 0.3438 - 95ms/epoch - 95ms/step\n",
      "Cummulative reward:  -20\n",
      "\n",
      ">> Episode:  280 / 900\n",
      "1/1 - 0s - loss: 0.3449 - accuracy: 0.4219 - 104ms/epoch - 104ms/step\n",
      "Cummulative reward:  -10\n",
      "\n",
      ">> Episode:  281 / 900\n",
      "1/1 - 0s - loss: 0.3571 - accuracy: 0.4062 - 105ms/epoch - 105ms/step\n",
      "Cummulative reward:  -12\n",
      "\n",
      ">> Episode:  282 / 900\n",
      "1/1 - 0s - loss: 0.3421 - accuracy: 0.3906 - 102ms/epoch - 102ms/step\n",
      "Cummulative reward:  -14\n",
      "\n",
      ">> Episode:  283 / 900\n",
      "1/1 - 0s - loss: 0.3192 - accuracy: 0.4844 - 96ms/epoch - 96ms/step\n",
      "Cummulative reward:  -2\n",
      "\n",
      ">> Episode:  284 / 900\n",
      "1/1 - 0s - loss: 0.3457 - accuracy: 0.4062 - 98ms/epoch - 98ms/step\n",
      "Cummulative reward:  -12\n",
      "\n",
      ">> Episode:  285 / 900\n",
      "1/1 - 0s - loss: 0.3539 - accuracy: 0.3438 - 94ms/epoch - 94ms/step\n",
      "Cummulative reward:  -20\n",
      "\n",
      ">> Episode:  286 / 900\n",
      "1/1 - 0s - loss: 0.3583 - accuracy: 0.4219 - 105ms/epoch - 105ms/step\n",
      "Cummulative reward:  -10\n",
      "\n",
      ">> Episode:  287 / 900\n",
      "1/1 - 0s - loss: 0.3310 - accuracy: 0.4844 - 127ms/epoch - 127ms/step\n",
      "Cummulative reward:  -4\n",
      "\n",
      ">> Episode:  288 / 900\n",
      "1/1 - 0s - loss: 0.3536 - accuracy: 0.3750 - 101ms/epoch - 101ms/step\n",
      "Cummulative reward:  -16\n",
      "\n",
      ">> Episode:  289 / 900\n",
      "1/1 - 0s - loss: 0.3452 - accuracy: 0.4531 - 93ms/epoch - 93ms/step\n",
      "Cummulative reward:  -6\n",
      "\n",
      ">> Episode:  290 / 900\n",
      "1/1 - 0s - loss: 0.3399 - accuracy: 0.4375 - 99ms/epoch - 99ms/step\n",
      "Cummulative reward:  -8\n",
      "\n",
      ">> Episode:  291 / 900\n",
      "1/1 - 0s - loss: 0.3575 - accuracy: 0.4531 - 121ms/epoch - 121ms/step\n",
      "Cummulative reward:  -6\n",
      "\n",
      ">> Episode:  292 / 900\n"
     ]
    }
   ],
   "source": [
    "# Initialization:\n",
    "\n",
    "# environment\n",
    "trainX, trainy, testX, testy = load_dataset() # load dataset (x = state, y = action)\n",
    "\n",
    "env = PowerPlantEnv(dataset=(trainX, trainy))\n",
    "action_space = [0,1,2] # action space: {0: healthy, 1: OR fault, 2: IR fault}\n",
    "\n",
    "E = 900 # training episode number\n",
    "M = 300 # experience pool capacity\n",
    "R = 64 # replay size\n",
    "T = 64 # game rounds in one episode\n",
    "C = 10 # copy period: training steps to update periodicity of target network\n",
    "\n",
    "discount_factor = 0.05 # gamma probar con este o cambiando alpha, cosillas\n",
    "learning_rate = 0.001 # alpha\n",
    "\n",
    "# epsilon-greedy:\n",
    "# tradeoff between exploration and exploitation\n",
    "epsilon_0 = 0.4  # exploration probability at start\n",
    "epsilon_min = 0.001  # minimum exploration probability\n",
    "epsilon_decay = 0.3  # exponential decay rate for exploration prob\n",
    "\n",
    "cum_reward_episode = []\n",
    "acc_episode = []\n",
    "loss_episode = []\n",
    "best_acc = []\n",
    "best_weights = []\n",
    "\n",
    "ddqn_agent = DDQNAgent(learning_rate=learning_rate, discount_factor=discount_factor, \\\n",
    "                                action_space=action_space, \\\n",
    "                                trainX=trainX, trainy=trainy, batch_size=R, \\\n",
    "                                epsilon_0=epsilon_0, epsilon_decay=epsilon_decay, \\\n",
    "                                epsilon_min=epsilon_min, mem_size=M, replace_target=C)\n",
    "\n",
    "for e in range(1,E+1): # training episode\n",
    "    env = PowerPlantEnv(dataset=(trainX, trainy)) # reset environment\n",
    "    ddqn_agent.reset_pool(M) # reset experience pool\n",
    "    ddqn_agent.set_episode_count(e) # set the counter with the number of episodes\n",
    "    cum_reward = 0\n",
    "    print(\"\\n>> Episode: \",e,\"/\",E)\n",
    "    observation = env._next_obs()\n",
    "    ddqn_agent.update_epsilon()\n",
    "    for t in range(1,T+1): # game round\n",
    "        action = ddqn_agent.choose_action(observation)\n",
    "        observation_, reward, done, info = env.step(action)\n",
    "        done = (t==T)\n",
    "        cum_reward += reward\n",
    "        exp = Experience(observation, action, reward, observation_, int(done))\n",
    "        ddqn_agent.add_experience(exp)\n",
    "        observation = observation_\n",
    "        acc, loss = ddqn_agent.learn()\n",
    "    if acc > best_acc: # save weights if accuracy improves\n",
    "        best_acc = acc\n",
    "        best_weights = ddqn_agent.q_policy.get_weights()\n",
    "    cum_reward_episode.append(cum_reward)\n",
    "    acc_episode.append(acc)\n",
    "    loss_episode.append(loss)\n",
    "    print(\"Cummulative reward: \",cum_reward)\n",
    "\n",
    "# save best model\n",
    "ddqn_model = ddqn_agent.q_policy\n",
    "ddqn_model.set_weights(best_weights)\n",
    "models_dir = 'models/'\n",
    "existing_models = [filename for filename in os.listdir(models_dir) if filename.startswith('ddqn_model')]\n",
    "num_model = len(existing_models)+1\n",
    "filename = f'models/ddqn_model_{num_model}.h5'\n",
    "ddqn_model.save(filename)"
   ]
  },
  {
   "cell_type": "code",
   "execution_count": 8,
   "metadata": {},
   "outputs": [
    {
     "data": {
      "image/png": "[encoded data removed]",
      "text/plain": [
       "<Figure size 1500x400 with 3 Axes>"
      ]
     },
     "metadata": {},
     "output_type": "display_data"
    }
   ],
   "source": [
    "# E = 900 # training episode number ==> aumentar epochs\n",
    "# M = 300 # experience pool capacity\n",
    "# R = 64 # replay size\n",
    "# T = 64 # game rounds in one episode\n",
    "# C = 10 # copy period: training steps to update periodicity of target network\n",
    "# discount_factor = 0.01 # gamma\n",
    "# learning_rate = 0.001 # alpha\n",
    "# # epsilon-greedy:\n",
    "# # tradeoff between exploration and exploitation\n",
    "# epsilon_0 = 0.4  # exploration probability at start\n",
    "# epsilon_min = 0.001  # minimum exploration probability\n",
    "# epsilon_decay = 0.3  # exponential decay rate for exploration prob\n",
    "# Modelo con 2 capas de Conv1D\n",
    "# con datos normalizados!\n",
    "# guardando el mejor modelo, no el último\n",
    "# corrigiendo lo del done y poniendo bien el batch_size\n",
    "\n",
    "fig, axs = plt.subplots(1, 3, figsize=(15, 4))\n",
    "\n",
    "axs[0].plot(acc_episode)\n",
    "axs[0].set(xlabel='Accuracy')\n",
    "\n",
    "axs[1].plot(loss_episode)\n",
    "axs[1].set(xlabel='Loss')\n",
    "\n",
    "axs[2].plot(cum_reward_episode)\n",
    "axs[2].set(xlabel='Reward')\n",
    "\n",
    "plt.show()"
   ]
  },
  {
   "cell_type": "code",
   "execution_count": 3,
   "metadata": {},
   "outputs": [],
   "source": [
    "# load ddqn model\n",
    "# ddqn_model = keras.models.load_model('models/ddqn_model_9.h5')"
   ]
  },
  {
   "cell_type": "code",
   "execution_count": 11,
   "metadata": {},
   "outputs": [
    {
     "name": "stdout",
     "output_type": "stream",
     "text": [
      "330/330 [==============================] - 2s 6ms/step\n",
      "Test accuracy:  0.8355618776671409\n"
     ]
    }
   ],
   "source": [
    "pred_test = ddqn_model.predict(testX)\n",
    "\n",
    "test_acc = accuracy_score(np.argmax(testy,axis=1), np.argmax(pred_test,axis=1))\n",
    "print('Test accuracy: ',test_acc)"
   ]
  },
  {
   "cell_type": "code",
   "execution_count": null,
   "metadata": {},
   "outputs": [],
   "source": []
  },
  {
   "cell_type": "code",
   "execution_count": null,
   "metadata": {},
   "outputs": [],
   "source": []
  },
  {
   "cell_type": "code",
   "execution_count": null,
   "metadata": {},
   "outputs": [],
   "source": []
  },
  {
   "cell_type": "code",
   "execution_count": 9,
   "metadata": {},
   "outputs": [
    {
     "data": {
      "image/png": "[encoded data removed]",
      "text/plain": [
       "<Figure size 1500x400 with 3 Axes>"
      ]
     },
     "metadata": {},
     "output_type": "display_data"
    }
   ],
   "source": [
    "# E = 900 # training episode number ==> aumentar epochs\n",
    "# M = 300 # experience pool capacity\n",
    "# R = 64 # replay size\n",
    "# T = 64 # game rounds in one episode\n",
    "# C = 10 # copy period: training steps to update periodicity of target network\n",
    "# discount_factor = 0.01 # gamma\n",
    "# learning_rate = 0.001 # alpha\n",
    "# # epsilon-greedy:\n",
    "# # tradeoff between exploration and exploitation\n",
    "# epsilon_0 = 0.4  # exploration probability at start\n",
    "# epsilon_min = 0.001  # minimum exploration probability\n",
    "# epsilon_decay = 0.3  # exponential decay rate for exploration prob\n",
    "# Modelo con 2 capas de Conv1D\n",
    "# con datos normalizados!\n",
    "# guardando el mejor modelo, no el último\n",
    "\n",
    "fig, axs = plt.subplots(1, 3, figsize=(15, 4))\n",
    "\n",
    "axs[0].plot(acc_episode)\n",
    "axs[0].set(xlabel='Accuracy')\n",
    "\n",
    "axs[1].plot(loss_episode)\n",
    "axs[1].set(xlabel='Loss')\n",
    "\n",
    "axs[2].plot(cum_reward_episode)\n",
    "axs[2].set(xlabel='Reward')\n",
    "\n",
    "plt.show()"
   ]
  },
  {
   "cell_type": "code",
   "execution_count": 10,
   "metadata": {},
   "outputs": [
    {
     "name": "stdout",
     "output_type": "stream",
     "text": [
      "330/330 [==============================] - 2s 4ms/step\n",
      "Test accuracy:  0.8610715979137031\n"
     ]
    }
   ],
   "source": [
    "pred_test = ddqn_model.predict(testX)\n",
    "\n",
    "test_acc = accuracy_score(np.argmax(testy,axis=1), np.argmax(pred_test,axis=1))\n",
    "print('Test accuracy: ',test_acc)"
   ]
  },
  {
   "cell_type": "code",
   "execution_count": 11,
   "metadata": {},
   "outputs": [
    {
     "name": "stdout",
     "output_type": "stream",
     "text": [
      "              precision    recall  f1-score   support\n",
      "\n",
      "     Healthy     0.8330    0.9648    0.8941      3552\n",
      "    OR fault     0.8903    0.8092    0.8478      3600\n",
      "    IR fault     0.8674    0.8075    0.8364      3393\n",
      "\n",
      "    accuracy                         0.8611     10545\n",
      "   macro avg     0.8636    0.8605    0.8594     10545\n",
      "weighted avg     0.8636    0.8611    0.8597     10545\n",
      "\n"
     ]
    }
   ],
   "source": [
    "print(classification_report(np.argmax(testy,axis=1), np.argmax(pred_test,axis=1), target_names=['Healthy', 'OR fault', 'IR fault'],digits=4))"
   ]
  },
  {
   "cell_type": "code",
   "execution_count": 12,
   "metadata": {},
   "outputs": [
    {
     "data": {
      "application/vnd.plotly.v1+json": {
       "config": {
        "plotlyServerURL": "https://plot.ly"
       },
       "data": [
        {
         "colorscale": [
          [
           0,
           "#00224e"
          ],
          [
           0.1111111111111111,
           "#123570"
          ],
          [
           0.2222222222222222,
           "#3b496c"
          ],
          [
           0.3333333333333333,
           "#575d6d"
          ],
          [
           0.4444444444444444,
           "#707173"
          ],
          [
           0.5555555555555556,
           "#8a8678"
          ],
          [
           0.6666666666666666,
           "#a59c74"
          ],
          [
           0.7777777777777778,
           "#c3b369"
          ],
          [
           0.8888888888888888,
           "#e1cc55"
          ],
          [
           1,
           "#fee838"
          ]
         ],
         "reversescale": false,
         "showscale": false,
         "type": "heatmap",
         "x": [
          "Healthy",
          "OR fault",
          "IR fault"
         ],
         "y": [
          "IR fault",
          "OR fault",
          "Healthy"
         ],
         "z": [
          [
           386,
           267,
           2740
          ],
          [
           301,
           2913,
           386
          ],
          [
           3427,
           92,
           33
          ]
         ]
        }
       ],
       "layout": {
        "annotations": [
         {
          "font": {
           "color": "#FFFFFF"
          },
          "showarrow": false,
          "text": "386",
          "x": "Healthy",
          "xref": "x",
          "y": "IR fault",
          "yref": "y"
         },
         {
          "font": {
           "color": "#FFFFFF"
          },
          "showarrow": false,
          "text": "267",
          "x": "OR fault",
          "xref": "x",
          "y": "IR fault",
          "yref": "y"
         },
         {
          "font": {
           "color": "#000000"
          },
          "showarrow": false,
          "text": "2740",
          "x": "IR fault",
          "xref": "x",
          "y": "IR fault",
          "yref": "y"
         },
         {
          "font": {
           "color": "#FFFFFF"
          },
          "showarrow": false,
          "text": "301",
          "x": "Healthy",
          "xref": "x",
          "y": "OR fault",
          "yref": "y"
         },
         {
          "font": {
           "color": "#000000"
          },
          "showarrow": false,
          "text": "2913",
          "x": "OR fault",
          "xref": "x",
          "y": "OR fault",
          "yref": "y"
         },
         {
          "font": {
           "color": "#FFFFFF"
          },
          "showarrow": false,
          "text": "386",
          "x": "IR fault",
          "xref": "x",
          "y": "OR fault",
          "yref": "y"
         },
         {
          "font": {
           "color": "#000000"
          },
          "showarrow": false,
          "text": "3427",
          "x": "Healthy",
          "xref": "x",
          "y": "Healthy",
          "yref": "y"
         },
         {
          "font": {
           "color": "#FFFFFF"
          },
          "showarrow": false,
          "text": "92",
          "x": "OR fault",
          "xref": "x",
          "y": "Healthy",
          "yref": "y"
         },
         {
          "font": {
           "color": "#FFFFFF"
          },
          "showarrow": false,
          "text": "33",
          "x": "IR fault",
          "xref": "x",
          "y": "Healthy",
          "yref": "y"
         }
        ],
        "height": 300,
        "template": {
         "data": {
          "bar": [
           {
            "error_x": {
             "color": "#2a3f5f"
            },
            "error_y": {
             "color": "#2a3f5f"
            },
            "marker": {
             "line": {
              "color": "#E5ECF6",
              "width": 0.5
             },
             "pattern": {
              "fillmode": "overlay",
              "size": 10,
              "solidity": 0.2
             }
            },
            "type": "bar"
           }
          ],
          "barpolar": [
           {
            "marker": {
             "line": {
              "color": "#E5ECF6",
              "width": 0.5
             },
             "pattern": {
              "fillmode": "overlay",
              "size": 10,
              "solidity": 0.2
             }
            },
            "type": "barpolar"
           }
          ],
          "carpet": [
           {
            "aaxis": {
             "endlinecolor": "#2a3f5f",
             "gridcolor": "white",
             "linecolor": "white",
             "minorgridcolor": "white",
             "startlinecolor": "#2a3f5f"
            },
            "baxis": {
             "endlinecolor": "#2a3f5f",
             "gridcolor": "white",
             "linecolor": "white",
             "minorgridcolor": "white",
             "startlinecolor": "#2a3f5f"
            },
            "type": "carpet"
           }
          ],
          "choropleth": [
           {
            "colorbar": {
             "outlinewidth": 0,
             "ticks": ""
            },
            "type": "choropleth"
           }
          ],
          "contour": [
           {
            "colorbar": {
             "outlinewidth": 0,
             "ticks": ""
            },
            "colorscale": [
             [
              0,
              "#0d0887"
             ],
             [
              0.1111111111111111,
              "#46039f"
             ],
             [
              0.2222222222222222,
              "#7201a8"
             ],
             [
              0.3333333333333333,
              "#9c179e"
             ],
             [
              0.4444444444444444,
              "#bd3786"
             ],
             [
              0.5555555555555556,
              "#d8576b"
             ],
             [
              0.6666666666666666,
              "#ed7953"
             ],
             [
              0.7777777777777778,
              "#fb9f3a"
             ],
             [
              0.8888888888888888,
              "#fdca26"
             ],
             [
              1,
              "#f0f921"
             ]
            ],
            "type": "contour"
           }
          ],
          "contourcarpet": [
           {
            "colorbar": {
             "outlinewidth": 0,
             "ticks": ""
            },
            "type": "contourcarpet"
           }
          ],
          "heatmap": [
           {
            "colorbar": {
             "outlinewidth": 0,
             "ticks": ""
            },
            "colorscale": [
             [
              0,
              "#0d0887"
             ],
             [
              0.1111111111111111,
              "#46039f"
             ],
             [
              0.2222222222222222,
              "#7201a8"
             ],
             [
              0.3333333333333333,
              "#9c179e"
             ],
             [
              0.4444444444444444,
              "#bd3786"
             ],
             [
              0.5555555555555556,
              "#d8576b"
             ],
             [
              0.6666666666666666,
              "#ed7953"
             ],
             [
              0.7777777777777778,
              "#fb9f3a"
             ],
             [
              0.8888888888888888,
              "#fdca26"
             ],
             [
              1,
              "#f0f921"
             ]
            ],
            "type": "heatmap"
           }
          ],
          "heatmapgl": [
           {
            "colorbar": {
             "outlinewidth": 0,
             "ticks": ""
            },
            "colorscale": [
             [
              0,
              "#0d0887"
             ],
             [
              0.1111111111111111,
              "#46039f"
             ],
             [
              0.2222222222222222,
              "#7201a8"
             ],
             [
              0.3333333333333333,
              "#9c179e"
             ],
             [
              0.4444444444444444,
              "#bd3786"
             ],
             [
              0.5555555555555556,
              "#d8576b"
             ],
             [
              0.6666666666666666,
              "#ed7953"
             ],
             [
              0.7777777777777778,
              "#fb9f3a"
             ],
             [
              0.8888888888888888,
              "#fdca26"
             ],
             [
              1,
              "#f0f921"
             ]
            ],
            "type": "heatmapgl"
           }
          ],
          "histogram": [
           {
            "marker": {
             "pattern": {
              "fillmode": "overlay",
              "size": 10,
              "solidity": 0.2
             }
            },
            "type": "histogram"
           }
          ],
          "histogram2d": [
           {
            "colorbar": {
             "outlinewidth": 0,
             "ticks": ""
            },
            "colorscale": [
             [
              0,
              "#0d0887"
             ],
             [
              0.1111111111111111,
              "#46039f"
             ],
             [
              0.2222222222222222,
              "#7201a8"
             ],
             [
              0.3333333333333333,
              "#9c179e"
             ],
             [
              0.4444444444444444,
              "#bd3786"
             ],
             [
              0.5555555555555556,
              "#d8576b"
             ],
             [
              0.6666666666666666,
              "#ed7953"
             ],
             [
              0.7777777777777778,
              "#fb9f3a"
             ],
             [
              0.8888888888888888,
              "#fdca26"
             ],
             [
              1,
              "#f0f921"
             ]
            ],
            "type": "histogram2d"
           }
          ],
          "histogram2dcontour": [
           {
            "colorbar": {
             "outlinewidth": 0,
             "ticks": ""
            },
            "colorscale": [
             [
              0,
              "#0d0887"
             ],
             [
              0.1111111111111111,
              "#46039f"
             ],
             [
              0.2222222222222222,
              "#7201a8"
             ],
             [
              0.3333333333333333,
              "#9c179e"
             ],
             [
              0.4444444444444444,
              "#bd3786"
             ],
             [
              0.5555555555555556,
              "#d8576b"
             ],
             [
              0.6666666666666666,
              "#ed7953"
             ],
             [
              0.7777777777777778,
              "#fb9f3a"
             ],
             [
              0.8888888888888888,
              "#fdca26"
             ],
             [
              1,
              "#f0f921"
             ]
            ],
            "type": "histogram2dcontour"
           }
          ],
          "mesh3d": [
           {
            "colorbar": {
             "outlinewidth": 0,
             "ticks": ""
            },
            "type": "mesh3d"
           }
          ],
          "parcoords": [
           {
            "line": {
             "colorbar": {
              "outlinewidth": 0,
              "ticks": ""
             }
            },
            "type": "parcoords"
           }
          ],
          "pie": [
           {
            "automargin": true,
            "type": "pie"
           }
          ],
          "scatter": [
           {
            "fillpattern": {
             "fillmode": "overlay",
             "size": 10,
             "solidity": 0.2
            },
            "type": "scatter"
           }
          ],
          "scatter3d": [
           {
            "line": {
             "colorbar": {
              "outlinewidth": 0,
              "ticks": ""
             }
            },
            "marker": {
             "colorbar": {
              "outlinewidth": 0,
              "ticks": ""
             }
            },
            "type": "scatter3d"
           }
          ],
          "scattercarpet": [
           {
            "marker": {
             "colorbar": {
              "outlinewidth": 0,
              "ticks": ""
             }
            },
            "type": "scattercarpet"
           }
          ],
          "scattergeo": [
           {
            "marker": {
             "colorbar": {
              "outlinewidth": 0,
              "ticks": ""
             }
            },
            "type": "scattergeo"
           }
          ],
          "scattergl": [
           {
            "marker": {
             "colorbar": {
              "outlinewidth": 0,
              "ticks": ""
             }
            },
            "type": "scattergl"
           }
          ],
          "scattermapbox": [
           {
            "marker": {
             "colorbar": {
              "outlinewidth": 0,
              "ticks": ""
             }
            },
            "type": "scattermapbox"
           }
          ],
          "scatterpolar": [
           {
            "marker": {
             "colorbar": {
              "outlinewidth": 0,
              "ticks": ""
             }
            },
            "type": "scatterpolar"
           }
          ],
          "scatterpolargl": [
           {
            "marker": {
             "colorbar": {
              "outlinewidth": 0,
              "ticks": ""
             }
            },
            "type": "scatterpolargl"
           }
          ],
          "scatterternary": [
           {
            "marker": {
             "colorbar": {
              "outlinewidth": 0,
              "ticks": ""
             }
            },
            "type": "scatterternary"
           }
          ],
          "surface": [
           {
            "colorbar": {
             "outlinewidth": 0,
             "ticks": ""
            },
            "colorscale": [
             [
              0,
              "#0d0887"
             ],
             [
              0.1111111111111111,
              "#46039f"
             ],
             [
              0.2222222222222222,
              "#7201a8"
             ],
             [
              0.3333333333333333,
              "#9c179e"
             ],
             [
              0.4444444444444444,
              "#bd3786"
             ],
             [
              0.5555555555555556,
              "#d8576b"
             ],
             [
              0.6666666666666666,
              "#ed7953"
             ],
             [
              0.7777777777777778,
              "#fb9f3a"
             ],
             [
              0.8888888888888888,
              "#fdca26"
             ],
             [
              1,
              "#f0f921"
             ]
            ],
            "type": "surface"
           }
          ],
          "table": [
           {
            "cells": {
             "fill": {
              "color": "#EBF0F8"
             },
             "line": {
              "color": "white"
             }
            },
            "header": {
             "fill": {
              "color": "#C8D4E3"
             },
             "line": {
              "color": "white"
             }
            },
            "type": "table"
           }
          ]
         },
         "layout": {
          "annotationdefaults": {
           "arrowcolor": "#2a3f5f",
           "arrowhead": 0,
           "arrowwidth": 1
          },
          "autotypenumbers": "strict",
          "coloraxis": {
           "colorbar": {
            "outlinewidth": 0,
            "ticks": ""
           }
          },
          "colorscale": {
           "diverging": [
            [
             0,
             "#8e0152"
            ],
            [
             0.1,
             "#c51b7d"
            ],
            [
             0.2,
             "#de77ae"
            ],
            [
             0.3,
             "#f1b6da"
            ],
            [
             0.4,
             "#fde0ef"
            ],
            [
             0.5,
             "#f7f7f7"
            ],
            [
             0.6,
             "#e6f5d0"
            ],
            [
             0.7,
             "#b8e186"
            ],
            [
             0.8,
             "#7fbc41"
            ],
            [
             0.9,
             "#4d9221"
            ],
            [
             1,
             "#276419"
            ]
           ],
           "sequential": [
            [
             0,
             "#0d0887"
            ],
            [
             0.1111111111111111,
             "#46039f"
            ],
            [
             0.2222222222222222,
             "#7201a8"
            ],
            [
             0.3333333333333333,
             "#9c179e"
            ],
            [
             0.4444444444444444,
             "#bd3786"
            ],
            [
             0.5555555555555556,
             "#d8576b"
            ],
            [
             0.6666666666666666,
             "#ed7953"
            ],
            [
             0.7777777777777778,
             "#fb9f3a"
            ],
            [
             0.8888888888888888,
             "#fdca26"
            ],
            [
             1,
             "#f0f921"
            ]
           ],
           "sequentialminus": [
            [
             0,
             "#0d0887"
            ],
            [
             0.1111111111111111,
             "#46039f"
            ],
            [
             0.2222222222222222,
             "#7201a8"
            ],
            [
             0.3333333333333333,
             "#9c179e"
            ],
            [
             0.4444444444444444,
             "#bd3786"
            ],
            [
             0.5555555555555556,
             "#d8576b"
            ],
            [
             0.6666666666666666,
             "#ed7953"
            ],
            [
             0.7777777777777778,
             "#fb9f3a"
            ],
            [
             0.8888888888888888,
             "#fdca26"
            ],
            [
             1,
             "#f0f921"
            ]
           ]
          },
          "colorway": [
           "#636efa",
           "#EF553B",
           "#00cc96",
           "#ab63fa",
           "#FFA15A",
           "#19d3f3",
           "#FF6692",
           "#B6E880",
           "#FF97FF",
           "#FECB52"
          ],
          "font": {
           "color": "#2a3f5f"
          },
          "geo": {
           "bgcolor": "white",
           "lakecolor": "white",
           "landcolor": "#E5ECF6",
           "showlakes": true,
           "showland": true,
           "subunitcolor": "white"
          },
          "hoverlabel": {
           "align": "left"
          },
          "hovermode": "closest",
          "mapbox": {
           "style": "light"
          },
          "paper_bgcolor": "white",
          "plot_bgcolor": "#E5ECF6",
          "polar": {
           "angularaxis": {
            "gridcolor": "white",
            "linecolor": "white",
            "ticks": ""
           },
           "bgcolor": "#E5ECF6",
           "radialaxis": {
            "gridcolor": "white",
            "linecolor": "white",
            "ticks": ""
           }
          },
          "scene": {
           "xaxis": {
            "backgroundcolor": "#E5ECF6",
            "gridcolor": "white",
            "gridwidth": 2,
            "linecolor": "white",
            "showbackground": true,
            "ticks": "",
            "zerolinecolor": "white"
           },
           "yaxis": {
            "backgroundcolor": "#E5ECF6",
            "gridcolor": "white",
            "gridwidth": 2,
            "linecolor": "white",
            "showbackground": true,
            "ticks": "",
            "zerolinecolor": "white"
           },
           "zaxis": {
            "backgroundcolor": "#E5ECF6",
            "gridcolor": "white",
            "gridwidth": 2,
            "linecolor": "white",
            "showbackground": true,
            "ticks": "",
            "zerolinecolor": "white"
           }
          },
          "shapedefaults": {
           "line": {
            "color": "#2a3f5f"
           }
          },
          "ternary": {
           "aaxis": {
            "gridcolor": "white",
            "linecolor": "white",
            "ticks": ""
           },
           "baxis": {
            "gridcolor": "white",
            "linecolor": "white",
            "ticks": ""
           },
           "bgcolor": "#E5ECF6",
           "caxis": {
            "gridcolor": "white",
            "linecolor": "white",
            "ticks": ""
           }
          },
          "title": {
           "x": 0.05
          },
          "xaxis": {
           "automargin": true,
           "gridcolor": "white",
           "linecolor": "white",
           "ticks": "",
           "title": {
            "standoff": 15
           },
           "zerolinecolor": "white",
           "zerolinewidth": 2
          },
          "yaxis": {
           "automargin": true,
           "gridcolor": "white",
           "linecolor": "white",
           "ticks": "",
           "title": {
            "standoff": 15
           },
           "zerolinecolor": "white",
           "zerolinewidth": 2
          }
         }
        },
        "title": {
         "text": "Testing"
        },
        "width": 600,
        "xaxis": {
         "dtick": 1,
         "gridcolor": "rgb(0, 0, 0)",
         "side": "top",
         "ticks": "",
         "title": {
          "text": "Predicted Label"
         }
        },
        "yaxis": {
         "dtick": 1,
         "ticks": "",
         "ticksuffix": "  ",
         "title": {
          "text": "True Label"
         }
        }
       }
      }
     },
     "metadata": {},
     "output_type": "display_data"
    }
   ],
   "source": [
    "# testing\n",
    "# Construimos una visualización para la matriz de confusión\n",
    "z_test = confusion_matrix(np.argmax(testy,axis=1), np.argmax(pred_test,axis=1))\n",
    "# Reformateo la matriz para que me quede mejor el gráfico\n",
    "z_test[[0,2],:] = z_test[[2,0],:]\n",
    "x = ['Healthy', 'OR fault', 'IR fault']\n",
    "y = ['IR fault', 'OR fault', 'Healthy']\n",
    "z_text = [[str(y) for y in x] for x in z_test]\n",
    "heatmap = ff.create_annotated_heatmap(z_test, x=x, y=y, annotation_text=z_text, colorscale='cividis')\n",
    "heatmap.update_layout(title_text='Testing',height=300,width=600,\n",
    "                      xaxis_title=\"Predicted Label\",yaxis_title=\"True Label\")\n",
    "heatmap.show()"
   ]
  },
  {
   "cell_type": "code",
   "execution_count": 9,
   "metadata": {},
   "outputs": [
    {
     "data": {
      "image/png": "[encoded data removed]",
      "text/plain": [
       "<Figure size 1500x400 with 3 Axes>"
      ]
     },
     "metadata": {},
     "output_type": "display_data"
    }
   ],
   "source": [
    "# E = 900 # training episode number ==> aumentar epochs\n",
    "# M = 300 # experience pool capacity\n",
    "# R = 64 # replay size\n",
    "# T = 64 # game rounds in one episode\n",
    "# C = 10 # copy period: training steps to update periodicity of target network\n",
    "# discount_factor = 0.02 # gamma\n",
    "# learning_rate = 0.001 # alpha\n",
    "# # epsilon-greedy:\n",
    "# # tradeoff between exploration and exploitation\n",
    "# epsilon_0 = 0.4  # exploration probability at start\n",
    "# epsilon_min = 0.001  # minimum exploration probability\n",
    "# epsilon_decay = 0.3  # exponential decay rate for exploration prob\n",
    "# Modelo con 2 capas de Conv1D\n",
    "# con datos normalizados!\n",
    "# guardando el mejor modelo, no el último\n",
    "\n",
    "fig, axs = plt.subplots(1, 3, figsize=(15, 4))\n",
    "\n",
    "axs[0].plot(acc_episode)\n",
    "axs[0].set(xlabel='Accuracy')\n",
    "\n",
    "axs[1].plot(loss_episode)\n",
    "axs[1].set(xlabel='Loss')\n",
    "\n",
    "axs[2].plot(cum_reward_episode)\n",
    "axs[2].set(xlabel='Reward')\n",
    "\n",
    "plt.show()"
   ]
  },
  {
   "cell_type": "code",
   "execution_count": 10,
   "metadata": {},
   "outputs": [
    {
     "name": "stdout",
     "output_type": "stream",
     "text": [
      "330/330 [==============================] - 6s 18ms/step\n",
      "Test accuracy:  0.8507349454717876\n"
     ]
    }
   ],
   "source": [
    "pred_test = ddqn_model.predict(testX)\n",
    "\n",
    "test_acc = accuracy_score(np.argmax(testy,axis=1), np.argmax(pred_test,axis=1))\n",
    "print('Test accuracy: ',test_acc)"
   ]
  },
  {
   "cell_type": "code",
   "execution_count": 8,
   "metadata": {},
   "outputs": [
    {
     "data": {
      "image/png": "[encoded data removed]",
      "text/plain": [
       "<Figure size 1500x400 with 3 Axes>"
      ]
     },
     "metadata": {},
     "output_type": "display_data"
    }
   ],
   "source": [
    "# E = 900 # training episode number ==> aumentar epochs\n",
    "# M = 300 # experience pool capacity\n",
    "# R = 80 # replay size\n",
    "# T = 80 # game rounds in one episode\n",
    "# C = 10 # copy period: training steps to update periodicity of target network\n",
    "# discount_factor = 0.01 # gamma\n",
    "# learning_rate = 0.001 # alpha\n",
    "# # epsilon-greedy:\n",
    "# # tradeoff between exploration and exploitation\n",
    "# epsilon_0 = 0.4  # exploration probability at start\n",
    "# epsilon_min = 0.01  # minimum exploration probability\n",
    "# epsilon_decay = 0.3  # exponential decay rate for exploration prob\n",
    "# Modelo con 2 capas de Conv1D\n",
    "# con datos normalizados!\n",
    "# guardando el mejor modelo, no el último\n",
    "\n",
    "fig, axs = plt.subplots(1, 3, figsize=(15, 4))\n",
    "\n",
    "axs[0].plot(acc_episode)\n",
    "axs[0].set(xlabel='Accuracy')\n",
    "\n",
    "axs[1].plot(loss_episode)\n",
    "axs[1].set(xlabel='Loss')\n",
    "\n",
    "axs[2].plot(cum_reward_episode)\n",
    "axs[2].set(xlabel='Reward')\n",
    "\n",
    "plt.show()"
   ]
  },
  {
   "cell_type": "code",
   "execution_count": 9,
   "metadata": {},
   "outputs": [
    {
     "name": "stdout",
     "output_type": "stream",
     "text": [
      "330/330 [==============================] - 8s 25ms/step\n",
      "Test accuracy:  0.8306306306306306\n"
     ]
    }
   ],
   "source": [
    "pred_test = ddqn_model.predict(testX)\n",
    "\n",
    "test_acc = accuracy_score(np.argmax(testy,axis=1), np.argmax(pred_test,axis=1))\n",
    "print('Test accuracy: ',test_acc)"
   ]
  },
  {
   "cell_type": "code",
   "execution_count": 8,
   "metadata": {},
   "outputs": [
    {
     "data": {
      "image/png": "[encoded data removed]",
      "text/plain": [
       "<Figure size 1500x400 with 3 Axes>"
      ]
     },
     "metadata": {},
     "output_type": "display_data"
    }
   ],
   "source": [
    "# E = 900 # training episode number ==> aumentar epochs\n",
    "# M = 300 # experience pool capacity\n",
    "# R = 64 # replay size\n",
    "# T = 64 # game rounds in one episode\n",
    "# C = 20 # copy period: training steps to update periodicity of target network\n",
    "# discount_factor = 0.05 # gamma\n",
    "# learning_rate = 0.001 # alpha\n",
    "# # epsilon-greedy:\n",
    "# # tradeoff between exploration and exploitation\n",
    "# epsilon_0 = 0.4  # exploration probability at start\n",
    "# epsilon_min = 0.01  # minimum exploration probability\n",
    "# epsilon_decay = 0.3  # exponential decay rate for exploration prob\n",
    "# Modelo con 2 capas de Conv1D\n",
    "# con datos normalizados!\n",
    "# guardando el mejor modelo, no el último\n",
    "\n",
    "fig, axs = plt.subplots(1, 3, figsize=(15, 4))\n",
    "\n",
    "axs[0].plot(acc_episode)\n",
    "axs[0].set(xlabel='Accuracy')\n",
    "\n",
    "axs[1].plot(loss_episode)\n",
    "axs[1].set(xlabel='Loss')\n",
    "\n",
    "axs[2].plot(cum_reward_episode)\n",
    "axs[2].set(xlabel='Reward')\n",
    "\n",
    "plt.show()"
   ]
  },
  {
   "cell_type": "code",
   "execution_count": 9,
   "metadata": {},
   "outputs": [
    {
     "name": "stdout",
     "output_type": "stream",
     "text": [
      "330/330 [==============================] - 6s 18ms/step\n",
      "Test accuracy:  0.8297771455666193\n"
     ]
    }
   ],
   "source": [
    "pred_test = ddqn_model.predict(testX)\n",
    "\n",
    "test_acc = accuracy_score(np.argmax(testy,axis=1), np.argmax(pred_test,axis=1))\n",
    "print('Test accuracy: ',test_acc)"
   ]
  },
  {
   "cell_type": "code",
   "execution_count": 12,
   "metadata": {},
   "outputs": [
    {
     "data": {
      "image/png": "[encoded data removed]",
      "text/plain": [
       "<Figure size 1500x400 with 3 Axes>"
      ]
     },
     "metadata": {},
     "output_type": "display_data"
    }
   ],
   "source": [
    "# E = 900 # training episode number ==> aumentar epochs\n",
    "# M = 300 # experience pool capacity\n",
    "# R = 64 # replay size\n",
    "# T = 64 # game rounds in one episode\n",
    "# C = 10 # copy period: training steps to update periodicity of target network\n",
    "# discount_factor = 0.001 # gamma\n",
    "# learning_rate = 0.001 # alpha\n",
    "# # epsilon-greedy:\n",
    "# # tradeoff between exploration and exploitation\n",
    "# epsilon_0 = 0.4  # exploration probability at start\n",
    "# epsilon_min = 0.01  # minimum exploration probability\n",
    "# epsilon_decay = 0.3  # exponential decay rate for exploration prob\n",
    "# Modelo con 2 capas de Conv1D\n",
    "# con datos normalizados!\n",
    "# guardando el mejor modelo, no el último\n",
    "\n",
    "fig, axs = plt.subplots(1, 3, figsize=(15, 4))\n",
    "\n",
    "axs[0].plot(acc_episode)\n",
    "axs[0].set(xlabel='Accuracy')\n",
    "\n",
    "axs[1].plot(loss_episode)\n",
    "axs[1].set(xlabel='Loss')\n",
    "\n",
    "axs[2].plot(cum_reward_episode)\n",
    "axs[2].set(xlabel='Reward')\n",
    "\n",
    "plt.show()"
   ]
  },
  {
   "cell_type": "code",
   "execution_count": 13,
   "metadata": {},
   "outputs": [
    {
     "name": "stdout",
     "output_type": "stream",
     "text": [
      "330/330 [==============================] - 5s 16ms/step\n",
      "Test accuracy:  0.7735419630156473\n"
     ]
    }
   ],
   "source": [
    "pred_test = ddqn_model.predict(testX)\n",
    "\n",
    "test_acc = accuracy_score(np.argmax(testy,axis=1), np.argmax(pred_test,axis=1))\n",
    "print('Test accuracy: ',test_acc)"
   ]
  },
  {
   "cell_type": "code",
   "execution_count": 15,
   "metadata": {},
   "outputs": [
    {
     "data": {
      "image/png": "[encoded data removed]",
      "text/plain": [
       "<Figure size 1500x400 with 3 Axes>"
      ]
     },
     "metadata": {},
     "output_type": "display_data"
    }
   ],
   "source": [
    "# E = 1000 # training episode number ==> aumentar epochs\n",
    "# M = 300 # experience pool capacity\n",
    "# R = 64 # replay size\n",
    "# T = 64 # game rounds in one episode\n",
    "# C = 10 # copy period: training steps to update periodicity of target network\n",
    "# discount_factor = 0.01 # gamma\n",
    "# learning_rate = 0.001 # alpha\n",
    "# # epsilon-greedy:\n",
    "# # tradeoff between exploration and exploitation\n",
    "# epsilon_0 = 0.4  # exploration probability at start\n",
    "# epsilon_min = 0.01  # minimum exploration probability\n",
    "# epsilon_decay = 0.3  # exponential decay rate for exploration prob\n",
    "# Modelo con 2 capas de Conv1D\n",
    "# con datos normalizados!\n",
    "# guardando el mejor modelo, no el último\n",
    "\n",
    "fig, axs = plt.subplots(1, 3, figsize=(15, 4))\n",
    "\n",
    "axs[0].plot(acc_episode)\n",
    "axs[0].set(xlabel='Accuracy')\n",
    "\n",
    "axs[1].plot(loss_episode)\n",
    "axs[1].set(xlabel='Loss')\n",
    "\n",
    "axs[2].plot(cum_reward_episode)\n",
    "axs[2].set(xlabel='Reward')\n",
    "\n",
    "plt.show()"
   ]
  },
  {
   "cell_type": "code",
   "execution_count": 16,
   "metadata": {},
   "outputs": [
    {
     "name": "stdout",
     "output_type": "stream",
     "text": [
      "330/330 [==============================] - 8s 24ms/step\n",
      "Test accuracy:  0.8221906116642959\n"
     ]
    }
   ],
   "source": [
    "pred_test = ddqn_model.predict(testX)\n",
    "\n",
    "test_acc = accuracy_score(np.argmax(testy,axis=1), np.argmax(pred_test,axis=1))\n",
    "print('Test accuracy: ',test_acc)"
   ]
  },
  {
   "cell_type": "code",
   "execution_count": 11,
   "metadata": {},
   "outputs": [
    {
     "data": {
      "image/png": "[encoded data removed]",
      "text/plain": [
       "<Figure size 1500x400 with 3 Axes>"
      ]
     },
     "metadata": {},
     "output_type": "display_data"
    }
   ],
   "source": [
    "# E = 800 # training episode number ==> aumentar epochs\n",
    "# M = 300 # experience pool capacity\n",
    "# R = 64 # replay size\n",
    "# T = 64 # game rounds in one episode\n",
    "# C = 10 # copy period: training steps to update periodicity of target network\n",
    "# discount_factor = 0.01 # gamma\n",
    "# learning_rate = 0.001 # alpha\n",
    "# # epsilon-greedy:\n",
    "# # tradeoff between exploration and exploitation\n",
    "# epsilon_0 = 0.4  # exploration probability at start\n",
    "# epsilon_min = 0.01  # minimum exploration probability\n",
    "# epsilon_decay = 0.3  # exponential decay rate for exploration prob\n",
    "# Modelo con 2 capas de Conv1D\n",
    "# con datos normalizados!\n",
    "\n",
    "fig, axs = plt.subplots(1, 3, figsize=(15, 4))\n",
    "\n",
    "axs[0].plot(acc_episode)\n",
    "axs[0].set(xlabel='Accuracy')\n",
    "\n",
    "axs[1].plot(loss_episode)\n",
    "axs[1].set(xlabel='Loss')\n",
    "\n",
    "axs[2].plot(cum_reward_episode)\n",
    "axs[2].set(xlabel='Reward')\n",
    "\n",
    "plt.show()"
   ]
  },
  {
   "cell_type": "code",
   "execution_count": 13,
   "metadata": {},
   "outputs": [
    {
     "name": "stdout",
     "output_type": "stream",
     "text": [
      "330/330 [==============================] - 5s 15ms/step\n",
      "Test accuracy:  0.8537695590327169\n"
     ]
    }
   ],
   "source": [
    "pred_test = ddqn_model.predict(testX)\n",
    "\n",
    "test_acc = accuracy_score(np.argmax(testy,axis=1), np.argmax(pred_test,axis=1))\n",
    "print('Test accuracy: ',test_acc)"
   ]
  },
  {
   "cell_type": "code",
   "execution_count": 14,
   "metadata": {},
   "outputs": [
    {
     "name": "stdout",
     "output_type": "stream",
     "text": [
      "              precision    recall  f1-score   support\n",
      "\n",
      "     Healthy     0.9129    0.8440    0.8771      3552\n",
      "    OR fault     0.9260    0.8061    0.8619      3600\n",
      "    IR fault     0.7519    0.9145    0.8253      3393\n",
      "\n",
      "    accuracy                         0.8538     10545\n",
      "   macro avg     0.8636    0.8549    0.8548     10545\n",
      "weighted avg     0.8656    0.8538    0.8552     10545\n",
      "\n"
     ]
    }
   ],
   "source": [
    "print(classification_report(np.argmax(testy,axis=1), np.argmax(pred_test,axis=1), target_names=['Healthy', 'OR fault', 'IR fault'],digits=4))"
   ]
  },
  {
   "cell_type": "code",
   "execution_count": 15,
   "metadata": {},
   "outputs": [
    {
     "data": {
      "application/vnd.plotly.v1+json": {
       "config": {
        "plotlyServerURL": "https://plot.ly"
       },
       "data": [
        {
         "colorscale": [
          [
           0,
           "rgb(0, 147, 146)"
          ],
          [
           0.16666666666666666,
           "rgb(114, 170, 161)"
          ],
          [
           0.3333333333333333,
           "rgb(177, 199, 179)"
          ],
          [
           0.5,
           "rgb(241, 234, 200)"
          ],
          [
           0.6666666666666666,
           "rgb(229, 185, 173)"
          ],
          [
           0.8333333333333334,
           "rgb(217, 137, 148)"
          ],
          [
           1,
           "rgb(208, 88, 126)"
          ]
         ],
         "reversescale": false,
         "showscale": false,
         "type": "heatmap",
         "x": [
          "Healthy",
          "OR fault",
          "IR fault"
         ],
         "y": [
          "IR fault",
          "OR fault",
          "Healthy"
         ],
         "z": [
          [
           156,
           134,
           3103
          ],
          [
           130,
           2902,
           568
          ],
          [
           2998,
           98,
           456
          ]
         ]
        }
       ],
       "layout": {
        "annotations": [
         {
          "font": {
           "color": "#FFFFFF"
          },
          "showarrow": false,
          "text": "156",
          "x": "Healthy",
          "xref": "x",
          "y": "IR fault",
          "yref": "y"
         },
         {
          "font": {
           "color": "#FFFFFF"
          },
          "showarrow": false,
          "text": "134",
          "x": "OR fault",
          "xref": "x",
          "y": "IR fault",
          "yref": "y"
         },
         {
          "font": {
           "color": "#FFFFFF"
          },
          "showarrow": false,
          "text": "3103",
          "x": "IR fault",
          "xref": "x",
          "y": "IR fault",
          "yref": "y"
         },
         {
          "font": {
           "color": "#FFFFFF"
          },
          "showarrow": false,
          "text": "130",
          "x": "Healthy",
          "xref": "x",
          "y": "OR fault",
          "yref": "y"
         },
         {
          "font": {
           "color": "#FFFFFF"
          },
          "showarrow": false,
          "text": "2902",
          "x": "OR fault",
          "xref": "x",
          "y": "OR fault",
          "yref": "y"
         },
         {
          "font": {
           "color": "#FFFFFF"
          },
          "showarrow": false,
          "text": "568",
          "x": "IR fault",
          "xref": "x",
          "y": "OR fault",
          "yref": "y"
         },
         {
          "font": {
           "color": "#FFFFFF"
          },
          "showarrow": false,
          "text": "2998",
          "x": "Healthy",
          "xref": "x",
          "y": "Healthy",
          "yref": "y"
         },
         {
          "font": {
           "color": "#FFFFFF"
          },
          "showarrow": false,
          "text": "98",
          "x": "OR fault",
          "xref": "x",
          "y": "Healthy",
          "yref": "y"
         },
         {
          "font": {
           "color": "#FFFFFF"
          },
          "showarrow": false,
          "text": "456",
          "x": "IR fault",
          "xref": "x",
          "y": "Healthy",
          "yref": "y"
         }
        ],
        "height": 300,
        "template": {
         "data": {
          "bar": [
           {
            "error_x": {
             "color": "#2a3f5f"
            },
            "error_y": {
             "color": "#2a3f5f"
            },
            "marker": {
             "line": {
              "color": "#E5ECF6",
              "width": 0.5
             },
             "pattern": {
              "fillmode": "overlay",
              "size": 10,
              "solidity": 0.2
             }
            },
            "type": "bar"
           }
          ],
          "barpolar": [
           {
            "marker": {
             "line": {
              "color": "#E5ECF6",
              "width": 0.5
             },
             "pattern": {
              "fillmode": "overlay",
              "size": 10,
              "solidity": 0.2
             }
            },
            "type": "barpolar"
           }
          ],
          "carpet": [
           {
            "aaxis": {
             "endlinecolor": "#2a3f5f",
             "gridcolor": "white",
             "linecolor": "white",
             "minorgridcolor": "white",
             "startlinecolor": "#2a3f5f"
            },
            "baxis": {
             "endlinecolor": "#2a3f5f",
             "gridcolor": "white",
             "linecolor": "white",
             "minorgridcolor": "white",
             "startlinecolor": "#2a3f5f"
            },
            "type": "carpet"
           }
          ],
          "choropleth": [
           {
            "colorbar": {
             "outlinewidth": 0,
             "ticks": ""
            },
            "type": "choropleth"
           }
          ],
          "contour": [
           {
            "colorbar": {
             "outlinewidth": 0,
             "ticks": ""
            },
            "colorscale": [
             [
              0,
              "#0d0887"
             ],
             [
              0.1111111111111111,
              "#46039f"
             ],
             [
              0.2222222222222222,
              "#7201a8"
             ],
             [
              0.3333333333333333,
              "#9c179e"
             ],
             [
              0.4444444444444444,
              "#bd3786"
             ],
             [
              0.5555555555555556,
              "#d8576b"
             ],
             [
              0.6666666666666666,
              "#ed7953"
             ],
             [
              0.7777777777777778,
              "#fb9f3a"
             ],
             [
              0.8888888888888888,
              "#fdca26"
             ],
             [
              1,
              "#f0f921"
             ]
            ],
            "type": "contour"
           }
          ],
          "contourcarpet": [
           {
            "colorbar": {
             "outlinewidth": 0,
             "ticks": ""
            },
            "type": "contourcarpet"
           }
          ],
          "heatmap": [
           {
            "colorbar": {
             "outlinewidth": 0,
             "ticks": ""
            },
            "colorscale": [
             [
              0,
              "#0d0887"
             ],
             [
              0.1111111111111111,
              "#46039f"
             ],
             [
              0.2222222222222222,
              "#7201a8"
             ],
             [
              0.3333333333333333,
              "#9c179e"
             ],
             [
              0.4444444444444444,
              "#bd3786"
             ],
             [
              0.5555555555555556,
              "#d8576b"
             ],
             [
              0.6666666666666666,
              "#ed7953"
             ],
             [
              0.7777777777777778,
              "#fb9f3a"
             ],
             [
              0.8888888888888888,
              "#fdca26"
             ],
             [
              1,
              "#f0f921"
             ]
            ],
            "type": "heatmap"
           }
          ],
          "heatmapgl": [
           {
            "colorbar": {
             "outlinewidth": 0,
             "ticks": ""
            },
            "colorscale": [
             [
              0,
              "#0d0887"
             ],
             [
              0.1111111111111111,
              "#46039f"
             ],
             [
              0.2222222222222222,
              "#7201a8"
             ],
             [
              0.3333333333333333,
              "#9c179e"
             ],
             [
              0.4444444444444444,
              "#bd3786"
             ],
             [
              0.5555555555555556,
              "#d8576b"
             ],
             [
              0.6666666666666666,
              "#ed7953"
             ],
             [
              0.7777777777777778,
              "#fb9f3a"
             ],
             [
              0.8888888888888888,
              "#fdca26"
             ],
             [
              1,
              "#f0f921"
             ]
            ],
            "type": "heatmapgl"
           }
          ],
          "histogram": [
           {
            "marker": {
             "pattern": {
              "fillmode": "overlay",
              "size": 10,
              "solidity": 0.2
             }
            },
            "type": "histogram"
           }
          ],
          "histogram2d": [
           {
            "colorbar": {
             "outlinewidth": 0,
             "ticks": ""
            },
            "colorscale": [
             [
              0,
              "#0d0887"
             ],
             [
              0.1111111111111111,
              "#46039f"
             ],
             [
              0.2222222222222222,
              "#7201a8"
             ],
             [
              0.3333333333333333,
              "#9c179e"
             ],
             [
              0.4444444444444444,
              "#bd3786"
             ],
             [
              0.5555555555555556,
              "#d8576b"
             ],
             [
              0.6666666666666666,
              "#ed7953"
             ],
             [
              0.7777777777777778,
              "#fb9f3a"
             ],
             [
              0.8888888888888888,
              "#fdca26"
             ],
             [
              1,
              "#f0f921"
             ]
            ],
            "type": "histogram2d"
           }
          ],
          "histogram2dcontour": [
           {
            "colorbar": {
             "outlinewidth": 0,
             "ticks": ""
            },
            "colorscale": [
             [
              0,
              "#0d0887"
             ],
             [
              0.1111111111111111,
              "#46039f"
             ],
             [
              0.2222222222222222,
              "#7201a8"
             ],
             [
              0.3333333333333333,
              "#9c179e"
             ],
             [
              0.4444444444444444,
              "#bd3786"
             ],
             [
              0.5555555555555556,
              "#d8576b"
             ],
             [
              0.6666666666666666,
              "#ed7953"
             ],
             [
              0.7777777777777778,
              "#fb9f3a"
             ],
             [
              0.8888888888888888,
              "#fdca26"
             ],
             [
              1,
              "#f0f921"
             ]
            ],
            "type": "histogram2dcontour"
           }
          ],
          "mesh3d": [
           {
            "colorbar": {
             "outlinewidth": 0,
             "ticks": ""
            },
            "type": "mesh3d"
           }
          ],
          "parcoords": [
           {
            "line": {
             "colorbar": {
              "outlinewidth": 0,
              "ticks": ""
             }
            },
            "type": "parcoords"
           }
          ],
          "pie": [
           {
            "automargin": true,
            "type": "pie"
           }
          ],
          "scatter": [
           {
            "fillpattern": {
             "fillmode": "overlay",
             "size": 10,
             "solidity": 0.2
            },
            "type": "scatter"
           }
          ],
          "scatter3d": [
           {
            "line": {
             "colorbar": {
              "outlinewidth": 0,
              "ticks": ""
             }
            },
            "marker": {
             "colorbar": {
              "outlinewidth": 0,
              "ticks": ""
             }
            },
            "type": "scatter3d"
           }
          ],
          "scattercarpet": [
           {
            "marker": {
             "colorbar": {
              "outlinewidth": 0,
              "ticks": ""
             }
            },
            "type": "scattercarpet"
           }
          ],
          "scattergeo": [
           {
            "marker": {
             "colorbar": {
              "outlinewidth": 0,
              "ticks": ""
             }
            },
            "type": "scattergeo"
           }
          ],
          "scattergl": [
           {
            "marker": {
             "colorbar": {
              "outlinewidth": 0,
              "ticks": ""
             }
            },
            "type": "scattergl"
           }
          ],
          "scattermapbox": [
           {
            "marker": {
             "colorbar": {
              "outlinewidth": 0,
              "ticks": ""
             }
            },
            "type": "scattermapbox"
           }
          ],
          "scatterpolar": [
           {
            "marker": {
             "colorbar": {
              "outlinewidth": 0,
              "ticks": ""
             }
            },
            "type": "scatterpolar"
           }
          ],
          "scatterpolargl": [
           {
            "marker": {
             "colorbar": {
              "outlinewidth": 0,
              "ticks": ""
             }
            },
            "type": "scatterpolargl"
           }
          ],
          "scatterternary": [
           {
            "marker": {
             "colorbar": {
              "outlinewidth": 0,
              "ticks": ""
             }
            },
            "type": "scatterternary"
           }
          ],
          "surface": [
           {
            "colorbar": {
             "outlinewidth": 0,
             "ticks": ""
            },
            "colorscale": [
             [
              0,
              "#0d0887"
             ],
             [
              0.1111111111111111,
              "#46039f"
             ],
             [
              0.2222222222222222,
              "#7201a8"
             ],
             [
              0.3333333333333333,
              "#9c179e"
             ],
             [
              0.4444444444444444,
              "#bd3786"
             ],
             [
              0.5555555555555556,
              "#d8576b"
             ],
             [
              0.6666666666666666,
              "#ed7953"
             ],
             [
              0.7777777777777778,
              "#fb9f3a"
             ],
             [
              0.8888888888888888,
              "#fdca26"
             ],
             [
              1,
              "#f0f921"
             ]
            ],
            "type": "surface"
           }
          ],
          "table": [
           {
            "cells": {
             "fill": {
              "color": "#EBF0F8"
             },
             "line": {
              "color": "white"
             }
            },
            "header": {
             "fill": {
              "color": "#C8D4E3"
             },
             "line": {
              "color": "white"
             }
            },
            "type": "table"
           }
          ]
         },
         "layout": {
          "annotationdefaults": {
           "arrowcolor": "#2a3f5f",
           "arrowhead": 0,
           "arrowwidth": 1
          },
          "autotypenumbers": "strict",
          "coloraxis": {
           "colorbar": {
            "outlinewidth": 0,
            "ticks": ""
           }
          },
          "colorscale": {
           "diverging": [
            [
             0,
             "#8e0152"
            ],
            [
             0.1,
             "#c51b7d"
            ],
            [
             0.2,
             "#de77ae"
            ],
            [
             0.3,
             "#f1b6da"
            ],
            [
             0.4,
             "#fde0ef"
            ],
            [
             0.5,
             "#f7f7f7"
            ],
            [
             0.6,
             "#e6f5d0"
            ],
            [
             0.7,
             "#b8e186"
            ],
            [
             0.8,
             "#7fbc41"
            ],
            [
             0.9,
             "#4d9221"
            ],
            [
             1,
             "#276419"
            ]
           ],
           "sequential": [
            [
             0,
             "#0d0887"
            ],
            [
             0.1111111111111111,
             "#46039f"
            ],
            [
             0.2222222222222222,
             "#7201a8"
            ],
            [
             0.3333333333333333,
             "#9c179e"
            ],
            [
             0.4444444444444444,
             "#bd3786"
            ],
            [
             0.5555555555555556,
             "#d8576b"
            ],
            [
             0.6666666666666666,
             "#ed7953"
            ],
            [
             0.7777777777777778,
             "#fb9f3a"
            ],
            [
             0.8888888888888888,
             "#fdca26"
            ],
            [
             1,
             "#f0f921"
            ]
           ],
           "sequentialminus": [
            [
             0,
             "#0d0887"
            ],
            [
             0.1111111111111111,
             "#46039f"
            ],
            [
             0.2222222222222222,
             "#7201a8"
            ],
            [
             0.3333333333333333,
             "#9c179e"
            ],
            [
             0.4444444444444444,
             "#bd3786"
            ],
            [
             0.5555555555555556,
             "#d8576b"
            ],
            [
             0.6666666666666666,
             "#ed7953"
            ],
            [
             0.7777777777777778,
             "#fb9f3a"
            ],
            [
             0.8888888888888888,
             "#fdca26"
            ],
            [
             1,
             "#f0f921"
            ]
           ]
          },
          "colorway": [
           "#636efa",
           "#EF553B",
           "#00cc96",
           "#ab63fa",
           "#FFA15A",
           "#19d3f3",
           "#FF6692",
           "#B6E880",
           "#FF97FF",
           "#FECB52"
          ],
          "font": {
           "color": "#2a3f5f"
          },
          "geo": {
           "bgcolor": "white",
           "lakecolor": "white",
           "landcolor": "#E5ECF6",
           "showlakes": true,
           "showland": true,
           "subunitcolor": "white"
          },
          "hoverlabel": {
           "align": "left"
          },
          "hovermode": "closest",
          "mapbox": {
           "style": "light"
          },
          "paper_bgcolor": "white",
          "plot_bgcolor": "#E5ECF6",
          "polar": {
           "angularaxis": {
            "gridcolor": "white",
            "linecolor": "white",
            "ticks": ""
           },
           "bgcolor": "#E5ECF6",
           "radialaxis": {
            "gridcolor": "white",
            "linecolor": "white",
            "ticks": ""
           }
          },
          "scene": {
           "xaxis": {
            "backgroundcolor": "#E5ECF6",
            "gridcolor": "white",
            "gridwidth": 2,
            "linecolor": "white",
            "showbackground": true,
            "ticks": "",
            "zerolinecolor": "white"
           },
           "yaxis": {
            "backgroundcolor": "#E5ECF6",
            "gridcolor": "white",
            "gridwidth": 2,
            "linecolor": "white",
            "showbackground": true,
            "ticks": "",
            "zerolinecolor": "white"
           },
           "zaxis": {
            "backgroundcolor": "#E5ECF6",
            "gridcolor": "white",
            "gridwidth": 2,
            "linecolor": "white",
            "showbackground": true,
            "ticks": "",
            "zerolinecolor": "white"
           }
          },
          "shapedefaults": {
           "line": {
            "color": "#2a3f5f"
           }
          },
          "ternary": {
           "aaxis": {
            "gridcolor": "white",
            "linecolor": "white",
            "ticks": ""
           },
           "baxis": {
            "gridcolor": "white",
            "linecolor": "white",
            "ticks": ""
           },
           "bgcolor": "#E5ECF6",
           "caxis": {
            "gridcolor": "white",
            "linecolor": "white",
            "ticks": ""
           }
          },
          "title": {
           "x": 0.05
          },
          "xaxis": {
           "automargin": true,
           "gridcolor": "white",
           "linecolor": "white",
           "ticks": "",
           "title": {
            "standoff": 15
           },
           "zerolinecolor": "white",
           "zerolinewidth": 2
          },
          "yaxis": {
           "automargin": true,
           "gridcolor": "white",
           "linecolor": "white",
           "ticks": "",
           "title": {
            "standoff": 15
           },
           "zerolinecolor": "white",
           "zerolinewidth": 2
          }
         }
        },
        "title": {
         "text": "Testing"
        },
        "width": 600,
        "xaxis": {
         "dtick": 1,
         "gridcolor": "rgb(0, 0, 0)",
         "side": "top",
         "ticks": "",
         "title": {
          "text": "Predicted Label"
         }
        },
        "yaxis": {
         "dtick": 1,
         "ticks": "",
         "ticksuffix": "  ",
         "title": {
          "text": "True Label"
         }
        }
       }
      }
     },
     "metadata": {},
     "output_type": "display_data"
    }
   ],
   "source": [
    "# testing\n",
    "# Construimos una visualización para la matriz de confusión\n",
    "z_test = confusion_matrix(np.argmax(testy,axis=1), np.argmax(pred_test,axis=1))\n",
    "# Reformateo la matriz para que me quede mejor el gráfico\n",
    "z_test[[0,2],:] = z_test[[2,0],:]\n",
    "x = ['Healthy', 'OR fault', 'IR fault']\n",
    "y = ['IR fault', 'OR fault', 'Healthy']\n",
    "z_text = [[str(y) for y in x] for x in z_test]\n",
    "heatmap = ff.create_annotated_heatmap(z_test, x=x, y=y, annotation_text=z_text, colorscale='tealrose')\n",
    "heatmap.update_layout(title_text='Testing',height=300,width=600,\n",
    "                      xaxis_title=\"Predicted Label\",yaxis_title=\"True Label\")\n",
    "heatmap.show()"
   ]
  }
 ],
 "metadata": {
  "kernelspec": {
   "display_name": "Python 3",
   "language": "python",
   "name": "python3"
  },
  "language_info": {
   "codemirror_mode": {
    "name": "ipython",
    "version": 3
   },
   "file_extension": ".py",
   "mimetype": "text/x-python",
   "name": "python",
   "nbconvert_exporter": "python",
   "pygments_lexer": "ipython3",
   "version": "3.9.5"
  },
  "orig_nbformat": 4,
  "vscode": {
   "interpreter": {
    "hash": "55923a6ed19f62c923f4f9446379b87364bb44c28ea18797870eef05a25fc661"
   }
  }
 },
 "nbformat": 4,
 "nbformat_minor": 2
}
